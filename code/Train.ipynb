{
 "cells": [
  {
   "cell_type": "markdown",
   "id": "38ea8194",
   "metadata": {},
   "source": [
    "# Appling machine learning to audio analysis"
   ]
  },
  {
   "cell_type": "markdown",
   "id": "965a361c",
   "metadata": {},
   "source": [
    "### Trainning Code"
   ]
  },
  {
   "cell_type": "code",
   "execution_count": 1,
   "id": "32435a3d",
   "metadata": {
    "scrolled": true
   },
   "outputs": [],
   "source": [
    "### Dependencies were already installed previously on ubuntu\n",
    "### Comet: experiment tracking and visual tools\n",
    "\n",
    "from comet_ml import Experiment\n",
    "\n",
    "import IPython.display as ipd\n",
    "import numpy as np\n",
    "import pandas as pd\n",
    "import librosa # audio analysis\n",
    "import librosa.display # this submodule needs to be imported explicitly\n",
    "import matplotlib.pyplot as plt\n",
    "from scipy.io import wavfile as wav\n",
    "import os"
   ]
  },
  {
   "cell_type": "code",
   "execution_count": 2,
   "id": "f9f86e6c",
   "metadata": {},
   "outputs": [],
   "source": [
    "from sklearn import metrics\n",
    "from sklearn.preprocessing import LabelEncoder\n",
    "from sklearn.model_selection import train_test_split"
   ]
  },
  {
   "cell_type": "code",
   "execution_count": 3,
   "id": "3b22f8aa",
   "metadata": {
    "scrolled": true
   },
   "outputs": [
    {
     "name": "stderr",
     "output_type": "stream",
     "text": [
      "2021-12-16 17:23:51.431350: W tensorflow/stream_executor/platform/default/dso_loader.cc:64] Could not load dynamic library 'libcudart.so.11.0'; dlerror: libcudart.so.11.0: cannot open shared object file: No such file or directory\n",
      "2021-12-16 17:23:51.431409: I tensorflow/stream_executor/cuda/cudart_stub.cc:29] Ignore above cudart dlerror if you do not have a GPU set up on your machine.\n"
     ]
    }
   ],
   "source": [
    "from tensorflow import keras\n",
    "from keras.models import Sequential\n",
    "from keras.layers import Dense, Dropout, Activation\n",
    "# Keras now is fully integrated to Tensorflow, so to_categorical and Adam\n",
    "# can't be imported directly from keras, therefore, the update:\n",
    "from tensorflow.keras.optimizers import Adam\n",
    "from tensorflow.keras.utils import to_categorical"
   ]
  },
  {
   "cell_type": "code",
   "execution_count": 4,
   "id": "6c752792",
   "metadata": {},
   "outputs": [],
   "source": [
    "# To play audio file:\n",
    "import IPython.display as ipd"
   ]
  },
  {
   "cell_type": "code",
   "execution_count": 5,
   "id": "49aa3b70",
   "metadata": {
    "scrolled": true
   },
   "outputs": [
    {
     "name": "stderr",
     "output_type": "stream",
     "text": [
      "COMET WARNING: As you are running in a Jupyter environment, you will need to call `experiment.end()` when finished to ensure all metrics and code are logged before exiting.\n",
      "COMET INFO: Experiment is live on comet.ml https://www.comet.ml/negromontebs/seta/cf3b9522e3a547d58fdf516603132973\n",
      "\n"
     ]
    }
   ],
   "source": [
    "# Create a Comet Experiment, to capture any and all artifacts\n",
    "# such as audio files, visualization, model, dataset, system information and training metrics\n",
    "experiment = Experiment(api_key = \"Xa6eGiuYFngDcAJ9PVY1WpZp0\", project_name = \"SetA\")"
   ]
  },
  {
   "cell_type": "markdown",
   "id": "b9c178f3",
   "metadata": {},
   "source": [
    "## MFCCs - Mel-Frequency Cepstrum Coefficients"
   ]
  },
  {
   "cell_type": "markdown",
   "id": "643a60c3",
   "metadata": {},
   "source": [
    "### Function to extract the MFCCs from every file in our dataset"
   ]
  },
  {
   "cell_type": "code",
   "execution_count": null,
   "id": "16b701f4",
   "metadata": {},
   "outputs": [],
   "source": [
    "# funçao com gerador que guarda os valores da atual posição da janela e calcula os proximos\n",
    "def windows(audio, window_size):\n",
    "    start = 0\n",
    "    while start < len(audio):\n",
    "        yield start, start + window_size # a função para aqui e returna o valor para a outra função\n",
    "        start += (window_size // 2) #calcula a posição inicial do proximo segmento"
   ]
  },
  {
   "cell_type": "code",
   "execution_count": null,
   "id": "de4d9e78",
   "metadata": {},
   "outputs": [],
   "source": [
    "def extract_features(file_name, window_size):\n",
    "    #upload do audio\n",
    "    audio, sample_rate = librosa.load(file_name, res_type='kaiser_fast') \n",
    "    #list de retorno\n",
    "    mfccsArr = []\n",
    "    \n",
    "    # A função gerador é um iteravel a partir dos valores gerados durante a keyword yield\n",
    "    #Percorre um audio inteiro\n",
    "    for (start,end) in windows(audio, window_size):\n",
    "        #Enquanto a janela nao atingir o fim do audio\n",
    "        if end <= len(audio): \n",
    "            #entao define um excerto do audio\n",
    "            signal = audio[start:end]\n",
    "            # e calcula os coeficientes de mel\n",
    "            mfccs = librosa.feature.mfcc(y=signal, sr=sample_rate, n_mfcc=40)\n",
    "            mfccs_processed = np.mean(mfccs.T,axis=0)\n",
    "            mfccsArr.append([mfccs_processed])\n",
    "    # Retorna os coeficientes de mel em forma de lista do audio inteiro\n",
    "    return mfccsArr"
   ]
  },
  {
   "cell_type": "markdown",
   "id": "31aa10da",
   "metadata": {},
   "source": [
    "### Code "
   ]
  },
  {
   "cell_type": "code",
   "execution_count": 8,
   "id": "232ac765",
   "metadata": {},
   "outputs": [],
   "source": [
    "\n",
    "df = pd.read_csv('../csvFiles/set_a.csv')\n"
   ]
  },
  {
   "cell_type": "code",
   "execution_count": 10,
   "id": "b6868d82",
   "metadata": {},
   "outputs": [],
   "source": [
    "features = []# Iterate through each sound file and extract the features \n",
    "\n",
    "for index, row in df.iterrows():\n",
    "    \n",
    "    absolutePath = os.path.abspath(\"../\")\n",
    "    fname = str(row[\"fname\"])\n",
    "    file_name = os.path.join(absolutePath,fname)\n",
    "    \n",
    "    class_label = row[\"label\"]\n",
    "    \n",
    "    if(class_label != \"unlab\"):\n",
    "        data = extract_features(file_name)\n",
    "        features.append([data, class_label])\n",
    "    \n",
    "# Convert into a Panda dataframe \n",
    "featuresdf = pd.DataFrame(features, columns=['feature','class_label'])"
   ]
  },
  {
   "cell_type": "code",
   "execution_count": 13,
   "id": "a75a1219",
   "metadata": {},
   "outputs": [
    {
     "data": {
      "text/html": [
       "<div>\n",
       "<style scoped>\n",
       "    .dataframe tbody tr th:only-of-type {\n",
       "        vertical-align: middle;\n",
       "    }\n",
       "\n",
       "    .dataframe tbody tr th {\n",
       "        vertical-align: top;\n",
       "    }\n",
       "\n",
       "    .dataframe thead th {\n",
       "        text-align: right;\n",
       "    }\n",
       "</style>\n",
       "<table border=\"1\" class=\"dataframe\">\n",
       "  <thead>\n",
       "    <tr style=\"text-align: right;\">\n",
       "      <th></th>\n",
       "      <th>feature</th>\n",
       "      <th>class_label</th>\n",
       "    </tr>\n",
       "  </thead>\n",
       "  <tbody>\n",
       "    <tr>\n",
       "      <th>0</th>\n",
       "      <td>[-594.53345, 39.48496, 4.773615, 6.360032, 2.7...</td>\n",
       "      <td>artifact</td>\n",
       "    </tr>\n",
       "    <tr>\n",
       "      <th>1</th>\n",
       "      <td>[-756.76984, 38.06422, -12.761636, 5.586702, -...</td>\n",
       "      <td>artifact</td>\n",
       "    </tr>\n",
       "    <tr>\n",
       "      <th>2</th>\n",
       "      <td>[-568.246, 48.002598, -25.640783, 8.441813, -2...</td>\n",
       "      <td>artifact</td>\n",
       "    </tr>\n",
       "    <tr>\n",
       "      <th>3</th>\n",
       "      <td>[-299.85703, 112.79045, -22.194496, 28.633465,...</td>\n",
       "      <td>artifact</td>\n",
       "    </tr>\n",
       "    <tr>\n",
       "      <th>4</th>\n",
       "      <td>[-296.34073, 102.59627, -18.80507, 15.606756, ...</td>\n",
       "      <td>artifact</td>\n",
       "    </tr>\n",
       "  </tbody>\n",
       "</table>\n",
       "</div>"
      ],
      "text/plain": [
       "                                             feature class_label\n",
       "0  [-594.53345, 39.48496, 4.773615, 6.360032, 2.7...    artifact\n",
       "1  [-756.76984, 38.06422, -12.761636, 5.586702, -...    artifact\n",
       "2  [-568.246, 48.002598, -25.640783, 8.441813, -2...    artifact\n",
       "3  [-299.85703, 112.79045, -22.194496, 28.633465,...    artifact\n",
       "4  [-296.34073, 102.59627, -18.80507, 15.606756, ...    artifact"
      ]
     },
     "execution_count": 13,
     "metadata": {},
     "output_type": "execute_result"
    }
   ],
   "source": [
    "featuresdf.head()"
   ]
  },
  {
   "cell_type": "code",
   "execution_count": 14,
   "id": "c610201f",
   "metadata": {
    "scrolled": true
   },
   "outputs": [
    {
     "data": {
      "text/plain": [
       "array([-5.9453345e+02,  3.9484959e+01,  4.7736149e+00,  6.3600321e+00,\n",
       "        2.7210441e+00,  1.9556358e+00, -1.5586532e+00, -1.5916940e+00,\n",
       "       -4.1285987e+00, -9.4592869e-01, -2.9675467e+00, -2.1387017e+00,\n",
       "       -3.4743207e+00, -1.7667232e+00, -2.4402936e+00, -1.8360806e+00,\n",
       "       -2.1535695e+00, -1.2188101e+00, -1.6877983e+00, -1.3186961e+00,\n",
       "       -1.6294661e+00, -1.5636450e+00, -1.0807190e+00, -1.5055786e+00,\n",
       "       -9.3540710e-01, -9.4582045e-01, -6.7552823e-01, -4.6510810e-01,\n",
       "       -5.9152031e-01, -6.3035971e-01, -3.6442605e-01, -2.2027926e-01,\n",
       "       -5.5047251e-02,  1.7959123e-02, -7.3863313e-02, -2.9855010e-01,\n",
       "        4.0030742e-01,  3.0644944e-01,  2.5131455e-01,  2.2699493e-01],\n",
       "      dtype=float32)"
      ]
     },
     "execution_count": 14,
     "metadata": {},
     "output_type": "execute_result"
    }
   ],
   "source": [
    "featuresdf.iloc[0]['feature']"
   ]
  },
  {
   "cell_type": "markdown",
   "id": "69052eeb",
   "metadata": {},
   "source": [
    "## Model building and training"
   ]
  },
  {
   "cell_type": "code",
   "execution_count": 15,
   "id": "d90c6aa1",
   "metadata": {},
   "outputs": [],
   "source": [
    "# Convert features and corresponding classification labels into numpy arrays\n",
    "X = np.array(featuresdf.feature.tolist())\n",
    "y = np.array(featuresdf.class_label.tolist())\n",
    "\n",
    "# Encode the classification labels\n",
    "le = LabelEncoder()\n",
    "yy = to_categorical(le.fit_transform(y))"
   ]
  },
  {
   "cell_type": "markdown",
   "id": "9c381f86",
   "metadata": {},
   "source": [
    "### Trainning and test sets"
   ]
  },
  {
   "cell_type": "code",
   "execution_count": 16,
   "id": "1d6a5c6b",
   "metadata": {},
   "outputs": [],
   "source": [
    "x_train, x_test, y_train, y_test = train_test_split(X, yy, test_size=0.2, random_state = 127)"
   ]
  },
  {
   "cell_type": "markdown",
   "id": "0874155a",
   "metadata": {},
   "source": [
    "### Neural Network architecture"
   ]
  },
  {
   "cell_type": "code",
   "execution_count": 19,
   "id": "1d400943",
   "metadata": {
    "scrolled": true
   },
   "outputs": [
    {
     "name": "stdout",
     "output_type": "stream",
     "text": [
      "Model: \"sequential_1\"\n",
      "_________________________________________________________________\n",
      " Layer (type)                Output Shape              Param #   \n",
      "=================================================================\n",
      " dense_3 (Dense)             (99, 256)                 10496     \n",
      "                                                                 \n",
      " activation_3 (Activation)   (99, 256)                 0         \n",
      "                                                                 \n",
      " dropout_2 (Dropout)         (99, 256)                 0         \n",
      "                                                                 \n",
      " dense_4 (Dense)             (99, 256)                 65792     \n",
      "                                                                 \n",
      " activation_4 (Activation)   (99, 256)                 0         \n",
      "                                                                 \n",
      " dropout_3 (Dropout)         (99, 256)                 0         \n",
      "                                                                 \n",
      " dense_5 (Dense)             (99, 4)                   1028      \n",
      "                                                                 \n",
      " activation_5 (Activation)   (99, 4)                   0         \n",
      "                                                                 \n",
      "=================================================================\n",
      "Total params: 77,316\n",
      "Trainable params: 77,316\n",
      "Non-trainable params: 0\n",
      "_________________________________________________________________\n",
      "Pre-training accuracy: 24.0000%\n"
     ]
    }
   ],
   "source": [
    "num_labels = yy.shape[1]\n",
    "\n",
    "filter_size = 2\n",
    "\n",
    "def build_model_graph(input_shape=(40,)):\n",
    "    model = Sequential()\n",
    "    model.add(Dense(256))\n",
    "    model.add(Activation('relu'))\n",
    "    model.add(Dropout(0.5))\n",
    "    model.add(Dense(256))\n",
    "    model.add(Activation('relu'))\n",
    "    model.add(Dropout(0.5))\n",
    "    model.add(Dense(num_labels))\n",
    "    model.add(Activation('softmax'))\n",
    "    # Compile the model\n",
    "    model.compile(loss='categorical_crossentropy', metrics=['accuracy'], optimizer='adam') \n",
    "    \n",
    "    return model\n",
    "\n",
    "model = build_model_graph()\n",
    "\n",
    "# Display model architecture summary \n",
    "model(x_train)\n",
    "model.summary()# Calculate pre-training accuracy \n",
    "score = model.evaluate(x_test, y_test, verbose=0)\n",
    "accuracy = 100*score[1]\n",
    "\n",
    "print(\"Pre-training accuracy: %.4f%%\" % accuracy)"
   ]
  },
  {
   "cell_type": "markdown",
   "id": "756e750c",
   "metadata": {},
   "source": [
    "### Model Trainning"
   ]
  },
  {
   "cell_type": "code",
   "execution_count": 20,
   "id": "8ee43c4d",
   "metadata": {
    "scrolled": true
   },
   "outputs": [
    {
     "name": "stdout",
     "output_type": "stream",
     "text": [
      "Epoch 1/100\n",
      "4/4 [==============================] - 1s 54ms/step - loss: 37.0606 - accuracy: 0.2525 - val_loss: 5.7536 - val_accuracy: 0.4800\n",
      "Epoch 2/100\n",
      "4/4 [==============================] - 0s 39ms/step - loss: 36.7139 - accuracy: 0.2626 - val_loss: 7.8282 - val_accuracy: 0.5200\n",
      "Epoch 3/100\n",
      "4/4 [==============================] - 0s 44ms/step - loss: 31.1765 - accuracy: 0.3131 - val_loss: 11.0038 - val_accuracy: 0.3200\n",
      "Epoch 4/100\n",
      "4/4 [==============================] - 0s 44ms/step - loss: 26.2911 - accuracy: 0.3232 - val_loss: 8.1737 - val_accuracy: 0.3600\n",
      "Epoch 5/100\n",
      "4/4 [==============================] - 0s 44ms/step - loss: 32.9295 - accuracy: 0.2727 - val_loss: 4.4757 - val_accuracy: 0.5600\n",
      "Epoch 6/100\n",
      "4/4 [==============================] - 0s 42ms/step - loss: 21.3319 - accuracy: 0.4242 - val_loss: 6.1035 - val_accuracy: 0.5200\n",
      "Epoch 7/100\n",
      "4/4 [==============================] - 0s 46ms/step - loss: 19.3593 - accuracy: 0.4545 - val_loss: 8.5704 - val_accuracy: 0.5200\n",
      "Epoch 8/100\n",
      "4/4 [==============================] - 0s 38ms/step - loss: 24.4489 - accuracy: 0.4343 - val_loss: 7.2814 - val_accuracy: 0.5200\n",
      "Epoch 9/100\n",
      "4/4 [==============================] - 0s 41ms/step - loss: 20.3336 - accuracy: 0.4646 - val_loss: 6.1927 - val_accuracy: 0.5600\n",
      "Epoch 10/100\n",
      "4/4 [==============================] - 0s 37ms/step - loss: 20.5962 - accuracy: 0.4343 - val_loss: 8.0839 - val_accuracy: 0.4800\n",
      "Epoch 11/100\n",
      "4/4 [==============================] - 0s 44ms/step - loss: 21.5055 - accuracy: 0.4343 - val_loss: 12.2572 - val_accuracy: 0.4400\n",
      "Epoch 12/100\n",
      "4/4 [==============================] - 0s 36ms/step - loss: 23.9529 - accuracy: 0.4040 - val_loss: 5.4395 - val_accuracy: 0.5200\n",
      "Epoch 13/100\n",
      "4/4 [==============================] - 0s 36ms/step - loss: 18.2557 - accuracy: 0.4545 - val_loss: 2.5557 - val_accuracy: 0.6400\n",
      "Epoch 14/100\n",
      "4/4 [==============================] - 0s 36ms/step - loss: 15.2724 - accuracy: 0.3939 - val_loss: 3.4213 - val_accuracy: 0.6400\n",
      "Epoch 15/100\n",
      "4/4 [==============================] - 0s 34ms/step - loss: 16.3486 - accuracy: 0.4444 - val_loss: 3.2897 - val_accuracy: 0.6400\n",
      "Epoch 16/100\n",
      "4/4 [==============================] - 0s 32ms/step - loss: 15.5920 - accuracy: 0.4545 - val_loss: 2.5219 - val_accuracy: 0.5600\n",
      "Epoch 17/100\n",
      "4/4 [==============================] - 0s 40ms/step - loss: 13.4553 - accuracy: 0.4747 - val_loss: 2.1829 - val_accuracy: 0.5600\n",
      "Epoch 18/100\n",
      "4/4 [==============================] - 0s 36ms/step - loss: 10.4752 - accuracy: 0.5152 - val_loss: 2.4982 - val_accuracy: 0.6000\n",
      "Epoch 19/100\n",
      "4/4 [==============================] - 0s 36ms/step - loss: 8.9900 - accuracy: 0.5152 - val_loss: 3.7507 - val_accuracy: 0.6400\n",
      "Epoch 20/100\n",
      "4/4 [==============================] - 0s 36ms/step - loss: 11.8917 - accuracy: 0.5253 - val_loss: 2.7404 - val_accuracy: 0.6400\n",
      "Epoch 21/100\n",
      "4/4 [==============================] - 0s 36ms/step - loss: 10.3703 - accuracy: 0.4343 - val_loss: 1.9379 - val_accuracy: 0.6400\n",
      "Epoch 22/100\n",
      "4/4 [==============================] - 0s 36ms/step - loss: 8.1495 - accuracy: 0.5556 - val_loss: 1.4108 - val_accuracy: 0.6400\n",
      "Epoch 23/100\n",
      "4/4 [==============================] - 0s 39ms/step - loss: 10.1159 - accuracy: 0.3838 - val_loss: 0.9578 - val_accuracy: 0.6400\n",
      "Epoch 24/100\n",
      "4/4 [==============================] - 0s 44ms/step - loss: 9.2939 - accuracy: 0.4646 - val_loss: 0.9104 - val_accuracy: 0.6800\n",
      "Epoch 25/100\n",
      "4/4 [==============================] - 0s 39ms/step - loss: 7.6378 - accuracy: 0.4747 - val_loss: 0.7329 - val_accuracy: 0.7600\n",
      "Epoch 26/100\n",
      "4/4 [==============================] - 0s 39ms/step - loss: 10.3609 - accuracy: 0.4545 - val_loss: 0.6951 - val_accuracy: 0.7600\n",
      "Epoch 27/100\n",
      "4/4 [==============================] - 0s 33ms/step - loss: 6.8644 - accuracy: 0.4848 - val_loss: 1.2868 - val_accuracy: 0.7200\n",
      "Epoch 28/100\n",
      "4/4 [==============================] - 0s 38ms/step - loss: 7.4881 - accuracy: 0.5455 - val_loss: 1.7922 - val_accuracy: 0.6000\n",
      "Epoch 29/100\n",
      "4/4 [==============================] - 0s 37ms/step - loss: 8.8757 - accuracy: 0.4848 - val_loss: 2.5944 - val_accuracy: 0.5600\n",
      "Epoch 30/100\n",
      "4/4 [==============================] - 0s 38ms/step - loss: 7.5150 - accuracy: 0.5051 - val_loss: 2.2827 - val_accuracy: 0.5600\n",
      "Epoch 31/100\n",
      "4/4 [==============================] - 0s 35ms/step - loss: 7.0000 - accuracy: 0.5253 - val_loss: 1.5623 - val_accuracy: 0.6400\n",
      "Epoch 32/100\n",
      "4/4 [==============================] - 0s 39ms/step - loss: 6.6337 - accuracy: 0.4848 - val_loss: 1.0566 - val_accuracy: 0.6800\n",
      "Epoch 33/100\n",
      "4/4 [==============================] - 0s 35ms/step - loss: 5.9111 - accuracy: 0.5152 - val_loss: 0.8422 - val_accuracy: 0.6800\n",
      "Epoch 34/100\n",
      "4/4 [==============================] - 0s 36ms/step - loss: 5.5156 - accuracy: 0.5455 - val_loss: 0.8503 - val_accuracy: 0.6800\n",
      "Epoch 35/100\n",
      "4/4 [==============================] - 0s 37ms/step - loss: 6.1303 - accuracy: 0.5455 - val_loss: 0.9309 - val_accuracy: 0.6800\n",
      "Epoch 36/100\n",
      "4/4 [==============================] - 0s 37ms/step - loss: 6.8661 - accuracy: 0.5152 - val_loss: 1.0208 - val_accuracy: 0.6000\n",
      "Epoch 37/100\n",
      "4/4 [==============================] - 0s 32ms/step - loss: 6.1547 - accuracy: 0.5758 - val_loss: 1.2526 - val_accuracy: 0.6800\n",
      "Epoch 38/100\n",
      "4/4 [==============================] - 0s 37ms/step - loss: 6.4971 - accuracy: 0.4646 - val_loss: 1.5962 - val_accuracy: 0.6800\n",
      "Epoch 39/100\n",
      "4/4 [==============================] - 0s 32ms/step - loss: 6.5396 - accuracy: 0.5354 - val_loss: 1.6734 - val_accuracy: 0.6800\n",
      "Epoch 40/100\n",
      "4/4 [==============================] - 0s 40ms/step - loss: 5.7158 - accuracy: 0.5152 - val_loss: 1.5172 - val_accuracy: 0.6800\n",
      "Epoch 41/100\n",
      "4/4 [==============================] - 0s 39ms/step - loss: 5.4924 - accuracy: 0.4545 - val_loss: 1.2878 - val_accuracy: 0.7200\n",
      "Epoch 42/100\n",
      "4/4 [==============================] - 0s 34ms/step - loss: 5.2356 - accuracy: 0.5859 - val_loss: 1.1164 - val_accuracy: 0.7200\n",
      "Epoch 43/100\n",
      "4/4 [==============================] - 0s 36ms/step - loss: 5.6859 - accuracy: 0.4646 - val_loss: 1.0051 - val_accuracy: 0.6800\n",
      "Epoch 44/100\n",
      "4/4 [==============================] - 0s 43ms/step - loss: 3.8573 - accuracy: 0.6061 - val_loss: 1.0407 - val_accuracy: 0.6400\n",
      "Epoch 45/100\n",
      "4/4 [==============================] - 0s 35ms/step - loss: 5.6563 - accuracy: 0.4949 - val_loss: 1.0109 - val_accuracy: 0.6400\n",
      "Epoch 46/100\n",
      "4/4 [==============================] - 0s 41ms/step - loss: 4.5379 - accuracy: 0.5455 - val_loss: 1.0354 - val_accuracy: 0.6400\n",
      "Epoch 47/100\n",
      "4/4 [==============================] - 0s 37ms/step - loss: 4.1973 - accuracy: 0.5960 - val_loss: 1.0868 - val_accuracy: 0.6400\n",
      "Epoch 48/100\n",
      "4/4 [==============================] - 0s 37ms/step - loss: 3.5957 - accuracy: 0.5758 - val_loss: 1.0571 - val_accuracy: 0.6000\n",
      "Epoch 49/100\n",
      "4/4 [==============================] - 0s 35ms/step - loss: 4.2287 - accuracy: 0.5152 - val_loss: 0.9494 - val_accuracy: 0.6000\n",
      "Epoch 50/100\n",
      "4/4 [==============================] - 0s 43ms/step - loss: 3.2234 - accuracy: 0.5253 - val_loss: 0.8486 - val_accuracy: 0.6400\n",
      "Epoch 51/100\n",
      "4/4 [==============================] - 0s 38ms/step - loss: 3.3511 - accuracy: 0.5657 - val_loss: 0.8491 - val_accuracy: 0.6800\n",
      "Epoch 52/100\n",
      "4/4 [==============================] - 0s 37ms/step - loss: 3.3801 - accuracy: 0.5354 - val_loss: 0.8708 - val_accuracy: 0.7200\n",
      "Epoch 53/100\n",
      "4/4 [==============================] - 0s 39ms/step - loss: 3.9721 - accuracy: 0.5051 - val_loss: 0.8734 - val_accuracy: 0.6800\n",
      "Epoch 54/100\n",
      "4/4 [==============================] - 0s 40ms/step - loss: 2.8753 - accuracy: 0.5758 - val_loss: 0.8726 - val_accuracy: 0.6800\n",
      "Epoch 55/100\n",
      "4/4 [==============================] - 0s 38ms/step - loss: 3.3532 - accuracy: 0.5354 - val_loss: 0.8751 - val_accuracy: 0.6400\n",
      "Epoch 56/100\n",
      "4/4 [==============================] - 0s 39ms/step - loss: 4.0886 - accuracy: 0.5960 - val_loss: 0.8716 - val_accuracy: 0.6400\n",
      "Epoch 57/100\n",
      "4/4 [==============================] - 0s 41ms/step - loss: 3.5416 - accuracy: 0.5253 - val_loss: 0.8261 - val_accuracy: 0.6400\n",
      "Epoch 58/100\n",
      "4/4 [==============================] - 0s 43ms/step - loss: 3.3315 - accuracy: 0.5455 - val_loss: 0.7739 - val_accuracy: 0.6400\n"
     ]
    },
    {
     "name": "stdout",
     "output_type": "stream",
     "text": [
      "Epoch 59/100\n",
      "4/4 [==============================] - 0s 37ms/step - loss: 2.2605 - accuracy: 0.5758 - val_loss: 0.7838 - val_accuracy: 0.6800\n",
      "Epoch 60/100\n",
      "4/4 [==============================] - 0s 41ms/step - loss: 2.9628 - accuracy: 0.5657 - val_loss: 0.8321 - val_accuracy: 0.6000\n",
      "Epoch 61/100\n",
      "4/4 [==============================] - 0s 36ms/step - loss: 2.7232 - accuracy: 0.5556 - val_loss: 0.8126 - val_accuracy: 0.5600\n",
      "Epoch 62/100\n",
      "4/4 [==============================] - 0s 37ms/step - loss: 2.6931 - accuracy: 0.5859 - val_loss: 0.8313 - val_accuracy: 0.6400\n",
      "Epoch 63/100\n",
      "4/4 [==============================] - 0s 37ms/step - loss: 2.7928 - accuracy: 0.5455 - val_loss: 0.8747 - val_accuracy: 0.6400\n",
      "Epoch 64/100\n",
      "4/4 [==============================] - 0s 38ms/step - loss: 2.7421 - accuracy: 0.5960 - val_loss: 0.8689 - val_accuracy: 0.6400\n",
      "Epoch 65/100\n",
      "4/4 [==============================] - 0s 39ms/step - loss: 2.2415 - accuracy: 0.5758 - val_loss: 0.8361 - val_accuracy: 0.6400\n",
      "Epoch 66/100\n",
      "4/4 [==============================] - 0s 40ms/step - loss: 2.7244 - accuracy: 0.5354 - val_loss: 0.8180 - val_accuracy: 0.6000\n",
      "Epoch 67/100\n",
      "4/4 [==============================] - 0s 40ms/step - loss: 2.2189 - accuracy: 0.6263 - val_loss: 0.8290 - val_accuracy: 0.6400\n",
      "Epoch 68/100\n",
      "4/4 [==============================] - 0s 34ms/step - loss: 1.9952 - accuracy: 0.6162 - val_loss: 0.8909 - val_accuracy: 0.5600\n",
      "Epoch 69/100\n",
      "4/4 [==============================] - 0s 38ms/step - loss: 2.3688 - accuracy: 0.5556 - val_loss: 0.8974 - val_accuracy: 0.5600\n",
      "Epoch 70/100\n",
      "4/4 [==============================] - 0s 37ms/step - loss: 2.8113 - accuracy: 0.5556 - val_loss: 0.8957 - val_accuracy: 0.5600\n",
      "Epoch 71/100\n",
      "4/4 [==============================] - 0s 41ms/step - loss: 2.5165 - accuracy: 0.5152 - val_loss: 0.8721 - val_accuracy: 0.5600\n",
      "Epoch 72/100\n",
      "4/4 [==============================] - 0s 45ms/step - loss: 2.0883 - accuracy: 0.5556 - val_loss: 0.8449 - val_accuracy: 0.5600\n",
      "Epoch 73/100\n",
      "4/4 [==============================] - 0s 41ms/step - loss: 2.5683 - accuracy: 0.5657 - val_loss: 0.8209 - val_accuracy: 0.6000\n",
      "Epoch 74/100\n",
      "4/4 [==============================] - 0s 38ms/step - loss: 2.3257 - accuracy: 0.5657 - val_loss: 0.7915 - val_accuracy: 0.6400\n",
      "Epoch 75/100\n",
      "4/4 [==============================] - 0s 38ms/step - loss: 1.9819 - accuracy: 0.5758 - val_loss: 0.7744 - val_accuracy: 0.6400\n",
      "Epoch 76/100\n",
      "4/4 [==============================] - 0s 37ms/step - loss: 2.1661 - accuracy: 0.5455 - val_loss: 0.7698 - val_accuracy: 0.7200\n",
      "Epoch 77/100\n",
      "4/4 [==============================] - 0s 37ms/step - loss: 2.1769 - accuracy: 0.5354 - val_loss: 0.7614 - val_accuracy: 0.7200\n",
      "Epoch 78/100\n",
      "4/4 [==============================] - 0s 40ms/step - loss: 1.8312 - accuracy: 0.6364 - val_loss: 0.7627 - val_accuracy: 0.7200\n",
      "Epoch 79/100\n",
      "4/4 [==============================] - 0s 45ms/step - loss: 2.2147 - accuracy: 0.5051 - val_loss: 0.7611 - val_accuracy: 0.7200\n",
      "Epoch 80/100\n",
      "4/4 [==============================] - 0s 45ms/step - loss: 1.9634 - accuracy: 0.4949 - val_loss: 0.7426 - val_accuracy: 0.6800\n",
      "Epoch 81/100\n",
      "4/4 [==============================] - 0s 37ms/step - loss: 2.1830 - accuracy: 0.5657 - val_loss: 0.7532 - val_accuracy: 0.6800\n",
      "Epoch 82/100\n",
      "4/4 [==============================] - 0s 39ms/step - loss: 1.6632 - accuracy: 0.5354 - val_loss: 0.7752 - val_accuracy: 0.6800\n",
      "Epoch 83/100\n",
      "4/4 [==============================] - 0s 39ms/step - loss: 1.7016 - accuracy: 0.6061 - val_loss: 0.7898 - val_accuracy: 0.6800\n",
      "Epoch 84/100\n",
      "4/4 [==============================] - 0s 43ms/step - loss: 1.6465 - accuracy: 0.5657 - val_loss: 0.7971 - val_accuracy: 0.7200\n",
      "Epoch 85/100\n",
      "4/4 [==============================] - 0s 41ms/step - loss: 1.8061 - accuracy: 0.5556 - val_loss: 0.8082 - val_accuracy: 0.7200\n",
      "Epoch 86/100\n",
      "4/4 [==============================] - 0s 41ms/step - loss: 1.8341 - accuracy: 0.5354 - val_loss: 0.8320 - val_accuracy: 0.6800\n",
      "Epoch 87/100\n",
      "4/4 [==============================] - 0s 52ms/step - loss: 1.7712 - accuracy: 0.5960 - val_loss: 0.8981 - val_accuracy: 0.6800\n",
      "Epoch 88/100\n",
      "4/4 [==============================] - 0s 48ms/step - loss: 1.7586 - accuracy: 0.5657 - val_loss: 0.9442 - val_accuracy: 0.6400\n",
      "Epoch 89/100\n",
      "4/4 [==============================] - 0s 36ms/step - loss: 1.5497 - accuracy: 0.5758 - val_loss: 0.9736 - val_accuracy: 0.6800\n",
      "Epoch 90/100\n",
      "4/4 [==============================] - 0s 38ms/step - loss: 1.9302 - accuracy: 0.5455 - val_loss: 0.9785 - val_accuracy: 0.6800\n",
      "Epoch 91/100\n",
      "4/4 [==============================] - 0s 38ms/step - loss: 1.4431 - accuracy: 0.5758 - val_loss: 1.0042 - val_accuracy: 0.6800\n",
      "Epoch 92/100\n",
      "4/4 [==============================] - 0s 41ms/step - loss: 1.6720 - accuracy: 0.5051 - val_loss: 1.0194 - val_accuracy: 0.6400\n",
      "Epoch 93/100\n",
      "4/4 [==============================] - 0s 36ms/step - loss: 1.9651 - accuracy: 0.5556 - val_loss: 0.9899 - val_accuracy: 0.7200\n",
      "Epoch 94/100\n",
      "4/4 [==============================] - 0s 40ms/step - loss: 1.6839 - accuracy: 0.5657 - val_loss: 0.9719 - val_accuracy: 0.7200\n",
      "Epoch 95/100\n",
      "4/4 [==============================] - 0s 38ms/step - loss: 1.5886 - accuracy: 0.5758 - val_loss: 0.9833 - val_accuracy: 0.7200\n",
      "Epoch 96/100\n",
      "4/4 [==============================] - 0s 37ms/step - loss: 1.3504 - accuracy: 0.6061 - val_loss: 0.9948 - val_accuracy: 0.7200\n",
      "Epoch 97/100\n",
      "4/4 [==============================] - 0s 35ms/step - loss: 1.5586 - accuracy: 0.5859 - val_loss: 0.9958 - val_accuracy: 0.7200\n",
      "Epoch 98/100\n",
      "4/4 [==============================] - 0s 41ms/step - loss: 1.3960 - accuracy: 0.5152 - val_loss: 0.9964 - val_accuracy: 0.8000\n",
      "Epoch 99/100\n",
      "4/4 [==============================] - 0s 38ms/step - loss: 1.3521 - accuracy: 0.5556 - val_loss: 1.0049 - val_accuracy: 0.8000\n",
      "Epoch 100/100\n",
      "4/4 [==============================] - 0s 34ms/step - loss: 1.2910 - accuracy: 0.5051 - val_loss: 1.0178 - val_accuracy: 0.7600\n",
      "Training Accuracy: 68.69%\n",
      "Testing Accuracy: 76.00%\n"
     ]
    }
   ],
   "source": [
    "num_epochs = 100\n",
    "num_batch_size = 32\n",
    "model.fit(x_train, y_train, batch_size=num_batch_size, epochs=num_epochs, validation_data=(x_test, y_test), verbose=1)\n",
    "\n",
    "# Evaluating the model on the training and testing set\n",
    "score = model.evaluate(x_train, y_train, verbose=0)\n",
    "print(\"Training Accuracy: {0:.2%}\".format(score[1]))\n",
    "score = model.evaluate(x_test, y_test, verbose=0)\n",
    "print(\"Testing Accuracy: {0:.2%}\".format(score[1]))"
   ]
  },
  {
   "cell_type": "code",
   "execution_count": 21,
   "id": "d565231b",
   "metadata": {
    "scrolled": true
   },
   "outputs": [
    {
     "name": "stderr",
     "output_type": "stream",
     "text": [
      "COMET INFO: ---------------------------\n",
      "COMET INFO: Comet.ml Experiment Summary\n",
      "COMET INFO: ---------------------------\n",
      "COMET INFO:   Data:\n",
      "COMET INFO:     display_summary_level : 1\n",
      "COMET INFO:     url                   : https://www.comet.ml/negromontebs/seta/cf3b9522e3a547d58fdf516603132973\n",
      "COMET INFO:   Metrics [count] (min, max):\n",
      "COMET INFO:     accuracy [200]                : (0.16161616146564484, 0.6565656661987305)\n",
      "COMET INFO:     batch_accuracy [200]          : (0.1875, 0.78125)\n",
      "COMET INFO:     batch_loss [200]              : (0.8622515201568604, 49.34465789794922)\n",
      "COMET INFO:     epoch_duration [200]          : (0.10189401900015582, 1.5324152049997792)\n",
      "COMET INFO:     loss [200]                    : (1.2406256198883057, 53.74673080444336)\n",
      "COMET INFO:     val_accuracy [200]            : (0.3199999928474426, 0.800000011920929)\n",
      "COMET INFO:     val_loss [200]                : (0.6950652599334717, 22.237443923950195)\n",
      "COMET INFO:     validate_batch_accuracy [200] : (0.3199999928474426, 0.800000011920929)\n",
      "COMET INFO:     validate_batch_loss [200]     : (0.6950652599334717, 22.237443923950195)\n",
      "COMET INFO:   Others:\n",
      "COMET INFO:     trainable_params : 77316\n",
      "COMET INFO:   Parameters:\n",
      "COMET INFO:     Adam_amsgrad       : False\n",
      "COMET INFO:     Adam_beta_1        : 0.9\n",
      "COMET INFO:     Adam_beta_2        : 0.999\n",
      "COMET INFO:     Adam_decay         : 0.0\n",
      "COMET INFO:     Adam_epsilon       : 1e-07\n",
      "COMET INFO:     Adam_learning_rate : 0.001\n",
      "COMET INFO:     Adam_name          : Adam\n",
      "COMET INFO:     Optimizer          : Adam\n",
      "COMET INFO:     epochs             : 100\n",
      "COMET INFO:     steps              : 4\n",
      "COMET INFO:   Uploads:\n",
      "COMET INFO:     environment details      : 1\n",
      "COMET INFO:     filename                 : 1\n",
      "COMET INFO:     git metadata             : 1\n",
      "COMET INFO:     git-patch (uncompressed) : 1 (680.65 KB)\n",
      "COMET INFO:     installed packages       : 1\n",
      "COMET INFO:     model graph              : 1\n",
      "COMET INFO:     notebook                 : 1\n",
      "COMET INFO:     os packages              : 1\n",
      "COMET INFO:     source_code              : 1\n",
      "COMET INFO: ---------------------------\n",
      "COMET INFO: Uploading metrics, params, and assets to Comet before program termination (may take several seconds)\n",
      "COMET INFO: The Python SDK has 3600 seconds to finish before aborting...\n",
      "COMET INFO: Waiting for completion of the file uploads (may take several seconds)\n",
      "COMET INFO: The Python SDK has 10800 seconds to finish before aborting...\n",
      "COMET INFO: Still uploading 2 file(s), remaining 17.56 KB/363.19 KB\n"
     ]
    }
   ],
   "source": [
    "experiment.end()"
   ]
  },
  {
   "cell_type": "code",
   "execution_count": null,
   "id": "321af7e8",
   "metadata": {},
   "outputs": [],
   "source": []
  }
 ],
 "metadata": {
  "kernelspec": {
   "display_name": "Python 3 (ipykernel)",
   "language": "python",
   "name": "python3"
  },
  "language_info": {
   "codemirror_mode": {
    "name": "ipython",
    "version": 3
   },
   "file_extension": ".py",
   "mimetype": "text/x-python",
   "name": "python",
   "nbconvert_exporter": "python",
   "pygments_lexer": "ipython3",
   "version": "3.8.10"
  }
 },
 "nbformat": 4,
 "nbformat_minor": 5
}
