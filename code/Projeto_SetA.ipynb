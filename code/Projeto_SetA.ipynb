{
 "cells": [
  {
   "cell_type": "markdown",
   "id": "38ea8194",
   "metadata": {},
   "source": [
    "# Appling machine learning to audio analysis"
   ]
  },
  {
   "cell_type": "markdown",
   "id": "32828f32",
   "metadata": {},
   "source": [
    "First we want to upload our labeled and unlabeled dataset for future use to train our model"
   ]
  },
  {
   "cell_type": "code",
   "execution_count": 1,
   "id": "32435a3d",
   "metadata": {
    "scrolled": true
   },
   "outputs": [],
   "source": [
    "### Dependencies were already installed previously on ubuntu\n",
    "### Comet: experiment tracking and visual tools\n",
    "\n",
    "from comet_ml import Experiment\n",
    "\n",
    "import IPython.display as ipd\n",
    "import numpy as np\n",
    "import pandas as pd\n",
    "import librosa # audio analysis\n",
    "import librosa.display # this submodule needs to be imported explicitly\n",
    "import matplotlib.pyplot as plt\n",
    "from scipy.io import wavfile as wav\n",
    "import os"
   ]
  },
  {
   "cell_type": "code",
   "execution_count": 2,
   "id": "f9f86e6c",
   "metadata": {},
   "outputs": [],
   "source": [
    "from sklearn import metrics\n",
    "from sklearn.preprocessing import LabelEncoder\n",
    "from sklearn.model_selection import train_test_split"
   ]
  },
  {
   "cell_type": "code",
   "execution_count": 3,
   "id": "bc810254",
   "metadata": {},
   "outputs": [],
   "source": [
    "# Sequential: creates a sequential model, ideal to create plain stack of layers\n",
    "# each layer has exactly one input tensor and one output tensor\n",
    "\n",
    "# Layers: basic building blacks of neural networks in Keras, consists of a\n",
    "# tensor-in and tensor-out computation function and some state\n",
    "\n",
    "# Dense, Dropout and Activartion are classes from layers:\n",
    "# Activation and dense: Core layers. Activation applies an activation function\n",
    "# to an output. The output has the same shape as the input.\n",
    "# Dropout: regularization layer.\n",
    "\n",
    "# Adam: it's an algorithm, an optimization, stochastic gradient descent method\n",
    "#based on adaptive estimation of first and second order moments.\n",
    "\n",
    "# to_categorical: converts a class vectors (integers) to a binary class matrix\n"
   ]
  },
  {
   "cell_type": "code",
   "execution_count": 4,
   "id": "3b22f8aa",
   "metadata": {
    "scrolled": true
   },
   "outputs": [
    {
     "name": "stderr",
     "output_type": "stream",
     "text": [
      "2021-12-16 17:08:55.965286: W tensorflow/stream_executor/platform/default/dso_loader.cc:64] Could not load dynamic library 'libcudart.so.11.0'; dlerror: libcudart.so.11.0: cannot open shared object file: No such file or directory\n",
      "2021-12-16 17:08:55.965354: I tensorflow/stream_executor/cuda/cudart_stub.cc:29] Ignore above cudart dlerror if you do not have a GPU set up on your machine.\n"
     ]
    }
   ],
   "source": [
    "from tensorflow import keras\n",
    "from keras.models import Sequential\n",
    "from keras.layers import Dense, Dropout, Activation\n",
    "# Keras now is fully integrated to Tensorflow, so to_categorical and Adam\n",
    "# can't be imported directly from keras, therefore, the update:\n",
    "from tensorflow.keras.optimizers import Adam\n",
    "from tensorflow.keras.utils import to_categorical"
   ]
  },
  {
   "cell_type": "code",
   "execution_count": 5,
   "id": "6c752792",
   "metadata": {},
   "outputs": [],
   "source": [
    "# To play audio file:\n",
    "import IPython.display as ipd"
   ]
  },
  {
   "cell_type": "code",
   "execution_count": 6,
   "id": "49aa3b70",
   "metadata": {},
   "outputs": [
    {
     "name": "stderr",
     "output_type": "stream",
     "text": [
      "COMET WARNING: As you are running in a Jupyter environment, you will need to call `experiment.end()` when finished to ensure all metrics and code are logged before exiting.\n",
      "COMET INFO: Experiment is live on comet.ml https://www.comet.ml/negromontebs/seta/48eb54fc56fa4d88a6b8c3798c1f2717\n",
      "\n"
     ]
    }
   ],
   "source": [
    "# Create a Comet Experiment, to capture any and all artifacts\n",
    "# such as audio files, visualization, model, dataset, system information and training metrics\n",
    "experiment = Experiment(api_key = \"Xa6eGiuYFngDcAJ9PVY1WpZp0\", project_name = \"SetA\")"
   ]
  },
  {
   "cell_type": "code",
   "execution_count": 15,
   "id": "17d6a45f",
   "metadata": {
    "scrolled": true
   },
   "outputs": [
    {
     "name": "stdout",
     "output_type": "stream",
     "text": [
      "['artifact', 'extrahls', 'murmur', 'normal', 'unlab']\n"
     ]
    }
   ],
   "source": [
    "# Load dataset\n",
    "df = pd.read_csv('../csvFiles/set_a.csv')\n",
    "\n",
    "\n",
    "# Create a list of the labels. Currently there are 5 labels: 'artifact', 'extrahls', 'murmur', 'normal', 'unlab'\n",
    "labels = list(df['label'].unique())\n",
    "print(labels)"
   ]
  },
  {
   "cell_type": "code",
   "execution_count": 19,
   "id": "5a4dc0f2",
   "metadata": {},
   "outputs": [
    {
     "name": "stdout",
     "output_type": "stream",
     "text": [
      "set_a/artifact__201012172012.wav\n",
      "set_a/extrahls__201101070953.wav\n",
      "set_a/murmur__201101051104.wav\n",
      "set_a/normal__201101070538.wav\n",
      "set_a/Aunlabelledtest__201012172010.wav\n"
     ]
    }
   ],
   "source": [
    "# grabs a single audio file from each class\n",
    "files = dict()\n",
    "datasetSize = 1\n",
    "\n",
    "#Iteration over the labels and \n",
    "\n",
    "for i in range(len(labels)):\n",
    "    \n",
    "    #if the dataset contains itens with  the iterated label\n",
    "    labelBoolean = (df['label'] == labels[i])\n",
    "    #pick those items and make a new dataFrame with a spefic size\n",
    "    dfItem = df[labelBoolean][:datasetSize]\n",
    "    #reset the index to for easier selection\n",
    "    tmp = dfItem.reset_index()\n",
    "    #string with the directory\n",
    "    path = '{}'.format(tmp['fname'][0])\n",
    "    #save the string to the dictionary\n",
    "    print(path)\n",
    "    files[labels[i]] = '../' + path\n"
   ]
  },
  {
   "cell_type": "code",
   "execution_count": 20,
   "id": "07ae3956",
   "metadata": {
    "scrolled": true
   },
   "outputs": [
    {
     "name": "stdout",
     "output_type": "stream",
     "text": [
      "../set_a/artifact__201012172012.wav\n",
      "../set_a/extrahls__201101070953.wav\n",
      "../set_a/murmur__201101051104.wav\n",
      "../set_a/normal__201101070538.wav\n",
      "../set_a/Aunlabelledtest__201012172010.wav\n"
     ]
    },
    {
     "data": {
      "text/plain": [
       "{'web': 'https://www.comet.ml/api/image/download?imageId=a390dd02d8174c50ab9bf784a88e8a9e&experimentKey=48eb54fc56fa4d88a6b8c3798c1f2717',\n",
       " 'api': 'https://www.comet.ml/api/rest/v1/image/get-image?imageId=a390dd02d8174c50ab9bf784a88e8a9e&experimentKey=48eb54fc56fa4d88a6b8c3798c1f2717',\n",
       " 'imageId': 'a390dd02d8174c50ab9bf784a88e8a9e'}"
      ]
     },
     "execution_count": 20,
     "metadata": {},
     "output_type": "execute_result"
    },
    {
     "data": {
      "image/png": "[encoded data removed]",
      "text/plain": [
       "<Figure size 1080x1080 with 5 Axes>"
      ]
     },
     "metadata": {
      "needs_background": "light"
     },
     "output_type": "display_data"
    }
   ],
   "source": [
    "# To plot the waveforms, using librosa's display.waveplot function:\n",
    "\n",
    "fig = plt.figure(figsize=(15,15))\n",
    "#experiment.log_image('label_examples.png')\n",
    "fig.subplots_adjust(hspace = 0.4, wspace = 0.4)\n",
    "\n",
    "\n",
    "for i, lab in enumerate(labels):\n",
    "    # i = index\n",
    "    # lab = name of the label at current index\n",
    "    fn = files[lab]\n",
    "    print(fn)\n",
    "    fig.add_subplot(5,2,1+i)\n",
    "    plt.title(lab)\n",
    "    data, sample_rate = librosa.load(fn)\n",
    "    librosa.display.waveplot(data, sr = sample_rate)\n",
    "    \n",
    "plt.savefig('../images/label_examples.png')\n",
    "\n",
    "# Log graphic of waveforms to comet:\n",
    "experiment.log_image('../images/label_examples.png')"
   ]
  },
  {
   "cell_type": "code",
   "execution_count": 21,
   "id": "c992fe99",
   "metadata": {},
   "outputs": [],
   "source": [
    "# Log audio files to Comet for debugging\n",
    "for label in labels:\n",
    "    fn = files[label]\n",
    "    experiment.log_audio(fn, metadata = {'name': label})"
   ]
  },
  {
   "cell_type": "markdown",
   "id": "cf343ccc",
   "metadata": {},
   "source": [
    "## Preprocessing"
   ]
  },
  {
   "cell_type": "code",
   "execution_count": 22,
   "id": "a2db6e3f",
   "metadata": {
    "scrolled": true
   },
   "outputs": [
    {
     "name": "stdout",
     "output_type": "stream",
     "text": [
      "Original sample rate: 44100\n",
      "Librosa sample rate: 22050\n",
      "Original audio file min~max range: -23887 to 23072\n",
      "Librosa audio file min~max range: -0.73 to -0.73\n"
     ]
    }
   ],
   "source": [
    "#pick an audio file\n",
    "fn = files[\"artifact\"]\n",
    "#get its sample rate and librosa sample rate and bit depth\n",
    "librosa_audio, librosa_sample_rate = librosa.load(fn)\n",
    "scipy_sample_rate, scipy_audio = wav.read(fn)\n",
    "\n",
    "print(\"Original sample rate: {}\".format(scipy_sample_rate))\n",
    "print(\"Librosa sample rate: {}\".format(librosa_sample_rate))\n",
    "\n",
    "print('Original audio file min~max range: {} to {}'.format(np.min(scipy_audio), np.max(scipy_audio)))\n",
    "print('Librosa audio file min~max range: {0:.2f} to {0:.2f}'.format(np.min(librosa_audio), np.max(librosa_audio)))"
   ]
  },
  {
   "cell_type": "code",
   "execution_count": 24,
   "id": "cf553b31",
   "metadata": {},
   "outputs": [
    {
     "data": {
      "text/plain": [
       "{'web': 'https://www.comet.ml/api/image/download?imageId=4ddef9653a32419ea00c6fbb3d117180&experimentKey=48eb54fc56fa4d88a6b8c3798c1f2717',\n",
       " 'api': 'https://www.comet.ml/api/rest/v1/image/get-image?imageId=4ddef9653a32419ea00c6fbb3d117180&experimentKey=48eb54fc56fa4d88a6b8c3798c1f2717',\n",
       " 'imageId': '4ddef9653a32419ea00c6fbb3d117180'}"
      ]
     },
     "execution_count": 24,
     "metadata": {},
     "output_type": "execute_result"
    },
    {
     "data": {
      "image/png": "[encoded data removed]",
      "text/plain": [
       "<Figure size 864x288 with 1 Axes>"
      ]
     },
     "metadata": {
      "needs_background": "light"
     },
     "output_type": "display_data"
    }
   ],
   "source": [
    "#plot the original audio\n",
    "plt.figure(figsize=(12, 4))\n",
    "plt.plot(scipy_audio)\n",
    "plt.savefig('../images/original_audio.png')\n",
    "experiment.log_image('../images/original_audio.png')"
   ]
  },
  {
   "cell_type": "code",
   "execution_count": 25,
   "id": "24f910ed",
   "metadata": {},
   "outputs": [
    {
     "data": {
      "text/plain": [
       "{'web': 'https://www.comet.ml/api/image/download?imageId=6230ac22baa843b084f4656ed9a460a2&experimentKey=48eb54fc56fa4d88a6b8c3798c1f2717',\n",
       " 'api': 'https://www.comet.ml/api/rest/v1/image/get-image?imageId=6230ac22baa843b084f4656ed9a460a2&experimentKey=48eb54fc56fa4d88a6b8c3798c1f2717',\n",
       " 'imageId': '6230ac22baa843b084f4656ed9a460a2'}"
      ]
     },
     "execution_count": 25,
     "metadata": {},
     "output_type": "execute_result"
    },
    {
     "data": {
      "image/png": "[encoded data removed]",
      "text/plain": [
       "<Figure size 864x288 with 1 Axes>"
      ]
     },
     "metadata": {
      "needs_background": "light"
     },
     "output_type": "display_data"
    }
   ],
   "source": [
    "# plot the librosa audio mono sound\n",
    "plt.figure(figsize=(12,4))\n",
    "plt.plot(librosa_audio)\n",
    "plt.savefig('../images/librosa_audio.png')\n",
    "experiment.log_image('../images/librosa_audio.png')"
   ]
  },
  {
   "cell_type": "markdown",
   "id": "565a4b28",
   "metadata": {},
   "source": [
    "<h2> Separating S1 and S2"
   ]
  },
  {
   "cell_type": "code",
   "execution_count": 14,
   "id": "ad694daf",
   "metadata": {},
   "outputs": [],
   "source": [
    "timing = pd.read_csv('set_a_timing.csv')"
   ]
  },
  {
   "cell_type": "code",
   "execution_count": 15,
   "id": "6856ed63",
   "metadata": {},
   "outputs": [],
   "source": [
    "S1 = dict()\n",
    "S2 = dict()\n",
    "\n",
    "file_name = list(timing['fname'].unique())\n",
    "\n",
    "for i in file_name:\n",
    "    S1[i] = []\n",
    "    S2[i] = []\n",
    "\n",
    "for i in range(len(timing)):\n",
    "    if timing.sound[i] == 'S1':\n",
    "        S1[timing.fname[i]].append(timing.loc[i,'location'])\n",
    "    else:\n",
    "        S2[timing.fname[i]].append(timing.loc[i,'location'])\n",
    "        "
   ]
  },
  {
   "cell_type": "code",
   "execution_count": 16,
   "id": "da5a0174",
   "metadata": {},
   "outputs": [],
   "source": [
    "# function to track time and beats from every audio\n",
    "def extract_beat(file_name):\n",
    "    audio, sample_rate = librosa.load(file_name) \n",
    "    # tracks the beats using time series input\n",
    "    tempo, beats = librosa.beat.beat_track(audio, sr=sample_rate)\n",
    "    return tempo, beats"
   ]
  },
  {
   "cell_type": "code",
   "execution_count": 17,
   "id": "bb5c67bf",
   "metadata": {},
   "outputs": [
    {
     "data": {
      "text/plain": [
       "<matplotlib.legend.Legend at 0x7fc1546d30b8>"
      ]
     },
     "execution_count": 17,
     "metadata": {},
     "output_type": "execute_result"
    },
    {
     "data": {
      "image/png": "[encoded data removed]",
      "text/plain": [
       "<Figure size 432x288 with 2 Axes>"
      ]
     },
     "metadata": {
      "needs_background": "light"
     },
     "output_type": "display_data"
    }
   ],
   "source": [
    "# plots the mel spectogram of one audio\n",
    "hop_length = 512\n",
    "tempo, beats = librosa.beat.beat_track(librosa_audio, sr=librosa_sample_rate)\n",
    "onset_env = librosa.onset.onset_strength(librosa_audio, sr=librosa_sample_rate, aggregate=np.median)\n",
    "fig, ax = plt.subplots(nrows=2, sharex=True)\n",
    "times = librosa.times_like(onset_env, sr=librosa_sample_rate, hop_length=hop_length)\n",
    "M = librosa.feature.melspectrogram(librosa_audio, sr=librosa_sample_rate, hop_length=hop_length)\n",
    "librosa.display.specshow(librosa.power_to_db(M, ref=np.max),\n",
    "                         y_axis='mel', x_axis='time', hop_length=hop_length,\n",
    "                         ax=ax[0])\n",
    "ax[0].label_outer()\n",
    "ax[0].set(title='Mel spectrogram')\n",
    "ax[1].plot(times, librosa.util.normalize(onset_env), label='Onset strength')\n",
    "ax[1].vlines(times[beats], 0, 1, alpha=0.5, color='r', linestyle='--', label='Beats')\n",
    "ax[1].legend()"
   ]
  },
  {
   "cell_type": "code",
   "execution_count": 18,
   "id": "91fd7bb0",
   "metadata": {},
   "outputs": [],
   "source": [
    "# list for the beats, time, label\n",
    "beats = [] \n",
    "time = []\n",
    "labels = []"
   ]
  },
  {
   "cell_type": "code",
   "execution_count": 19,
   "id": "a944ebbe",
   "metadata": {},
   "outputs": [],
   "source": [
    "# Iterate through each sound file and extract the beats \n",
    "for index, row in df.iterrows():\n",
    "    \n",
    "    absolutePath = os.path.abspath(\"\")\n",
    "    fname = str(row[\"fname\"])\n",
    "    file_name = os.path.join(absolutePath,fname)\n",
    "    \n",
    "    class_label = row[\"label\"]\n",
    "    \n",
    "    if(class_label != \"unlab\"):\n",
    "        data = extract_beat(file_name)\n",
    "        time.append(data[0])\n",
    "        beats.append(data[1])\n",
    "        labels.append(class_label)\n",
    "    \n",
    "# Convert into a Panda dataframe\n",
    "tb_df = pd.DataFrame(list(zip(beats, time, labels)), columns=['beats','time','class_label'])"
   ]
  },
  {
   "cell_type": "code",
   "execution_count": 20,
   "id": "e267aa5f",
   "metadata": {},
   "outputs": [
    {
     "data": {
      "text/html": [
       "<div>\n",
       "<style scoped>\n",
       "    .dataframe tbody tr th:only-of-type {\n",
       "        vertical-align: middle;\n",
       "    }\n",
       "\n",
       "    .dataframe tbody tr th {\n",
       "        vertical-align: top;\n",
       "    }\n",
       "\n",
       "    .dataframe thead th {\n",
       "        text-align: right;\n",
       "    }\n",
       "</style>\n",
       "<table border=\"1\" class=\"dataframe\">\n",
       "  <thead>\n",
       "    <tr style=\"text-align: right;\">\n",
       "      <th></th>\n",
       "      <th>beats</th>\n",
       "      <th>time</th>\n",
       "      <th>class_label</th>\n",
       "    </tr>\n",
       "  </thead>\n",
       "  <tbody>\n",
       "    <tr>\n",
       "      <th>0</th>\n",
       "      <td>[52, 103, 170, 232]</td>\n",
       "      <td>50.666360</td>\n",
       "      <td>artifact</td>\n",
       "    </tr>\n",
       "    <tr>\n",
       "      <th>1</th>\n",
       "      <td>[159, 185]</td>\n",
       "      <td>99.384014</td>\n",
       "      <td>artifact</td>\n",
       "    </tr>\n",
       "    <tr>\n",
       "      <th>2</th>\n",
       "      <td>[49, 73, 92, 114, 135, 156, 176, 196, 216, 238...</td>\n",
       "      <td>112.347147</td>\n",
       "      <td>artifact</td>\n",
       "    </tr>\n",
       "    <tr>\n",
       "      <th>3</th>\n",
       "      <td>[19, 44, 69, 93, 117, 143, 166, 191, 216, 239,...</td>\n",
       "      <td>103.359375</td>\n",
       "      <td>artifact</td>\n",
       "    </tr>\n",
       "    <tr>\n",
       "      <th>4</th>\n",
       "      <td>[60, 81, 100, 120, 140, 160, 181, 201, 220, 24...</td>\n",
       "      <td>123.046875</td>\n",
       "      <td>artifact</td>\n",
       "    </tr>\n",
       "    <tr>\n",
       "      <th>...</th>\n",
       "      <td>...</td>\n",
       "      <td>...</td>\n",
       "      <td>...</td>\n",
       "    </tr>\n",
       "    <tr>\n",
       "      <th>119</th>\n",
       "      <td>[40, 76, 110, 145, 182, 219, 255, 290]</td>\n",
       "      <td>71.777344</td>\n",
       "      <td>normal</td>\n",
       "    </tr>\n",
       "    <tr>\n",
       "      <th>120</th>\n",
       "      <td>[]</td>\n",
       "      <td>0.000000</td>\n",
       "      <td>normal</td>\n",
       "    </tr>\n",
       "    <tr>\n",
       "      <th>121</th>\n",
       "      <td>[]</td>\n",
       "      <td>0.000000</td>\n",
       "      <td>normal</td>\n",
       "    </tr>\n",
       "    <tr>\n",
       "      <th>122</th>\n",
       "      <td>[]</td>\n",
       "      <td>0.000000</td>\n",
       "      <td>normal</td>\n",
       "    </tr>\n",
       "    <tr>\n",
       "      <th>123</th>\n",
       "      <td>[]</td>\n",
       "      <td>0.000000</td>\n",
       "      <td>normal</td>\n",
       "    </tr>\n",
       "  </tbody>\n",
       "</table>\n",
       "<p>124 rows × 3 columns</p>\n",
       "</div>"
      ],
      "text/plain": [
       "                                                 beats        time class_label\n",
       "0                                  [52, 103, 170, 232]   50.666360    artifact\n",
       "1                                           [159, 185]   99.384014    artifact\n",
       "2    [49, 73, 92, 114, 135, 156, 176, 196, 216, 238...  112.347147    artifact\n",
       "3    [19, 44, 69, 93, 117, 143, 166, 191, 216, 239,...  103.359375    artifact\n",
       "4    [60, 81, 100, 120, 140, 160, 181, 201, 220, 24...  123.046875    artifact\n",
       "..                                                 ...         ...         ...\n",
       "119             [40, 76, 110, 145, 182, 219, 255, 290]   71.777344      normal\n",
       "120                                                 []    0.000000      normal\n",
       "121                                                 []    0.000000      normal\n",
       "122                                                 []    0.000000      normal\n",
       "123                                                 []    0.000000      normal\n",
       "\n",
       "[124 rows x 3 columns]"
      ]
     },
     "execution_count": 20,
     "metadata": {},
     "output_type": "execute_result"
    }
   ],
   "source": [
    "tb_df"
   ]
  },
  {
   "cell_type": "markdown",
   "id": "b9c178f3",
   "metadata": {},
   "source": [
    "## MFCCs - Mel-Frequency Cepstrum Coefficients"
   ]
  },
  {
   "cell_type": "markdown",
   "id": "ce1548a1",
   "metadata": {},
   "source": [
    "### Extract coefficients from only one file"
   ]
  },
  {
   "cell_type": "code",
   "execution_count": 26,
   "id": "6d57e278",
   "metadata": {},
   "outputs": [
    {
     "name": "stdout",
     "output_type": "stream",
     "text": [
      "(40, 388)\n"
     ]
    }
   ],
   "source": [
    "mfccs = librosa.feature.mfcc(y=librosa_audio, sr=librosa_sample_rate, n_mfcc = 40)\n",
    "print(mfccs.shape)"
   ]
  },
  {
   "cell_type": "code",
   "execution_count": 27,
   "id": "01b48bc2",
   "metadata": {
    "scrolled": true
   },
   "outputs": [
    {
     "data": {
      "text/plain": [
       "{'web': 'https://www.comet.ml/api/image/download?imageId=8406f4795f8b4cdb8d5152906a16279c&experimentKey=48eb54fc56fa4d88a6b8c3798c1f2717',\n",
       " 'api': 'https://www.comet.ml/api/rest/v1/image/get-image?imageId=8406f4795f8b4cdb8d5152906a16279c&experimentKey=48eb54fc56fa4d88a6b8c3798c1f2717',\n",
       " 'imageId': '8406f4795f8b4cdb8d5152906a16279c'}"
      ]
     },
     "execution_count": 27,
     "metadata": {},
     "output_type": "execute_result"
    },
    {
     "data": {
      "image/png": "[encoded data removed]",
      "text/plain": [
       "<Figure size 576x576 with 1 Axes>"
      ]
     },
     "metadata": {
      "needs_background": "light"
     },
     "output_type": "display_data"
    }
   ],
   "source": [
    "plt.figure(figsize=(8,8))\n",
    "librosa.display.specshow(mfccs, sr=librosa_sample_rate, x_axis='time')\n",
    "plt.savefig('../images/MFCCs.png')\n",
    "experiment.log_image('../images/MFCCs.png')"
   ]
  },
  {
   "cell_type": "markdown",
   "id": "643a60c3",
   "metadata": {},
   "source": [
    "### Function to extract the MFCCs from every file in our dataset"
   ]
  },
  {
   "cell_type": "code",
   "execution_count": 28,
   "id": "c2ee064c",
   "metadata": {},
   "outputs": [],
   "source": [
    "def extract_features(file_name):\n",
    "    audio, sample_rate = librosa.load(file_name, res_type='kaiser_fast') \n",
    "    mfccs = librosa.feature.mfcc(y=audio, sr=sample_rate, n_mfcc=40)\n",
    "    mfccs_processed = np.mean(mfccs.T,axis=0)\n",
    "     \n",
    "    return mfccs_processed"
   ]
  },
  {
   "cell_type": "code",
   "execution_count": 35,
   "id": "b6868d82",
   "metadata": {},
   "outputs": [],
   "source": [
    "features = []# Iterate through each sound file and extract the features \n",
    "\n",
    "for index, row in df.iterrows():\n",
    "    \n",
    "    absolutePath = os.path.abspath(\"../\")\n",
    "    fname = str(row[\"fname\"])\n",
    "    file_name = os.path.join(absolutePath,fname)\n",
    "    \n",
    "    class_label = row[\"label\"]\n",
    "    \n",
    "    if(class_label != \"unlab\"):\n",
    "        data = extract_features(file_name)\n",
    "        features.append([data, class_label])\n",
    "    \n",
    "# Convert into a Panda dataframe \n",
    "featuresdf = pd.DataFrame(features, columns=['feature','class_label'])"
   ]
  },
  {
   "cell_type": "code",
   "execution_count": 36,
   "id": "a75a1219",
   "metadata": {},
   "outputs": [
    {
     "data": {
      "text/html": [
       "<div>\n",
       "<style scoped>\n",
       "    .dataframe tbody tr th:only-of-type {\n",
       "        vertical-align: middle;\n",
       "    }\n",
       "\n",
       "    .dataframe tbody tr th {\n",
       "        vertical-align: top;\n",
       "    }\n",
       "\n",
       "    .dataframe thead th {\n",
       "        text-align: right;\n",
       "    }\n",
       "</style>\n",
       "<table border=\"1\" class=\"dataframe\">\n",
       "  <thead>\n",
       "    <tr style=\"text-align: right;\">\n",
       "      <th></th>\n",
       "      <th>feature</th>\n",
       "      <th>class_label</th>\n",
       "    </tr>\n",
       "  </thead>\n",
       "  <tbody>\n",
       "    <tr>\n",
       "      <th>0</th>\n",
       "      <td>[-594.53345, 39.48496, 4.773615, 6.360032, 2.7...</td>\n",
       "      <td>artifact</td>\n",
       "    </tr>\n",
       "    <tr>\n",
       "      <th>1</th>\n",
       "      <td>[-756.76984, 38.06422, -12.761636, 5.586702, -...</td>\n",
       "      <td>artifact</td>\n",
       "    </tr>\n",
       "    <tr>\n",
       "      <th>2</th>\n",
       "      <td>[-568.246, 48.002598, -25.640783, 8.441813, -2...</td>\n",
       "      <td>artifact</td>\n",
       "    </tr>\n",
       "    <tr>\n",
       "      <th>3</th>\n",
       "      <td>[-299.85703, 112.79045, -22.194496, 28.633465,...</td>\n",
       "      <td>artifact</td>\n",
       "    </tr>\n",
       "    <tr>\n",
       "      <th>4</th>\n",
       "      <td>[-296.34073, 102.59627, -18.80507, 15.606756, ...</td>\n",
       "      <td>artifact</td>\n",
       "    </tr>\n",
       "  </tbody>\n",
       "</table>\n",
       "</div>"
      ],
      "text/plain": [
       "                                             feature class_label\n",
       "0  [-594.53345, 39.48496, 4.773615, 6.360032, 2.7...    artifact\n",
       "1  [-756.76984, 38.06422, -12.761636, 5.586702, -...    artifact\n",
       "2  [-568.246, 48.002598, -25.640783, 8.441813, -2...    artifact\n",
       "3  [-299.85703, 112.79045, -22.194496, 28.633465,...    artifact\n",
       "4  [-296.34073, 102.59627, -18.80507, 15.606756, ...    artifact"
      ]
     },
     "execution_count": 36,
     "metadata": {},
     "output_type": "execute_result"
    }
   ],
   "source": [
    "featuresdf.head()"
   ]
  },
  {
   "cell_type": "code",
   "execution_count": 37,
   "id": "c610201f",
   "metadata": {
    "scrolled": true
   },
   "outputs": [
    {
     "data": {
      "text/plain": [
       "array([-5.9453345e+02,  3.9484959e+01,  4.7736149e+00,  6.3600321e+00,\n",
       "        2.7210441e+00,  1.9556358e+00, -1.5586532e+00, -1.5916940e+00,\n",
       "       -4.1285987e+00, -9.4592869e-01, -2.9675467e+00, -2.1387017e+00,\n",
       "       -3.4743207e+00, -1.7667232e+00, -2.4402936e+00, -1.8360806e+00,\n",
       "       -2.1535695e+00, -1.2188101e+00, -1.6877983e+00, -1.3186961e+00,\n",
       "       -1.6294661e+00, -1.5636450e+00, -1.0807190e+00, -1.5055786e+00,\n",
       "       -9.3540710e-01, -9.4582045e-01, -6.7552823e-01, -4.6510810e-01,\n",
       "       -5.9152031e-01, -6.3035971e-01, -3.6442605e-01, -2.2027926e-01,\n",
       "       -5.5047251e-02,  1.7959123e-02, -7.3863313e-02, -2.9855010e-01,\n",
       "        4.0030742e-01,  3.0644944e-01,  2.5131455e-01,  2.2699493e-01],\n",
       "      dtype=float32)"
      ]
     },
     "execution_count": 37,
     "metadata": {},
     "output_type": "execute_result"
    }
   ],
   "source": [
    "featuresdf.iloc[0]['feature']"
   ]
  },
  {
   "cell_type": "markdown",
   "id": "69052eeb",
   "metadata": {},
   "source": [
    "## Model building and training"
   ]
  },
  {
   "cell_type": "code",
   "execution_count": 38,
   "id": "d90c6aa1",
   "metadata": {},
   "outputs": [],
   "source": [
    "# Convert features and corresponding classification labels into numpy arrays\n",
    "X = np.array(featuresdf.feature.tolist())\n",
    "y = np.array(featuresdf.class_label.tolist())\n",
    "\n",
    "# Encode the classification labels\n",
    "le = LabelEncoder()\n",
    "yy = to_categorical(le.fit_transform(y))"
   ]
  },
  {
   "cell_type": "markdown",
   "id": "9c381f86",
   "metadata": {},
   "source": [
    "### Trainning and test sets"
   ]
  },
  {
   "cell_type": "code",
   "execution_count": 39,
   "id": "1d6a5c6b",
   "metadata": {},
   "outputs": [],
   "source": [
    "x_train, x_test, y_train, y_test = train_test_split(X, yy, test_size=0.2, random_state = 127)"
   ]
  },
  {
   "cell_type": "markdown",
   "id": "0874155a",
   "metadata": {},
   "source": [
    "### Neural Network architecture"
   ]
  },
  {
   "cell_type": "code",
   "execution_count": 44,
   "id": "1d400943",
   "metadata": {
    "scrolled": true
   },
   "outputs": [
    {
     "name": "stdout",
     "output_type": "stream",
     "text": [
      "Model: \"sequential_2\"\n",
      "_________________________________________________________________\n",
      " Layer (type)                Output Shape              Param #   \n",
      "=================================================================\n",
      " dense_6 (Dense)             (99, 256)                 10496     \n",
      "                                                                 \n",
      " activation_6 (Activation)   (99, 256)                 0         \n",
      "                                                                 \n",
      " dropout_4 (Dropout)         (99, 256)                 0         \n",
      "                                                                 \n",
      " dense_7 (Dense)             (99, 256)                 65792     \n",
      "                                                                 \n",
      " activation_7 (Activation)   (99, 256)                 0         \n",
      "                                                                 \n",
      " dropout_5 (Dropout)         (99, 256)                 0         \n",
      "                                                                 \n",
      " dense_8 (Dense)             (99, 4)                   1028      \n",
      "                                                                 \n",
      " activation_8 (Activation)   (99, 4)                   0         \n",
      "                                                                 \n",
      "=================================================================\n",
      "Total params: 77,316\n",
      "Trainable params: 77,316\n",
      "Non-trainable params: 0\n",
      "_________________________________________________________________\n",
      "Pre-training accuracy: 20.0000%\n"
     ]
    }
   ],
   "source": [
    "num_labels = yy.shape[1]\n",
    "\n",
    "filter_size = 2\n",
    "\n",
    "def build_model_graph(input_shape=(40,)):\n",
    "    model = Sequential()\n",
    "    model.add(Dense(256))\n",
    "    model.add(Activation('relu'))\n",
    "    model.add(Dropout(0.5))\n",
    "    model.add(Dense(256))\n",
    "    model.add(Activation('relu'))\n",
    "    model.add(Dropout(0.5))\n",
    "    model.add(Dense(num_labels))\n",
    "    model.add(Activation('softmax'))\n",
    "    # Compile the model\n",
    "    model.compile(loss='categorical_crossentropy', metrics=['accuracy'], optimizer='adam') \n",
    "    \n",
    "    return model\n",
    "\n",
    "model = build_model_graph()\n",
    "\n",
    "# Display model architecture summary \n",
    "model(x_train)\n",
    "model.summary()# Calculate pre-training accuracy \n",
    "score = model.evaluate(x_test, y_test, verbose=0)\n",
    "accuracy = 100*score[1]\n",
    "\n",
    "print(\"Pre-training accuracy: %.4f%%\" % accuracy)"
   ]
  },
  {
   "cell_type": "markdown",
   "id": "756e750c",
   "metadata": {},
   "source": [
    "### Model Trainning"
   ]
  },
  {
   "cell_type": "code",
   "execution_count": 42,
   "id": "8ee43c4d",
   "metadata": {
    "scrolled": true
   },
   "outputs": [
    {
     "name": "stderr",
     "output_type": "stream",
     "text": [
      "COMET INFO: Ignoring automatic log_parameter('verbose') because 'keras:verbose' is in COMET_LOGGING_PARAMETERS_IGNORE\n"
     ]
    },
    {
     "name": "stdout",
     "output_type": "stream",
     "text": [
      "Epoch 1/100\n"
     ]
    },
    {
     "name": "stderr",
     "output_type": "stream",
     "text": [
      "COMET INFO: ignoring tensorflow summary log of metrics because of keras; set `comet_ml.loggers.tensorboard_logger.LOG_METRICS = True` to override\n"
     ]
    },
    {
     "name": "stdout",
     "output_type": "stream",
     "text": [
      "4/4 [==============================] - 2s 68ms/step - loss: 53.6957 - accuracy: 0.1919 - val_loss: 7.3361 - val_accuracy: 0.2800\n",
      "Epoch 2/100\n",
      "4/4 [==============================] - 0s 49ms/step - loss: 31.9391 - accuracy: 0.2626 - val_loss: 25.0511 - val_accuracy: 0.2800\n",
      "Epoch 3/100\n",
      "4/4 [==============================] - 0s 54ms/step - loss: 36.3698 - accuracy: 0.3131 - val_loss: 21.2434 - val_accuracy: 0.3200\n",
      "Epoch 4/100\n",
      "4/4 [==============================] - 0s 57ms/step - loss: 26.7843 - accuracy: 0.3333 - val_loss: 12.6938 - val_accuracy: 0.4000\n",
      "Epoch 5/100\n",
      "4/4 [==============================] - 0s 41ms/step - loss: 24.9383 - accuracy: 0.2828 - val_loss: 9.7782 - val_accuracy: 0.5200\n",
      "Epoch 6/100\n",
      "4/4 [==============================] - 0s 40ms/step - loss: 28.4626 - accuracy: 0.3535 - val_loss: 11.6266 - val_accuracy: 0.5200\n",
      "Epoch 7/100\n",
      "4/4 [==============================] - 0s 43ms/step - loss: 22.1603 - accuracy: 0.4545 - val_loss: 10.1840 - val_accuracy: 0.5600\n",
      "Epoch 8/100\n",
      "4/4 [==============================] - 0s 30ms/step - loss: 22.4709 - accuracy: 0.3939 - val_loss: 4.6763 - val_accuracy: 0.5600\n",
      "Epoch 9/100\n",
      "4/4 [==============================] - 0s 30ms/step - loss: 23.1794 - accuracy: 0.3838 - val_loss: 2.5713 - val_accuracy: 0.6000\n",
      "Epoch 10/100\n",
      "4/4 [==============================] - 0s 29ms/step - loss: 16.5664 - accuracy: 0.4141 - val_loss: 3.5325 - val_accuracy: 0.6400\n",
      "Epoch 11/100\n",
      "4/4 [==============================] - 0s 35ms/step - loss: 21.7706 - accuracy: 0.4545 - val_loss: 3.7604 - val_accuracy: 0.6000\n",
      "Epoch 12/100\n",
      "4/4 [==============================] - 0s 40ms/step - loss: 21.2288 - accuracy: 0.3838 - val_loss: 4.6338 - val_accuracy: 0.5200\n",
      "Epoch 13/100\n",
      "4/4 [==============================] - 0s 35ms/step - loss: 17.2922 - accuracy: 0.3939 - val_loss: 5.2630 - val_accuracy: 0.5200\n",
      "Epoch 14/100\n",
      "4/4 [==============================] - 0s 33ms/step - loss: 18.0462 - accuracy: 0.4040 - val_loss: 4.8110 - val_accuracy: 0.5600\n",
      "Epoch 15/100\n",
      "4/4 [==============================] - 0s 32ms/step - loss: 16.2690 - accuracy: 0.4848 - val_loss: 3.6651 - val_accuracy: 0.5600\n",
      "Epoch 16/100\n",
      "4/4 [==============================] - 0s 33ms/step - loss: 15.4328 - accuracy: 0.4343 - val_loss: 2.9695 - val_accuracy: 0.5600\n",
      "Epoch 17/100\n",
      "4/4 [==============================] - 0s 31ms/step - loss: 13.6764 - accuracy: 0.4545 - val_loss: 3.0369 - val_accuracy: 0.6800\n",
      "Epoch 18/100\n",
      "4/4 [==============================] - 0s 34ms/step - loss: 13.8437 - accuracy: 0.5051 - val_loss: 2.2763 - val_accuracy: 0.7200\n",
      "Epoch 19/100\n",
      "4/4 [==============================] - 0s 36ms/step - loss: 11.5730 - accuracy: 0.5253 - val_loss: 1.2774 - val_accuracy: 0.6800\n",
      "Epoch 20/100\n",
      "4/4 [==============================] - 0s 48ms/step - loss: 11.8707 - accuracy: 0.4646 - val_loss: 1.2538 - val_accuracy: 0.7200\n",
      "Epoch 21/100\n",
      "4/4 [==============================] - 0s 32ms/step - loss: 12.2520 - accuracy: 0.5354 - val_loss: 1.7481 - val_accuracy: 0.6800\n",
      "Epoch 22/100\n",
      "4/4 [==============================] - 0s 40ms/step - loss: 9.0911 - accuracy: 0.5556 - val_loss: 3.4138 - val_accuracy: 0.5600\n",
      "Epoch 23/100\n",
      "4/4 [==============================] - 0s 46ms/step - loss: 12.9221 - accuracy: 0.4646 - val_loss: 4.5273 - val_accuracy: 0.5600\n",
      "Epoch 24/100\n",
      "4/4 [==============================] - 0s 67ms/step - loss: 10.8455 - accuracy: 0.4646 - val_loss: 3.7007 - val_accuracy: 0.6800\n",
      "Epoch 25/100\n",
      "4/4 [==============================] - ETA: 0s - loss: 8.9901 - accuracy: 0.68 - 0s 58ms/step - loss: 12.7763 - accuracy: 0.5455 - val_loss: 3.3479 - val_accuracy: 0.6800\n",
      "Epoch 26/100\n",
      "4/4 [==============================] - 0s 49ms/step - loss: 8.9312 - accuracy: 0.5556 - val_loss: 2.4723 - val_accuracy: 0.6400\n",
      "Epoch 27/100\n",
      "4/4 [==============================] - 0s 38ms/step - loss: 8.9539 - accuracy: 0.5152 - val_loss: 2.1607 - val_accuracy: 0.6400\n",
      "Epoch 28/100\n",
      "4/4 [==============================] - 0s 62ms/step - loss: 11.9960 - accuracy: 0.3737 - val_loss: 1.9397 - val_accuracy: 0.6400\n",
      "Epoch 29/100\n",
      "4/4 [==============================] - 0s 52ms/step - loss: 7.6743 - accuracy: 0.5758 - val_loss: 2.1376 - val_accuracy: 0.6000\n",
      "Epoch 30/100\n",
      "4/4 [==============================] - 0s 53ms/step - loss: 8.2304 - accuracy: 0.5051 - val_loss: 2.3798 - val_accuracy: 0.5200\n",
      "Epoch 31/100\n",
      "4/4 [==============================] - ETA: 0s - loss: 9.1984 - accuracy: 0.55 - 0s 59ms/step - loss: 9.1984 - accuracy: 0.5556 - val_loss: 2.3244 - val_accuracy: 0.5200\n",
      "Epoch 32/100\n",
      "4/4 [==============================] - 0s 40ms/step - loss: 8.6259 - accuracy: 0.5253 - val_loss: 2.0276 - val_accuracy: 0.5600\n",
      "Epoch 33/100\n",
      "4/4 [==============================] - 0s 45ms/step - loss: 6.3808 - accuracy: 0.4949 - val_loss: 1.7962 - val_accuracy: 0.6000\n",
      "Epoch 34/100\n",
      "4/4 [==============================] - 0s 39ms/step - loss: 6.4552 - accuracy: 0.5455 - val_loss: 1.6568 - val_accuracy: 0.5600\n",
      "Epoch 35/100\n",
      "4/4 [==============================] - 0s 31ms/step - loss: 6.6459 - accuracy: 0.5556 - val_loss: 1.5855 - val_accuracy: 0.6400\n",
      "Epoch 36/100\n",
      "4/4 [==============================] - 0s 38ms/step - loss: 7.2525 - accuracy: 0.4747 - val_loss: 1.6900 - val_accuracy: 0.6000\n",
      "Epoch 37/100\n",
      "4/4 [==============================] - 0s 35ms/step - loss: 6.3469 - accuracy: 0.4949 - val_loss: 1.9473 - val_accuracy: 0.5600\n",
      "Epoch 38/100\n",
      "4/4 [==============================] - 0s 79ms/step - loss: 4.9131 - accuracy: 0.5556 - val_loss: 1.8153 - val_accuracy: 0.5600\n",
      "Epoch 39/100\n",
      "4/4 [==============================] - 0s 52ms/step - loss: 6.6866 - accuracy: 0.4747 - val_loss: 1.7941 - val_accuracy: 0.5200\n",
      "Epoch 40/100\n",
      "4/4 [==============================] - 0s 34ms/step - loss: 6.8044 - accuracy: 0.4949 - val_loss: 1.7152 - val_accuracy: 0.5200\n",
      "Epoch 41/100\n",
      "4/4 [==============================] - 0s 38ms/step - loss: 5.2215 - accuracy: 0.6364 - val_loss: 1.4667 - val_accuracy: 0.5600\n",
      "Epoch 42/100\n",
      "4/4 [==============================] - 0s 36ms/step - loss: 5.2104 - accuracy: 0.6061 - val_loss: 1.1729 - val_accuracy: 0.6400\n",
      "Epoch 43/100\n",
      "4/4 [==============================] - 0s 35ms/step - loss: 5.0502 - accuracy: 0.6061 - val_loss: 1.0035 - val_accuracy: 0.7200\n",
      "Epoch 44/100\n",
      "4/4 [==============================] - 0s 57ms/step - loss: 4.5179 - accuracy: 0.5859 - val_loss: 0.9205 - val_accuracy: 0.7200\n",
      "Epoch 45/100\n",
      "4/4 [==============================] - 0s 58ms/step - loss: 4.8356 - accuracy: 0.5152 - val_loss: 0.9129 - val_accuracy: 0.7600\n",
      "Epoch 46/100\n",
      "4/4 [==============================] - 0s 51ms/step - loss: 5.5370 - accuracy: 0.5253 - val_loss: 0.9624 - val_accuracy: 0.7600\n",
      "Epoch 47/100\n",
      "4/4 [==============================] - 0s 40ms/step - loss: 4.8353 - accuracy: 0.5859 - val_loss: 1.0241 - val_accuracy: 0.6800\n",
      "Epoch 48/100\n",
      "4/4 [==============================] - 0s 47ms/step - loss: 4.4558 - accuracy: 0.5253 - val_loss: 1.1370 - val_accuracy: 0.5600\n",
      "Epoch 49/100\n",
      "4/4 [==============================] - ETA: 0s - loss: 3.4681 - accuracy: 0.59 - 0s 57ms/step - loss: 3.4681 - accuracy: 0.5960 - val_loss: 1.1134 - val_accuracy: 0.6000\n",
      "Epoch 50/100\n",
      "4/4 [==============================] - 0s 40ms/step - loss: 4.1994 - accuracy: 0.4747 - val_loss: 1.1390 - val_accuracy: 0.6000\n",
      "Epoch 51/100\n",
      "4/4 [==============================] - 0s 38ms/step - loss: 4.4470 - accuracy: 0.4949 - val_loss: 1.1366 - val_accuracy: 0.6400\n",
      "Epoch 52/100\n",
      "4/4 [==============================] - 0s 33ms/step - loss: 3.4818 - accuracy: 0.5556 - val_loss: 1.1309 - val_accuracy: 0.6400\n",
      "Epoch 53/100\n",
      "4/4 [==============================] - 0s 35ms/step - loss: 4.0123 - accuracy: 0.4848 - val_loss: 1.1771 - val_accuracy: 0.5600\n",
      "Epoch 54/100\n",
      "4/4 [==============================] - 0s 40ms/step - loss: 4.2593 - accuracy: 0.5152 - val_loss: 1.3118 - val_accuracy: 0.5600\n",
      "Epoch 55/100\n",
      "4/4 [==============================] - 0s 31ms/step - loss: 3.9950 - accuracy: 0.5253 - val_loss: 1.3715 - val_accuracy: 0.5200\n",
      "Epoch 56/100\n",
      "4/4 [==============================] - 0s 33ms/step - loss: 4.3570 - accuracy: 0.5758 - val_loss: 1.3384 - val_accuracy: 0.5200\n",
      "Epoch 57/100\n",
      "4/4 [==============================] - 0s 37ms/step - loss: 3.1816 - accuracy: 0.5556 - val_loss: 1.3851 - val_accuracy: 0.5200\n",
      "Epoch 58/100\n"
     ]
    },
    {
     "name": "stdout",
     "output_type": "stream",
     "text": [
      "4/4 [==============================] - 0s 45ms/step - loss: 3.0792 - accuracy: 0.5758 - val_loss: 1.3785 - val_accuracy: 0.4800\n",
      "Epoch 59/100\n",
      "4/4 [==============================] - 0s 44ms/step - loss: 3.1647 - accuracy: 0.5758 - val_loss: 1.3705 - val_accuracy: 0.3600\n",
      "Epoch 60/100\n",
      "4/4 [==============================] - 0s 30ms/step - loss: 3.9640 - accuracy: 0.4646 - val_loss: 1.3572 - val_accuracy: 0.4000\n",
      "Epoch 61/100\n",
      "4/4 [==============================] - 0s 34ms/step - loss: 3.5436 - accuracy: 0.5253 - val_loss: 1.2067 - val_accuracy: 0.4400\n",
      "Epoch 62/100\n",
      "4/4 [==============================] - 0s 33ms/step - loss: 3.5329 - accuracy: 0.5152 - val_loss: 1.0557 - val_accuracy: 0.5200\n",
      "Epoch 63/100\n",
      "4/4 [==============================] - 0s 51ms/step - loss: 2.9556 - accuracy: 0.5758 - val_loss: 0.9522 - val_accuracy: 0.6800\n",
      "Epoch 64/100\n",
      "4/4 [==============================] - 0s 40ms/step - loss: 3.3659 - accuracy: 0.4949 - val_loss: 0.8799 - val_accuracy: 0.6000\n",
      "Epoch 65/100\n",
      "4/4 [==============================] - 0s 36ms/step - loss: 2.1201 - accuracy: 0.6364 - val_loss: 0.8302 - val_accuracy: 0.6400\n",
      "Epoch 66/100\n",
      "4/4 [==============================] - 0s 42ms/step - loss: 2.9710 - accuracy: 0.5455 - val_loss: 0.7854 - val_accuracy: 0.6800\n",
      "Epoch 67/100\n",
      "4/4 [==============================] - 0s 41ms/step - loss: 2.3670 - accuracy: 0.5556 - val_loss: 0.7784 - val_accuracy: 0.6000\n",
      "Epoch 68/100\n",
      "4/4 [==============================] - 0s 32ms/step - loss: 2.7250 - accuracy: 0.6263 - val_loss: 0.7984 - val_accuracy: 0.6400\n",
      "Epoch 69/100\n",
      "4/4 [==============================] - 0s 29ms/step - loss: 2.8594 - accuracy: 0.5657 - val_loss: 0.8080 - val_accuracy: 0.6800\n",
      "Epoch 70/100\n",
      "4/4 [==============================] - 0s 33ms/step - loss: 2.6225 - accuracy: 0.5354 - val_loss: 0.8371 - val_accuracy: 0.6800\n",
      "Epoch 71/100\n",
      "4/4 [==============================] - 0s 32ms/step - loss: 2.5365 - accuracy: 0.5758 - val_loss: 0.8629 - val_accuracy: 0.6400\n",
      "Epoch 72/100\n",
      "4/4 [==============================] - 0s 34ms/step - loss: 2.0878 - accuracy: 0.5859 - val_loss: 0.8921 - val_accuracy: 0.4800\n",
      "Epoch 73/100\n",
      "4/4 [==============================] - 0s 36ms/step - loss: 3.1903 - accuracy: 0.4545 - val_loss: 0.9052 - val_accuracy: 0.4400\n",
      "Epoch 74/100\n",
      "4/4 [==============================] - 0s 40ms/step - loss: 1.6110 - accuracy: 0.7071 - val_loss: 0.9078 - val_accuracy: 0.4400\n",
      "Epoch 75/100\n",
      "4/4 [==============================] - 0s 39ms/step - loss: 1.7543 - accuracy: 0.5152 - val_loss: 0.9067 - val_accuracy: 0.3600\n",
      "Epoch 76/100\n",
      "4/4 [==============================] - 0s 42ms/step - loss: 2.5907 - accuracy: 0.5354 - val_loss: 0.9054 - val_accuracy: 0.4000\n",
      "Epoch 77/100\n",
      "4/4 [==============================] - 0s 46ms/step - loss: 2.3260 - accuracy: 0.5354 - val_loss: 0.9113 - val_accuracy: 0.4800\n",
      "Epoch 78/100\n",
      "4/4 [==============================] - 0s 63ms/step - loss: 2.3307 - accuracy: 0.5859 - val_loss: 0.9305 - val_accuracy: 0.5200\n",
      "Epoch 79/100\n",
      "4/4 [==============================] - 0s 53ms/step - loss: 2.7910 - accuracy: 0.5455 - val_loss: 0.9449 - val_accuracy: 0.5600\n",
      "Epoch 80/100\n",
      "4/4 [==============================] - 0s 55ms/step - loss: 1.9730 - accuracy: 0.5051 - val_loss: 0.9570 - val_accuracy: 0.6000\n",
      "Epoch 81/100\n",
      "4/4 [==============================] - 0s 65ms/step - loss: 2.6596 - accuracy: 0.4646 - val_loss: 0.9709 - val_accuracy: 0.6000\n",
      "Epoch 82/100\n",
      "4/4 [==============================] - 0s 51ms/step - loss: 2.1633 - accuracy: 0.5556 - val_loss: 0.9703 - val_accuracy: 0.6000\n",
      "Epoch 83/100\n",
      "4/4 [==============================] - 0s 81ms/step - loss: 2.4537 - accuracy: 0.5152 - val_loss: 0.9791 - val_accuracy: 0.6000\n",
      "Epoch 84/100\n",
      "4/4 [==============================] - 0s 74ms/step - loss: 1.9910 - accuracy: 0.5556 - val_loss: 0.9819 - val_accuracy: 0.6000\n",
      "Epoch 85/100\n",
      "4/4 [==============================] - 0s 36ms/step - loss: 1.9877 - accuracy: 0.6162 - val_loss: 0.9751 - val_accuracy: 0.6000\n",
      "Epoch 86/100\n",
      "4/4 [==============================] - 0s 54ms/step - loss: 1.5635 - accuracy: 0.6162 - val_loss: 0.9596 - val_accuracy: 0.6000\n",
      "Epoch 87/100\n",
      "4/4 [==============================] - 0s 93ms/step - loss: 2.0718 - accuracy: 0.5455 - val_loss: 0.9467 - val_accuracy: 0.6000\n",
      "Epoch 88/100\n",
      "4/4 [==============================] - 0s 60ms/step - loss: 1.9576 - accuracy: 0.5051 - val_loss: 0.9372 - val_accuracy: 0.6000\n",
      "Epoch 89/100\n",
      "4/4 [==============================] - 0s 52ms/step - loss: 1.6528 - accuracy: 0.5960 - val_loss: 0.9589 - val_accuracy: 0.6000\n",
      "Epoch 90/100\n",
      "4/4 [==============================] - 0s 70ms/step - loss: 1.2669 - accuracy: 0.5657 - val_loss: 0.9982 - val_accuracy: 0.5600\n",
      "Epoch 91/100\n",
      "4/4 [==============================] - 0s 60ms/step - loss: 1.5628 - accuracy: 0.6061 - val_loss: 1.0045 - val_accuracy: 0.5600\n",
      "Epoch 92/100\n",
      "4/4 [==============================] - 0s 39ms/step - loss: 1.9122 - accuracy: 0.5152 - val_loss: 1.0016 - val_accuracy: 0.5600\n",
      "Epoch 93/100\n",
      "4/4 [==============================] - 0s 33ms/step - loss: 1.7778 - accuracy: 0.5455 - val_loss: 0.9984 - val_accuracy: 0.5600\n",
      "Epoch 94/100\n",
      "4/4 [==============================] - 0s 38ms/step - loss: 1.7104 - accuracy: 0.5657 - val_loss: 0.9932 - val_accuracy: 0.6000\n",
      "Epoch 95/100\n",
      "4/4 [==============================] - 0s 41ms/step - loss: 1.4985 - accuracy: 0.5455 - val_loss: 0.9883 - val_accuracy: 0.6000\n",
      "Epoch 96/100\n",
      "4/4 [==============================] - 0s 46ms/step - loss: 1.6071 - accuracy: 0.4444 - val_loss: 0.9845 - val_accuracy: 0.6000\n",
      "Epoch 97/100\n",
      "4/4 [==============================] - 0s 75ms/step - loss: 1.6727 - accuracy: 0.5556 - val_loss: 0.9828 - val_accuracy: 0.5600\n",
      "Epoch 98/100\n",
      "4/4 [==============================] - 0s 81ms/step - loss: 1.7266 - accuracy: 0.5556 - val_loss: 0.9820 - val_accuracy: 0.5200\n",
      "Epoch 99/100\n",
      "4/4 [==============================] - 0s 46ms/step - loss: 1.3304 - accuracy: 0.5758 - val_loss: 0.9837 - val_accuracy: 0.5200\n",
      "Epoch 100/100\n",
      "4/4 [==============================] - 0s 74ms/step - loss: 1.4887 - accuracy: 0.5556 - val_loss: 0.9830 - val_accuracy: 0.5200\n",
      "Training Accuracy: 58.59%\n",
      "Testing Accuracy: 52.00%\n"
     ]
    }
   ],
   "source": [
    "num_epochs = 100\n",
    "num_batch_size = 32\n",
    "model.fit(x_train, y_train, batch_size=num_batch_size, epochs=num_epochs, validation_data=(x_test, y_test), verbose=1)\n",
    "\n",
    "# Evaluating the model on the training and testing set\n",
    "score = model.evaluate(x_train, y_train, verbose=0)\n",
    "print(\"Training Accuracy: {0:.2%}\".format(score[1]))\n",
    "score = model.evaluate(x_test, y_test, verbose=0)\n",
    "print(\"Testing Accuracy: {0:.2%}\".format(score[1]))"
   ]
  },
  {
   "cell_type": "code",
   "execution_count": 43,
   "id": "d565231b",
   "metadata": {
    "scrolled": true
   },
   "outputs": [
    {
     "name": "stderr",
     "output_type": "stream",
     "text": [
      "COMET INFO: ---------------------------\n",
      "COMET INFO: Comet.ml Experiment Summary\n",
      "COMET INFO: ---------------------------\n",
      "COMET INFO:   Data:\n",
      "COMET INFO:     display_summary_level : 1\n",
      "COMET INFO:     url                   : https://www.comet.ml/negromontebs/seta/48eb54fc56fa4d88a6b8c3798c1f2717\n",
      "COMET INFO:   Metrics [count] (min, max):\n",
      "COMET INFO:     accuracy [100]                : (0.19191919267177582, 0.7070707082748413)\n",
      "COMET INFO:     batch_accuracy [100]          : (0.15625, 0.75)\n",
      "COMET INFO:     batch_loss [100]              : (0.8577468991279602, 52.19437789916992)\n",
      "COMET INFO:     epoch_duration [100]          : (0.09401293900009478, 1.4983039710000412)\n",
      "COMET INFO:     loss [100]                    : (1.2669384479522705, 53.695735931396484)\n",
      "COMET INFO:     val_accuracy [100]            : (0.2800000011920929, 0.7599999904632568)\n",
      "COMET INFO:     val_loss [100]                : (0.7783566117286682, 25.05113983154297)\n",
      "COMET INFO:     validate_batch_accuracy [100] : (0.2800000011920929, 0.7599999904632568)\n",
      "COMET INFO:     validate_batch_loss [100]     : (0.7783566117286682, 25.05113983154297)\n",
      "COMET INFO:   Others:\n",
      "COMET INFO:     trainable_params : 77316\n",
      "COMET INFO:   Parameters:\n",
      "COMET INFO:     Adam_amsgrad       : False\n",
      "COMET INFO:     Adam_beta_1        : 0.9\n",
      "COMET INFO:     Adam_beta_2        : 0.999\n",
      "COMET INFO:     Adam_decay         : 0.0\n",
      "COMET INFO:     Adam_epsilon       : 1e-07\n",
      "COMET INFO:     Adam_learning_rate : 0.001\n",
      "COMET INFO:     Adam_name          : Adam\n",
      "COMET INFO:     Optimizer          : Adam\n",
      "COMET INFO:     epochs             : 100\n",
      "COMET INFO:     steps              : 4\n",
      "COMET INFO:   Uploads:\n",
      "COMET INFO:     audio                    : 5\n",
      "COMET INFO:     environment details      : 1\n",
      "COMET INFO:     filename                 : 1\n",
      "COMET INFO:     git metadata             : 1\n",
      "COMET INFO:     git-patch (uncompressed) : 1 (322.84 KB)\n",
      "COMET INFO:     images                   : 4\n",
      "COMET INFO:     installed packages       : 1\n",
      "COMET INFO:     model graph              : 1\n",
      "COMET INFO:     notebook                 : 1\n",
      "COMET INFO:     os packages              : 1\n",
      "COMET INFO:     source_code              : 1\n",
      "COMET INFO: ---------------------------\n",
      "COMET INFO: Uploading metrics, params, and assets to Comet before program termination (may take several seconds)\n",
      "COMET INFO: The Python SDK has 3600 seconds to finish before aborting...\n"
     ]
    }
   ],
   "source": [
    "experiment.end()"
   ]
  },
  {
   "cell_type": "code",
   "execution_count": null,
   "id": "321af7e8",
   "metadata": {},
   "outputs": [],
   "source": []
  }
 ],
 "metadata": {
  "kernelspec": {
   "display_name": "Python 3 (ipykernel)",
   "language": "python",
   "name": "python3"
  },
  "language_info": {
   "codemirror_mode": {
    "name": "ipython",
    "version": 3
   },
   "file_extension": ".py",
   "mimetype": "text/x-python",
   "name": "python",
   "nbconvert_exporter": "python",
   "pygments_lexer": "ipython3",
   "version": "3.8.10"
  }
 },
 "nbformat": 4,
 "nbformat_minor": 5
}
