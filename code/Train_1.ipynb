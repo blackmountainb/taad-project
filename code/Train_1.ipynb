{
 "cells": [
  {
   "cell_type": "markdown",
   "id": "38ea8194",
   "metadata": {},
   "source": [
    "# Appling machine learning to audio analysis"
   ]
  },
  {
   "cell_type": "markdown",
   "id": "965a361c",
   "metadata": {},
   "source": [
    "### Trainning Code"
   ]
  },
  {
   "cell_type": "code",
   "execution_count": 1,
   "id": "32435a3d",
   "metadata": {
    "scrolled": true
   },
   "outputs": [],
   "source": [
    "### Dependencies were already installed previously on ubuntu\n",
    "### Comet: experiment tracking and visual tools\n",
    "\n",
    "from comet_ml import Experiment\n",
    "\n",
    "import IPython.display as ipd\n",
    "import numpy as np\n",
    "import pandas as pd\n",
    "import librosa # audio analysis\n",
    "import librosa.display # this submodule needs to be imported explicitly\n",
    "import matplotlib.pyplot as plt\n",
    "from scipy.io import wavfile as wav\n",
    "import os"
   ]
  },
  {
   "cell_type": "code",
   "execution_count": 2,
   "id": "f9f86e6c",
   "metadata": {},
   "outputs": [],
   "source": [
    "from sklearn import metrics\n",
    "from sklearn.preprocessing import LabelEncoder\n",
    "from sklearn.model_selection import train_test_split"
   ]
  },
  {
   "cell_type": "code",
   "execution_count": 3,
   "id": "3b22f8aa",
   "metadata": {
    "scrolled": true
   },
   "outputs": [
    {
     "name": "stderr",
     "output_type": "stream",
     "text": [
      "2022-01-06 11:18:09.790720: W tensorflow/stream_executor/platform/default/dso_loader.cc:64] Could not load dynamic library 'libcudart.so.11.0'; dlerror: libcudart.so.11.0: cannot open shared object file: No such file or directory\n",
      "2022-01-06 11:18:09.790773: I tensorflow/stream_executor/cuda/cudart_stub.cc:29] Ignore above cudart dlerror if you do not have a GPU set up on your machine.\n"
     ]
    }
   ],
   "source": [
    "from tensorflow import keras\n",
    "from keras.models import Sequential\n",
    "from keras.layers import Dense, Dropout, Activation\n",
    "# Keras now is fully integrated to Tensorflow, so to_categorical and Adam\n",
    "# can't be imported directly from keras, therefore, the update:\n",
    "from tensorflow.keras.optimizers import Adam\n",
    "from tensorflow.keras.utils import to_categorical"
   ]
  },
  {
   "cell_type": "code",
   "execution_count": 4,
   "id": "6c752792",
   "metadata": {},
   "outputs": [],
   "source": [
    "# To play audio file:\n",
    "import IPython.display as ipd"
   ]
  },
  {
   "cell_type": "code",
   "execution_count": 5,
   "id": "49aa3b70",
   "metadata": {
    "scrolled": true
   },
   "outputs": [
    {
     "name": "stderr",
     "output_type": "stream",
     "text": [
      "COMET WARNING: As you are running in a Jupyter environment, you will need to call `experiment.end()` when finished to ensure all metrics and code are logged before exiting.\n",
      "COMET INFO: Experiment is live on comet.ml https://www.comet.ml/negromontebs/seta/1e74e70e395f4092a32f667759bea71d\n",
      "\n"
     ]
    }
   ],
   "source": [
    "# Create a Comet Experiment, to capture any and all artifacts\n",
    "# such as audio files, visualization, model, dataset, system information and training metrics\n",
    "experiment = Experiment(api_key = \"Xa6eGiuYFngDcAJ9PVY1WpZp0\", project_name = \"SetA\")"
   ]
  },
  {
   "cell_type": "markdown",
   "id": "b9c178f3",
   "metadata": {},
   "source": [
    "## MFCCs - Mel-Frequency Cepstrum Coefficients"
   ]
  },
  {
   "cell_type": "markdown",
   "id": "643a60c3",
   "metadata": {},
   "source": [
    "### Function to extract the MFCCs from every file in our dataset"
   ]
  },
  {
   "cell_type": "code",
   "execution_count": 6,
   "id": "c2ee064c",
   "metadata": {},
   "outputs": [],
   "source": [
    "def extract_features(file_name):\n",
    "    audio, sample_rate = librosa.load(file_name) \n",
    "    mfccs = librosa.feature.mfcc(y=audio, sr=sample_rate, n_mfcc=40)\n",
    "    mfccs_processed = np.mean(mfccs.T,axis=0)\n",
    "     \n",
    "    return mfccs_processed"
   ]
  },
  {
   "cell_type": "code",
   "execution_count": 7,
   "id": "232ac765",
   "metadata": {},
   "outputs": [],
   "source": [
    "df = pd.read_csv('../csvFiles/newTiming.csv')"
   ]
  },
  {
   "cell_type": "code",
   "execution_count": 8,
   "id": "650dc1b5",
   "metadata": {},
   "outputs": [],
   "source": [
    "from os.path import exists"
   ]
  },
  {
   "cell_type": "code",
   "execution_count": 9,
   "id": "b6868d82",
   "metadata": {},
   "outputs": [
    {
     "name": "stderr",
     "output_type": "stream",
     "text": [
      "/home/chico/Desktop/taad/projeto/taad-project/env/lib/python3.8/site-packages/librosa/core/spectrum.py:222: UserWarning: n_fft=2048 is too small for input signal of length=1750\n",
      "  warnings.warn(\n",
      "/home/chico/Desktop/taad/projeto/taad-project/env/lib/python3.8/site-packages/librosa/core/spectrum.py:222: UserWarning: n_fft=2048 is too small for input signal of length=1751\n",
      "  warnings.warn(\n",
      "/home/chico/Desktop/taad/projeto/taad-project/env/lib/python3.8/site-packages/librosa/core/spectrum.py:222: UserWarning: n_fft=2048 is too small for input signal of length=1222\n",
      "  warnings.warn(\n",
      "/home/chico/Desktop/taad/projeto/taad-project/env/lib/python3.8/site-packages/librosa/core/spectrum.py:222: UserWarning: n_fft=2048 is too small for input signal of length=1122\n",
      "  warnings.warn(\n",
      "/home/chico/Desktop/taad/projeto/taad-project/env/lib/python3.8/site-packages/librosa/core/spectrum.py:222: UserWarning: n_fft=2048 is too small for input signal of length=1888\n",
      "  warnings.warn(\n",
      "/home/chico/Desktop/taad/projeto/taad-project/env/lib/python3.8/site-packages/librosa/core/spectrum.py:222: UserWarning: n_fft=2048 is too small for input signal of length=927\n",
      "  warnings.warn(\n",
      "/home/chico/Desktop/taad/projeto/taad-project/env/lib/python3.8/site-packages/librosa/core/spectrum.py:222: UserWarning: n_fft=2048 is too small for input signal of length=1694\n",
      "  warnings.warn(\n",
      "/home/chico/Desktop/taad/projeto/taad-project/env/lib/python3.8/site-packages/librosa/core/spectrum.py:222: UserWarning: n_fft=2048 is too small for input signal of length=833\n",
      "  warnings.warn(\n",
      "/home/chico/Desktop/taad/projeto/taad-project/env/lib/python3.8/site-packages/librosa/core/spectrum.py:222: UserWarning: n_fft=2048 is too small for input signal of length=1764\n",
      "  warnings.warn(\n",
      "/home/chico/Desktop/taad/projeto/taad-project/env/lib/python3.8/site-packages/librosa/core/spectrum.py:222: UserWarning: n_fft=2048 is too small for input signal of length=2018\n",
      "  warnings.warn(\n",
      "/home/chico/Desktop/taad/projeto/taad-project/env/lib/python3.8/site-packages/librosa/core/spectrum.py:222: UserWarning: n_fft=2048 is too small for input signal of length=792\n",
      "  warnings.warn(\n"
     ]
    },
    {
     "name": "stdout",
     "output_type": "stream",
     "text": [
      "801 800\n"
     ]
    }
   ],
   "source": [
    "sounds = []# Iterate through each sound file and extract the sound type\n",
    "cont = 0\n",
    "i =0\n",
    "for index, row in df.iterrows():\n",
    "    file_name = df.loc[index]['fname']\n",
    "    label = df.loc[index]['sound']\n",
    "    if label == 'noiseS2' or label == 'noiseS1':\n",
    "        class_label = label[:5]\n",
    "    else:\n",
    "        class_label = label\n",
    "    \n",
    "    i+=1\n",
    "    \n",
    "    if (exists(file_name)):\n",
    "        file_size = os.path.getsize(file_name)\n",
    "        if (file_size>44):\n",
    "            data = extract_features(file_name)\n",
    "            sounds.append([data, class_label])\n",
    "            cont += 1\n",
    "        else:\n",
    "            print(file_name)\n",
    "            \n",
    "print(i, cont)\n",
    "# Convert into a Panda dataframe \n",
    "featuresdf = pd.DataFrame(sounds, columns=['soundtype','class_label'])"
   ]
  },
  {
   "cell_type": "code",
   "execution_count": 10,
   "id": "a75a1219",
   "metadata": {},
   "outputs": [
    {
     "data": {
      "text/html": [
       "<div>\n",
       "<style scoped>\n",
       "    .dataframe tbody tr th:only-of-type {\n",
       "        vertical-align: middle;\n",
       "    }\n",
       "\n",
       "    .dataframe tbody tr th {\n",
       "        vertical-align: top;\n",
       "    }\n",
       "\n",
       "    .dataframe thead th {\n",
       "        text-align: right;\n",
       "    }\n",
       "</style>\n",
       "<table border=\"1\" class=\"dataframe\">\n",
       "  <thead>\n",
       "    <tr style=\"text-align: right;\">\n",
       "      <th></th>\n",
       "      <th>soundtype</th>\n",
       "      <th>class_label</th>\n",
       "    </tr>\n",
       "  </thead>\n",
       "  <tbody>\n",
       "    <tr>\n",
       "      <th>0</th>\n",
       "      <td>[-328.07162, 138.91454, 7.4351997, 23.263115, ...</td>\n",
       "      <td>S1</td>\n",
       "    </tr>\n",
       "    <tr>\n",
       "      <th>1</th>\n",
       "      <td>[-336.12396, 131.63614, 9.702477, 21.125206, 1...</td>\n",
       "      <td>S2</td>\n",
       "    </tr>\n",
       "    <tr>\n",
       "      <th>2</th>\n",
       "      <td>[-331.10678, 136.21701, 10.334246, 22.4966, 19...</td>\n",
       "      <td>S1</td>\n",
       "    </tr>\n",
       "    <tr>\n",
       "      <th>3</th>\n",
       "      <td>[-335.80725, 123.60682, -1.5984118, 20.42966, ...</td>\n",
       "      <td>S2</td>\n",
       "    </tr>\n",
       "    <tr>\n",
       "      <th>4</th>\n",
       "      <td>[-325.8048, 132.97308, 3.1069694, 14.60768, 16...</td>\n",
       "      <td>S1</td>\n",
       "    </tr>\n",
       "    <tr>\n",
       "      <th>...</th>\n",
       "      <td>...</td>\n",
       "      <td>...</td>\n",
       "    </tr>\n",
       "    <tr>\n",
       "      <th>795</th>\n",
       "      <td>[-589.4596, 139.04172, 66.54428, 28.739033, 36...</td>\n",
       "      <td>noise</td>\n",
       "    </tr>\n",
       "    <tr>\n",
       "      <th>796</th>\n",
       "      <td>[-578.94, 136.67522, 62.54581, 27.189838, 40.6...</td>\n",
       "      <td>noise</td>\n",
       "    </tr>\n",
       "    <tr>\n",
       "      <th>797</th>\n",
       "      <td>[-576.6643, 132.03662, 73.05437, 37.617058, 33...</td>\n",
       "      <td>noise</td>\n",
       "    </tr>\n",
       "    <tr>\n",
       "      <th>798</th>\n",
       "      <td>[-612.7163, 152.76172, 69.798096, 28.356243, 3...</td>\n",
       "      <td>noise</td>\n",
       "    </tr>\n",
       "    <tr>\n",
       "      <th>799</th>\n",
       "      <td>[-538.7162, 103.57261, 67.25909, 32.86277, 37....</td>\n",
       "      <td>noise</td>\n",
       "    </tr>\n",
       "  </tbody>\n",
       "</table>\n",
       "<p>800 rows × 2 columns</p>\n",
       "</div>"
      ],
      "text/plain": [
       "                                             soundtype class_label\n",
       "0    [-328.07162, 138.91454, 7.4351997, 23.263115, ...          S1\n",
       "1    [-336.12396, 131.63614, 9.702477, 21.125206, 1...          S2\n",
       "2    [-331.10678, 136.21701, 10.334246, 22.4966, 19...          S1\n",
       "3    [-335.80725, 123.60682, -1.5984118, 20.42966, ...          S2\n",
       "4    [-325.8048, 132.97308, 3.1069694, 14.60768, 16...          S1\n",
       "..                                                 ...         ...\n",
       "795  [-589.4596, 139.04172, 66.54428, 28.739033, 36...       noise\n",
       "796  [-578.94, 136.67522, 62.54581, 27.189838, 40.6...       noise\n",
       "797  [-576.6643, 132.03662, 73.05437, 37.617058, 33...       noise\n",
       "798  [-612.7163, 152.76172, 69.798096, 28.356243, 3...       noise\n",
       "799  [-538.7162, 103.57261, 67.25909, 32.86277, 37....       noise\n",
       "\n",
       "[800 rows x 2 columns]"
      ]
     },
     "execution_count": 10,
     "metadata": {},
     "output_type": "execute_result"
    }
   ],
   "source": [
    "featuresdf"
   ]
  },
  {
   "cell_type": "code",
   "execution_count": 11,
   "id": "c610201f",
   "metadata": {
    "scrolled": true
   },
   "outputs": [
    {
     "data": {
      "text/plain": [
       "array([-3.28071625e+02,  1.38914536e+02,  7.43519974e+00,  2.32631149e+01,\n",
       "        1.71740608e+01,  3.20958672e+01,  1.05726299e+01,  9.93866158e+00,\n",
       "        3.27157640e+00,  1.13862600e+01, -1.64056945e+00,  2.71055484e+00,\n",
       "       -4.19648981e+00,  1.15103111e+01,  5.94600677e+00,  8.44897366e+00,\n",
       "        2.22832561e+00,  3.84371185e+00, -2.79735148e-01,  2.97816753e+00,\n",
       "       -8.05911636e+00,  1.60247874e+00, -1.08846283e+00,  2.79894257e+00,\n",
       "       -2.16024780e+00,  2.65338135e+00, -7.26681113e-01,  4.09988737e+00,\n",
       "       -1.07068396e+00,  2.64572072e+00, -2.86918068e+00, -1.63719678e+00,\n",
       "       -3.54085565e+00,  1.43643880e+00, -3.17849040e+00,  1.05118036e-01,\n",
       "       -3.79147911e+00,  1.88193858e+00,  3.63390064e+00,  2.12384558e+00],\n",
       "      dtype=float32)"
      ]
     },
     "execution_count": 11,
     "metadata": {},
     "output_type": "execute_result"
    }
   ],
   "source": [
    "featuresdf.iloc[0]['soundtype']"
   ]
  },
  {
   "cell_type": "code",
   "execution_count": 12,
   "id": "14a98f22",
   "metadata": {},
   "outputs": [
    {
     "name": "stdout",
     "output_type": "stream",
     "text": [
      "../set_a_cut/normal__201102081321_noiseS1_11.wav\n"
     ]
    },
    {
     "data": {
      "image/png": "[encoded data removed]",
      "text/plain": [
       "<Figure size 1080x1080 with 1 Axes>"
      ]
     },
     "metadata": {
      "needs_background": "light"
     },
     "output_type": "display_data"
    }
   ],
   "source": [
    "fig = plt.figure(figsize=(15,15))\n",
    "#experiment.log_image('label_examples.png')\n",
    "fig.subplots_adjust(hspace = 0.4, wspace = 0.4)\n",
    "\n",
    "fig.add_subplot(6,2,1)\n",
    "name = df.loc[411]['fname']\n",
    "print(name)\n",
    "data, sample_rate = librosa.load(name)\n",
    "librosa.display.waveplot(data, sr = sample_rate)\n",
    "dad = extract_features(name)\n",
    "sounds.append([dad,df.loc[411]['sound']])\n",
    "    \n",
    "featuresdf = pd.DataFrame(sounds, columns=['soundtype','class_label'])"
   ]
  },
  {
   "cell_type": "markdown",
   "id": "69052eeb",
   "metadata": {},
   "source": [
    "## Model building and training"
   ]
  },
  {
   "cell_type": "code",
   "execution_count": 13,
   "id": "d90c6aa1",
   "metadata": {},
   "outputs": [],
   "source": [
    "# Convert features and corresponding classification labels into numpy arrays\n",
    "X = np.array(featuresdf.soundtype.tolist())\n",
    "y = np.array(featuresdf.class_label.tolist())\n",
    "\n",
    "# Encode the classification labels\n",
    "le = LabelEncoder()\n",
    "yy = to_categorical(le.fit_transform(y))"
   ]
  },
  {
   "cell_type": "markdown",
   "id": "9c381f86",
   "metadata": {},
   "source": [
    "### Trainning and test sets"
   ]
  },
  {
   "cell_type": "code",
   "execution_count": 14,
   "id": "1d6a5c6b",
   "metadata": {},
   "outputs": [],
   "source": [
    "x_train, x_test, y_train, y_test = train_test_split(X, yy, test_size=0.2, random_state = 127)"
   ]
  },
  {
   "cell_type": "markdown",
   "id": "0874155a",
   "metadata": {},
   "source": [
    "### Neural Network architecture"
   ]
  },
  {
   "cell_type": "code",
   "execution_count": 15,
   "id": "1d400943",
   "metadata": {
    "scrolled": false
   },
   "outputs": [
    {
     "name": "stderr",
     "output_type": "stream",
     "text": [
      "2022-01-06 11:19:38.062323: W tensorflow/stream_executor/platform/default/dso_loader.cc:64] Could not load dynamic library 'libcuda.so.1'; dlerror: libcuda.so.1: cannot open shared object file: No such file or directory\n",
      "2022-01-06 11:19:38.062391: W tensorflow/stream_executor/cuda/cuda_driver.cc:269] failed call to cuInit: UNKNOWN ERROR (303)\n",
      "2022-01-06 11:19:38.062440: I tensorflow/stream_executor/cuda/cuda_diagnostics.cc:156] kernel driver does not appear to be running on this host (chico-VirtualBox): /proc/driver/nvidia/version does not exist\n",
      "2022-01-06 11:19:38.065059: I tensorflow/core/platform/cpu_feature_guard.cc:151] This TensorFlow binary is optimized with oneAPI Deep Neural Network Library (oneDNN) to use the following CPU instructions in performance-critical operations:  AVX2\n",
      "To enable them in other operations, rebuild TensorFlow with the appropriate compiler flags.\n"
     ]
    },
    {
     "name": "stdout",
     "output_type": "stream",
     "text": [
      "Model: \"sequential\"\n",
      "_________________________________________________________________\n",
      " Layer (type)                Output Shape              Param #   \n",
      "=================================================================\n",
      " dense (Dense)               (640, 512)                20992     \n",
      "                                                                 \n",
      " activation (Activation)     (640, 512)                0         \n",
      "                                                                 \n",
      " dropout (Dropout)           (640, 512)                0         \n",
      "                                                                 \n",
      " dense_1 (Dense)             (640, 512)                262656    \n",
      "                                                                 \n",
      " activation_1 (Activation)   (640, 512)                0         \n",
      "                                                                 \n",
      " dropout_1 (Dropout)         (640, 512)                0         \n",
      "                                                                 \n",
      " dense_2 (Dense)             (640, 512)                262656    \n",
      "                                                                 \n",
      " activation_2 (Activation)   (640, 512)                0         \n",
      "                                                                 \n",
      " dropout_2 (Dropout)         (640, 512)                0         \n",
      "                                                                 \n",
      " dense_3 (Dense)             (640, 4)                  2052      \n",
      "                                                                 \n",
      " activation_3 (Activation)   (640, 4)                  0         \n",
      "                                                                 \n",
      "=================================================================\n",
      "Total params: 548,356\n",
      "Trainable params: 548,356\n",
      "Non-trainable params: 0\n",
      "_________________________________________________________________\n",
      "Pre-training accuracy: 55.2795%\n"
     ]
    }
   ],
   "source": [
    "num_labels = yy.shape[1]\n",
    "\n",
    "filter_size = 2\n",
    "\n",
    "def build_model_graph(input_shape=(40,)):\n",
    "    model = Sequential()\n",
    "    model.add(Dense(512))\n",
    "    model.add(Activation('relu'))\n",
    "    model.add(Dropout(0.5))\n",
    "    model.add(Dense(512))\n",
    "    model.add(Activation('relu'))\n",
    "    model.add(Dropout(0.5))\n",
    "    model.add(Dense(512))\n",
    "    model.add(Activation('relu'))\n",
    "    model.add(Dropout(0.5))\n",
    "    model.add(Dense(num_labels))\n",
    "    model.add(Activation('softmax'))\n",
    "    # Compile the model\n",
    "    model.compile(loss='categorical_crossentropy', metrics=['accuracy'], optimizer='adam') \n",
    "    \n",
    "    return model\n",
    "\n",
    "model = build_model_graph()\n",
    "\n",
    "# Display model architecture summary \n",
    "model(x_train)\n",
    "model.summary()# Calculate pre-training accuracy \n",
    "score = model.evaluate(x_test, y_test, verbose=0)\n",
    "accuracy = 100*score[1]\n",
    "\n",
    "print(\"Pre-training accuracy: %.4f%%\" % accuracy)"
   ]
  },
  {
   "cell_type": "markdown",
   "id": "756e750c",
   "metadata": {},
   "source": [
    "### Model Trainning"
   ]
  },
  {
   "cell_type": "code",
   "execution_count": 18,
   "id": "8ee43c4d",
   "metadata": {
    "scrolled": false
   },
   "outputs": [
    {
     "name": "stdout",
     "output_type": "stream",
     "text": [
      "Epoch 1/100\n",
      "20/20 [==============================] - 1s 33ms/step - loss: 0.4562 - accuracy: 0.8125 - val_loss: 0.4889 - val_accuracy: 0.7826\n",
      "Epoch 2/100\n",
      "20/20 [==============================] - 1s 35ms/step - loss: 0.4356 - accuracy: 0.8031 - val_loss: 0.4904 - val_accuracy: 0.7391\n",
      "Epoch 3/100\n",
      "20/20 [==============================] - 1s 35ms/step - loss: 0.4394 - accuracy: 0.8062 - val_loss: 0.4850 - val_accuracy: 0.7826\n",
      "Epoch 4/100\n",
      "20/20 [==============================] - 1s 33ms/step - loss: 0.4032 - accuracy: 0.8094 - val_loss: 0.5091 - val_accuracy: 0.7764\n",
      "Epoch 5/100\n",
      "20/20 [==============================] - 1s 32ms/step - loss: 0.4217 - accuracy: 0.8016 - val_loss: 0.5040 - val_accuracy: 0.7950\n",
      "Epoch 6/100\n",
      "20/20 [==============================] - 1s 35ms/step - loss: 0.3994 - accuracy: 0.8281 - val_loss: 0.5118 - val_accuracy: 0.7702\n",
      "Epoch 7/100\n",
      "20/20 [==============================] - 1s 33ms/step - loss: 0.3890 - accuracy: 0.8250 - val_loss: 0.5068 - val_accuracy: 0.7764\n",
      "Epoch 8/100\n",
      "20/20 [==============================] - 0s 25ms/step - loss: 0.3833 - accuracy: 0.8516 - val_loss: 0.4998 - val_accuracy: 0.7888\n",
      "Epoch 9/100\n",
      "20/20 [==============================] - 0s 24ms/step - loss: 0.4234 - accuracy: 0.7906 - val_loss: 0.4916 - val_accuracy: 0.7640\n",
      "Epoch 10/100\n",
      "20/20 [==============================] - 0s 22ms/step - loss: 0.4023 - accuracy: 0.8078 - val_loss: 0.4727 - val_accuracy: 0.8137\n",
      "Epoch 11/100\n",
      "20/20 [==============================] - 0s 22ms/step - loss: 0.3782 - accuracy: 0.8156 - val_loss: 0.5076 - val_accuracy: 0.7640\n",
      "Epoch 12/100\n",
      "20/20 [==============================] - 0s 24ms/step - loss: 0.4297 - accuracy: 0.8094 - val_loss: 0.5282 - val_accuracy: 0.8012\n",
      "Epoch 13/100\n",
      "20/20 [==============================] - 0s 24ms/step - loss: 0.3880 - accuracy: 0.8328 - val_loss: 0.5157 - val_accuracy: 0.7764\n",
      "Epoch 14/100\n",
      "20/20 [==============================] - 0s 21ms/step - loss: 0.4123 - accuracy: 0.8094 - val_loss: 0.4801 - val_accuracy: 0.8323\n",
      "Epoch 15/100\n",
      "20/20 [==============================] - 1s 29ms/step - loss: 0.3852 - accuracy: 0.8234 - val_loss: 0.4782 - val_accuracy: 0.8012\n",
      "Epoch 16/100\n",
      "20/20 [==============================] - 1s 29ms/step - loss: 0.4021 - accuracy: 0.8203 - val_loss: 0.4761 - val_accuracy: 0.7950\n",
      "Epoch 17/100\n",
      "20/20 [==============================] - 0s 23ms/step - loss: 0.4058 - accuracy: 0.8078 - val_loss: 0.5477 - val_accuracy: 0.7640\n",
      "Epoch 18/100\n",
      "20/20 [==============================] - 1s 27ms/step - loss: 0.4202 - accuracy: 0.8031 - val_loss: 0.4686 - val_accuracy: 0.7764\n",
      "Epoch 19/100\n",
      "20/20 [==============================] - 1s 31ms/step - loss: 0.3646 - accuracy: 0.8422 - val_loss: 0.4995 - val_accuracy: 0.7950\n",
      "Epoch 20/100\n",
      "20/20 [==============================] - 1s 41ms/step - loss: 0.3965 - accuracy: 0.8094 - val_loss: 0.4589 - val_accuracy: 0.7826\n",
      "Epoch 21/100\n",
      "20/20 [==============================] - 1s 36ms/step - loss: 0.3966 - accuracy: 0.8188 - val_loss: 0.5006 - val_accuracy: 0.7702\n",
      "Epoch 22/100\n",
      "20/20 [==============================] - 1s 35ms/step - loss: 0.3829 - accuracy: 0.8250 - val_loss: 0.4669 - val_accuracy: 0.8075\n",
      "Epoch 23/100\n",
      "20/20 [==============================] - 1s 41ms/step - loss: 0.4012 - accuracy: 0.8125 - val_loss: 0.4654 - val_accuracy: 0.8199\n",
      "Epoch 24/100\n",
      "20/20 [==============================] - 1s 30ms/step - loss: 0.3997 - accuracy: 0.8109 - val_loss: 0.4916 - val_accuracy: 0.8012\n",
      "Epoch 25/100\n",
      "20/20 [==============================] - 1s 30ms/step - loss: 0.4151 - accuracy: 0.8000 - val_loss: 0.5241 - val_accuracy: 0.7826\n",
      "Epoch 26/100\n",
      "20/20 [==============================] - 1s 29ms/step - loss: 0.3843 - accuracy: 0.8250 - val_loss: 0.5342 - val_accuracy: 0.7950\n",
      "Epoch 27/100\n",
      "20/20 [==============================] - 1s 32ms/step - loss: 0.3855 - accuracy: 0.8047 - val_loss: 0.5333 - val_accuracy: 0.7516\n",
      "Epoch 28/100\n",
      "20/20 [==============================] - 1s 30ms/step - loss: 0.3577 - accuracy: 0.8406 - val_loss: 0.5728 - val_accuracy: 0.7640\n",
      "Epoch 29/100\n",
      "20/20 [==============================] - 1s 26ms/step - loss: 0.3924 - accuracy: 0.8109 - val_loss: 0.5355 - val_accuracy: 0.7453\n",
      "Epoch 30/100\n",
      "20/20 [==============================] - 1s 36ms/step - loss: 0.4111 - accuracy: 0.8156 - val_loss: 0.5344 - val_accuracy: 0.7702\n",
      "Epoch 31/100\n",
      "20/20 [==============================] - 1s 29ms/step - loss: 0.3854 - accuracy: 0.8281 - val_loss: 0.5617 - val_accuracy: 0.7578\n",
      "Epoch 32/100\n",
      "20/20 [==============================] - 1s 33ms/step - loss: 0.3665 - accuracy: 0.8406 - val_loss: 0.5492 - val_accuracy: 0.7702\n",
      "Epoch 33/100\n",
      "20/20 [==============================] - 1s 28ms/step - loss: 0.3636 - accuracy: 0.8250 - val_loss: 0.5269 - val_accuracy: 0.7950 0s - loss: 0.3458 - accuracy\n",
      "Epoch 34/100\n",
      "20/20 [==============================] - 1s 26ms/step - loss: 0.4396 - accuracy: 0.8141 - val_loss: 0.5437 - val_accuracy: 0.7826\n",
      "Epoch 35/100\n",
      "20/20 [==============================] - 1s 28ms/step - loss: 0.3886 - accuracy: 0.8172 - val_loss: 0.5264 - val_accuracy: 0.7950\n",
      "Epoch 36/100\n",
      "20/20 [==============================] - 1s 29ms/step - loss: 0.3660 - accuracy: 0.8297 - val_loss: 0.5858 - val_accuracy: 0.7516\n",
      "Epoch 37/100\n",
      "20/20 [==============================] - 1s 34ms/step - loss: 0.3372 - accuracy: 0.8562 - val_loss: 0.5662 - val_accuracy: 0.7826\n",
      "Epoch 38/100\n",
      "20/20 [==============================] - 1s 28ms/step - loss: 0.3827 - accuracy: 0.8375 - val_loss: 0.5652 - val_accuracy: 0.7578\n",
      "Epoch 39/100\n",
      "20/20 [==============================] - 1s 27ms/step - loss: 0.3975 - accuracy: 0.8188 - val_loss: 0.5456 - val_accuracy: 0.7453\n",
      "Epoch 40/100\n",
      "20/20 [==============================] - 1s 25ms/step - loss: 0.4234 - accuracy: 0.8281 - val_loss: 0.4904 - val_accuracy: 0.8075\n",
      "Epoch 41/100\n",
      "20/20 [==============================] - 0s 24ms/step - loss: 0.3818 - accuracy: 0.8234 - val_loss: 0.4972 - val_accuracy: 0.7702\n",
      "Epoch 42/100\n",
      "20/20 [==============================] - 0s 24ms/step - loss: 0.3942 - accuracy: 0.8297 - val_loss: 0.5690 - val_accuracy: 0.7888\n",
      "Epoch 43/100\n",
      "20/20 [==============================] - 1s 26ms/step - loss: 0.4070 - accuracy: 0.8313 - val_loss: 0.4825 - val_accuracy: 0.7640\n",
      "Epoch 44/100\n",
      "20/20 [==============================] - 1s 29ms/step - loss: 0.3988 - accuracy: 0.8281 - val_loss: 0.4760 - val_accuracy: 0.7888\n",
      "Epoch 45/100\n",
      "20/20 [==============================] - 1s 26ms/step - loss: 0.3696 - accuracy: 0.8422 - val_loss: 0.5175 - val_accuracy: 0.8012\n",
      "Epoch 46/100\n",
      "20/20 [==============================] - 1s 40ms/step - loss: 0.3974 - accuracy: 0.8328 - val_loss: 0.5060 - val_accuracy: 0.7764\n",
      "Epoch 47/100\n",
      "20/20 [==============================] - 1s 36ms/step - loss: 0.3666 - accuracy: 0.8375 - val_loss: 0.5324 - val_accuracy: 0.8075\n",
      "Epoch 48/100\n",
      "20/20 [==============================] - 1s 32ms/step - loss: 0.3385 - accuracy: 0.8422 - val_loss: 0.5762 - val_accuracy: 0.7578\n",
      "Epoch 49/100\n",
      "20/20 [==============================] - 1s 28ms/step - loss: 0.3493 - accuracy: 0.8672 - val_loss: 0.5042 - val_accuracy: 0.7888\n",
      "Epoch 50/100\n",
      "20/20 [==============================] - 1s 28ms/step - loss: 0.3503 - accuracy: 0.8375 - val_loss: 0.5147 - val_accuracy: 0.8075\n",
      "Epoch 51/100\n",
      "20/20 [==============================] - 1s 31ms/step - loss: 0.3576 - accuracy: 0.8219 - val_loss: 0.5279 - val_accuracy: 0.7826\n",
      "Epoch 52/100\n",
      "20/20 [==============================] - 1s 31ms/step - loss: 0.3789 - accuracy: 0.8078 - val_loss: 0.5404 - val_accuracy: 0.8075\n",
      "Epoch 53/100\n",
      "20/20 [==============================] - 1s 32ms/step - loss: 0.3331 - accuracy: 0.8344 - val_loss: 0.5277 - val_accuracy: 0.8137\n",
      "Epoch 54/100\n",
      "20/20 [==============================] - 1s 35ms/step - loss: 0.3516 - accuracy: 0.8469 - val_loss: 0.5095 - val_accuracy: 0.8012\n",
      "Epoch 55/100\n",
      "20/20 [==============================] - 1s 34ms/step - loss: 0.3686 - accuracy: 0.8406 - val_loss: 0.5439 - val_accuracy: 0.8323\n",
      "Epoch 56/100\n",
      "20/20 [==============================] - 1s 33ms/step - loss: 0.3492 - accuracy: 0.8406 - val_loss: 0.5553 - val_accuracy: 0.7640\n",
      "Epoch 57/100\n",
      "20/20 [==============================] - 1s 29ms/step - loss: 0.4010 - accuracy: 0.8313 - val_loss: 0.5486 - val_accuracy: 0.7764\n",
      "Epoch 58/100\n"
     ]
    },
    {
     "name": "stdout",
     "output_type": "stream",
     "text": [
      "20/20 [==============================] - 1s 26ms/step - loss: 0.3771 - accuracy: 0.8391 - val_loss: 0.5088 - val_accuracy: 0.7826\n",
      "Epoch 59/100\n",
      "20/20 [==============================] - 1s 35ms/step - loss: 0.3505 - accuracy: 0.8438 - val_loss: 0.5534 - val_accuracy: 0.7950\n",
      "Epoch 60/100\n",
      "20/20 [==============================] - 0s 23ms/step - loss: 0.3825 - accuracy: 0.8266 - val_loss: 0.5626 - val_accuracy: 0.8199\n",
      "Epoch 61/100\n",
      "20/20 [==============================] - 1s 29ms/step - loss: 0.4185 - accuracy: 0.8266 - val_loss: 0.4890 - val_accuracy: 0.8075\n",
      "Epoch 62/100\n",
      "20/20 [==============================] - 1s 28ms/step - loss: 0.3563 - accuracy: 0.8250 - val_loss: 0.5082 - val_accuracy: 0.8323\n",
      "Epoch 63/100\n",
      "20/20 [==============================] - 1s 28ms/step - loss: 0.3423 - accuracy: 0.8391 - val_loss: 0.4922 - val_accuracy: 0.8012\n",
      "Epoch 64/100\n",
      "20/20 [==============================] - 1s 30ms/step - loss: 0.3787 - accuracy: 0.8438 - val_loss: 0.4915 - val_accuracy: 0.8199\n",
      "Epoch 65/100\n",
      "20/20 [==============================] - 0s 25ms/step - loss: 0.3547 - accuracy: 0.8438 - val_loss: 0.5293 - val_accuracy: 0.8199\n",
      "Epoch 66/100\n",
      "20/20 [==============================] - 1s 31ms/step - loss: 0.3451 - accuracy: 0.8484 - val_loss: 0.5487 - val_accuracy: 0.7888\n",
      "Epoch 67/100\n",
      "20/20 [==============================] - 1s 27ms/step - loss: 0.3522 - accuracy: 0.8531 - val_loss: 0.4974 - val_accuracy: 0.8137\n",
      "Epoch 68/100\n",
      "20/20 [==============================] - 1s 27ms/step - loss: 0.3615 - accuracy: 0.8562 - val_loss: 0.5709 - val_accuracy: 0.8012\n",
      "Epoch 69/100\n",
      "20/20 [==============================] - 1s 32ms/step - loss: 0.3444 - accuracy: 0.8562 - val_loss: 0.5999 - val_accuracy: 0.8199\n",
      "Epoch 70/100\n",
      "20/20 [==============================] - 1s 30ms/step - loss: 0.3563 - accuracy: 0.8422 - val_loss: 0.5399 - val_accuracy: 0.7888\n",
      "Epoch 71/100\n",
      "20/20 [==============================] - 1s 27ms/step - loss: 0.3568 - accuracy: 0.8328 - val_loss: 0.5297 - val_accuracy: 0.7764\n",
      "Epoch 72/100\n",
      "20/20 [==============================] - 1s 26ms/step - loss: 0.3359 - accuracy: 0.8484 - val_loss: 0.5186 - val_accuracy: 0.8137\n",
      "Epoch 73/100\n",
      "20/20 [==============================] - 1s 28ms/step - loss: 0.3657 - accuracy: 0.8375 - val_loss: 0.5445 - val_accuracy: 0.8012\n",
      "Epoch 74/100\n",
      "20/20 [==============================] - 1s 29ms/step - loss: 0.4011 - accuracy: 0.8188 - val_loss: 0.5436 - val_accuracy: 0.7950\n",
      "Epoch 75/100\n",
      "20/20 [==============================] - 1s 34ms/step - loss: 0.4080 - accuracy: 0.8328 - val_loss: 0.5072 - val_accuracy: 0.8075\n",
      "Epoch 76/100\n",
      "20/20 [==============================] - 1s 28ms/step - loss: 0.3749 - accuracy: 0.8406 - val_loss: 0.5434 - val_accuracy: 0.7888\n",
      "Epoch 77/100\n",
      "20/20 [==============================] - 1s 27ms/step - loss: 0.4237 - accuracy: 0.8016 - val_loss: 0.5436 - val_accuracy: 0.7888\n",
      "Epoch 78/100\n",
      "20/20 [==============================] - 1s 32ms/step - loss: 0.3935 - accuracy: 0.8078 - val_loss: 0.5770 - val_accuracy: 0.8075\n",
      "Epoch 79/100\n",
      "20/20 [==============================] - 1s 31ms/step - loss: 0.3950 - accuracy: 0.8172 - val_loss: 0.5291 - val_accuracy: 0.8075\n",
      "Epoch 80/100\n",
      "20/20 [==============================] - 1s 30ms/step - loss: 0.3541 - accuracy: 0.8391 - val_loss: 0.5289 - val_accuracy: 0.8075\n",
      "Epoch 81/100\n",
      "20/20 [==============================] - 1s 31ms/step - loss: 0.3773 - accuracy: 0.8156 - val_loss: 0.5725 - val_accuracy: 0.7826\n",
      "Epoch 82/100\n",
      "20/20 [==============================] - 1s 32ms/step - loss: 0.3816 - accuracy: 0.8297 - val_loss: 0.5194 - val_accuracy: 0.8137\n",
      "Epoch 83/100\n",
      "20/20 [==============================] - 1s 35ms/step - loss: 0.3808 - accuracy: 0.8281 - val_loss: 0.4988 - val_accuracy: 0.8199\n",
      "Epoch 84/100\n",
      "20/20 [==============================] - 1s 32ms/step - loss: 0.3593 - accuracy: 0.8578 - val_loss: 0.5146 - val_accuracy: 0.7950\n",
      "Epoch 85/100\n",
      "20/20 [==============================] - 1s 32ms/step - loss: 0.3313 - accuracy: 0.8516 - val_loss: 0.5657 - val_accuracy: 0.8075\n",
      "Epoch 86/100\n",
      "20/20 [==============================] - 1s 27ms/step - loss: 0.4197 - accuracy: 0.8062 - val_loss: 0.6038 - val_accuracy: 0.8012\n",
      "Epoch 87/100\n",
      "20/20 [==============================] - 1s 41ms/step - loss: 0.3622 - accuracy: 0.8328 - val_loss: 0.4984 - val_accuracy: 0.8137\n",
      "Epoch 88/100\n",
      "20/20 [==============================] - 1s 32ms/step - loss: 0.3735 - accuracy: 0.8438 - val_loss: 0.5300 - val_accuracy: 0.8323\n",
      "Epoch 89/100\n",
      "20/20 [==============================] - 1s 51ms/step - loss: 0.3963 - accuracy: 0.8141 - val_loss: 0.5202 - val_accuracy: 0.7702\n",
      "Epoch 90/100\n",
      "20/20 [==============================] - 1s 43ms/step - loss: 0.3503 - accuracy: 0.8500 - val_loss: 0.5059 - val_accuracy: 0.7640\n",
      "Epoch 91/100\n",
      "20/20 [==============================] - 1s 46ms/step - loss: 0.3641 - accuracy: 0.8453 - val_loss: 0.5090 - val_accuracy: 0.8199\n",
      "Epoch 92/100\n",
      "20/20 [==============================] - 1s 55ms/step - loss: 0.3700 - accuracy: 0.8500 - val_loss: 0.5267 - val_accuracy: 0.8012\n",
      "Epoch 93/100\n",
      "20/20 [==============================] - 1s 66ms/step - loss: 0.3274 - accuracy: 0.8516 - val_loss: 0.5198 - val_accuracy: 0.7888\n",
      "Epoch 94/100\n",
      "20/20 [==============================] - 1s 49ms/step - loss: 0.3298 - accuracy: 0.8469 - val_loss: 0.5455 - val_accuracy: 0.8137\n",
      "Epoch 95/100\n",
      "20/20 [==============================] - 1s 57ms/step - loss: 0.3481 - accuracy: 0.8391 - val_loss: 0.4866 - val_accuracy: 0.7578\n",
      "Epoch 96/100\n",
      "20/20 [==============================] - 1s 51ms/step - loss: 0.3705 - accuracy: 0.8266 - val_loss: 0.4880 - val_accuracy: 0.8447\n",
      "Epoch 97/100\n",
      "20/20 [==============================] - 1s 43ms/step - loss: 0.3810 - accuracy: 0.8281 - val_loss: 0.5163 - val_accuracy: 0.8012\n",
      "Epoch 98/100\n",
      "20/20 [==============================] - 1s 55ms/step - loss: 0.3237 - accuracy: 0.8375 - val_loss: 0.5519 - val_accuracy: 0.7888\n",
      "Epoch 99/100\n",
      "20/20 [==============================] - 1s 62ms/step - loss: 0.3587 - accuracy: 0.8453 - val_loss: 0.5198 - val_accuracy: 0.7888\n",
      "Epoch 100/100\n",
      "20/20 [==============================] - 1s 61ms/step - loss: 0.3656 - accuracy: 0.8453 - val_loss: 0.4644 - val_accuracy: 0.8199\n",
      "Training Accuracy: 91.56%\n",
      "Testing Accuracy: 81.99%\n"
     ]
    }
   ],
   "source": [
    "num_epochs = 100\n",
    "num_batch_size = 32\n",
    "model.fit(x_train, y_train, batch_size=num_batch_size, epochs=num_epochs, validation_data=(x_test, y_test), verbose=1)\n",
    "\n",
    "# Evaluating the model on the training and testing set\n",
    "score = model.evaluate(x_train, y_train, verbose=0)\n",
    "print(\"Training Accuracy: {0:.2%}\".format(score[1]))\n",
    "score = model.evaluate(x_test, y_test, verbose=0)\n",
    "print(\"Testing Accuracy: {0:.2%}\".format(score[1]))"
   ]
  },
  {
   "cell_type": "code",
   "execution_count": 22,
   "id": "6b5d16df",
   "metadata": {},
   "outputs": [
    {
     "name": "stdout",
     "output_type": "stream",
     "text": [
      "INFO:tensorflow:Assets written to: ../model_save/cut_setA/assets\n"
     ]
    }
   ],
   "source": [
    "model.save('../model_save/cut_setA', save_format='tf')"
   ]
  },
  {
   "cell_type": "code",
   "execution_count": 20,
   "id": "d565231b",
   "metadata": {
    "scrolled": true
   },
   "outputs": [
    {
     "name": "stderr",
     "output_type": "stream",
     "text": [
      "COMET INFO: ---------------------------\n",
      "COMET INFO: Comet.ml Experiment Summary\n",
      "COMET INFO: ---------------------------\n",
      "COMET INFO:   Data:\n",
      "COMET INFO:     display_summary_level : 1\n",
      "COMET INFO:     url                   : https://www.comet.ml/negromontebs/seta/1e74e70e395f4092a32f667759bea71d\n",
      "COMET INFO:   Metrics [count] (min, max):\n",
      "COMET INFO:     accuracy [300]                : (0.3921875059604645, 0.8671875)\n",
      "COMET INFO:     batch_accuracy [600]          : (0.21875, 0.96875)\n",
      "COMET INFO:     batch_loss [600]              : (0.16956481337547302, 30.035533905029297)\n",
      "COMET INFO:     epoch_duration [300]          : (0.39627092400041874, 2.204203442997823)\n",
      "COMET INFO:     loss [300]                    : (0.3237190544605255, 25.437984466552734)\n",
      "COMET INFO:     val_accuracy [300]            : (0.43478259444236755, 0.8447204828262329)\n",
      "COMET INFO:     val_loss [300]                : (0.4414650499820709, 2.7024245262145996)\n",
      "COMET INFO:     validate_batch_accuracy [300] : (0.375, 0.78125)\n",
      "COMET INFO:     validate_batch_loss [300]     : (0.6319469809532166, 3.1804165840148926)\n",
      "COMET INFO:   Others:\n",
      "COMET INFO:     trainable_params : 548356\n",
      "COMET INFO:   Parameters:\n",
      "COMET INFO:     Adam_amsgrad       : False\n",
      "COMET INFO:     Adam_beta_1        : 0.8999999761581421\n",
      "COMET INFO:     Adam_beta_2        : 0.9990000128746033\n",
      "COMET INFO:     Adam_decay         : 0.0\n",
      "COMET INFO:     Adam_epsilon       : 1e-07\n",
      "COMET INFO:     Adam_learning_rate : 0.0010000000474974513\n",
      "COMET INFO:     Adam_name          : Adam\n",
      "COMET INFO:     Optimizer          : Adam\n",
      "COMET INFO:     epochs             : 100\n",
      "COMET INFO:     steps              : 20\n",
      "COMET INFO:   Uploads:\n",
      "COMET INFO:     environment details      : 1\n",
      "COMET INFO:     filename                 : 1\n",
      "COMET INFO:     git metadata             : 1\n",
      "COMET INFO:     git-patch (uncompressed) : 1 (2.73 KB)\n",
      "COMET INFO:     installed packages       : 1\n",
      "COMET INFO:     model graph              : 1\n",
      "COMET INFO:     notebook                 : 1\n",
      "COMET INFO:     os packages              : 1\n",
      "COMET INFO:     source_code              : 1\n",
      "COMET INFO: ---------------------------\n",
      "COMET INFO: Uploading metrics, params, and assets to Comet before program termination (may take several seconds)\n",
      "COMET INFO: The Python SDK has 3600 seconds to finish before aborting...\n",
      "COMET INFO: Waiting for completion of the file uploads (may take several seconds)\n",
      "COMET INFO: The Python SDK has 10800 seconds to finish before aborting...\n",
      "COMET INFO: Still uploading 2 file(s), remaining 15.20 KB/16.19 KB\n"
     ]
    }
   ],
   "source": [
    "experiment.end()"
   ]
  },
  {
   "cell_type": "code",
   "execution_count": null,
   "id": "321af7e8",
   "metadata": {},
   "outputs": [],
   "source": []
  }
 ],
 "metadata": {
  "kernelspec": {
   "display_name": "Python 3 (ipykernel)",
   "language": "python",
   "name": "python3"
  },
  "language_info": {
   "codemirror_mode": {
    "name": "ipython",
    "version": 3
   },
   "file_extension": ".py",
   "mimetype": "text/x-python",
   "name": "python",
   "nbconvert_exporter": "python",
   "pygments_lexer": "ipython3",
   "version": "3.8.10"
  }
 },
 "nbformat": 4,
 "nbformat_minor": 5
}
