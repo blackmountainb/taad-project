{
 "cells": [
  {
   "cell_type": "markdown",
   "id": "38ea8194",
   "metadata": {},
   "source": [
    "# Appling machine learning to audio analysis"
   ]
  },
  {
   "cell_type": "markdown",
   "id": "965a361c",
   "metadata": {},
   "source": [
    "### Trainning Code"
   ]
  },
  {
   "cell_type": "code",
   "execution_count": 1,
   "id": "32435a3d",
   "metadata": {
    "scrolled": true
   },
   "outputs": [],
   "source": [
    "### Dependencies were already installed previously on ubuntu\n",
    "### Comet: experiment tracking and visual tools\n",
    "\n",
    "from comet_ml import Experiment\n",
    "\n",
    "import IPython.display as ipd\n",
    "import numpy as np\n",
    "import pandas as pd\n",
    "import librosa # audio analysis\n",
    "import librosa.display # this submodule needs to be imported explicitly\n",
    "import matplotlib.pyplot as plt\n",
    "from scipy.io import wavfile as wav\n",
    "import os"
   ]
  },
  {
   "cell_type": "code",
   "execution_count": 2,
   "id": "f9f86e6c",
   "metadata": {},
   "outputs": [],
   "source": [
    "from sklearn import metrics\n",
    "from sklearn.preprocessing import LabelEncoder\n",
    "from sklearn.model_selection import train_test_split"
   ]
  },
  {
   "cell_type": "code",
   "execution_count": 3,
   "id": "3b22f8aa",
   "metadata": {
    "scrolled": true
   },
   "outputs": [
    {
     "name": "stderr",
     "output_type": "stream",
     "text": [
      "2022-01-06 19:55:47.596722: W tensorflow/stream_executor/platform/default/dso_loader.cc:64] Could not load dynamic library 'libcudart.so.11.0'; dlerror: libcudart.so.11.0: cannot open shared object file: No such file or directory\n",
      "2022-01-06 19:55:47.596825: I tensorflow/stream_executor/cuda/cudart_stub.cc:29] Ignore above cudart dlerror if you do not have a GPU set up on your machine.\n"
     ]
    }
   ],
   "source": [
    "from tensorflow import keras\n",
    "from keras.models import Sequential\n",
    "from keras.layers import Dense, Dropout, Activation\n",
    "# Keras now is fully integrated to Tensorflow, so to_categorical and Adam\n",
    "# can't be imported directly from keras, therefore, the update:\n",
    "from tensorflow.keras.optimizers import Adam\n",
    "from tensorflow.keras.utils import to_categorical"
   ]
  },
  {
   "cell_type": "code",
   "execution_count": 4,
   "id": "6c752792",
   "metadata": {},
   "outputs": [],
   "source": [
    "# To play audio file:\n",
    "import IPython.display as ipd"
   ]
  },
  {
   "cell_type": "code",
   "execution_count": null,
   "id": "49aa3b70",
   "metadata": {
    "scrolled": true
   },
   "outputs": [],
   "source": [
    "# Create a Comet Experiment, to capture any and all artifacts\n",
    "# such as audio files, visualization, model, dataset, system information and training metrics\n",
    "experiment = Experiment(api_key = \"Xa6eGiuYFngDcAJ9PVY1WpZp0\", project_name = \"SetA\")"
   ]
  },
  {
   "cell_type": "markdown",
   "id": "b9c178f3",
   "metadata": {},
   "source": [
    "## MFCCs - Mel-Frequency Cepstrum Coefficients"
   ]
  },
  {
   "cell_type": "markdown",
   "id": "643a60c3",
   "metadata": {},
   "source": [
    "### Function to extract the MFCCs from every file in our dataset"
   ]
  },
  {
   "cell_type": "code",
   "execution_count": null,
   "id": "c2ee064c",
   "metadata": {},
   "outputs": [],
   "source": [
    "def extract_features(file_name):\n",
    "    audio, sample_rate = librosa.load(file_name) \n",
    "    mfccs = librosa.feature.mfcc(y=audio, sr=sample_rate, n_mfcc=40)\n",
    "    mfccs_processed = np.mean(mfccs.T,axis=0)\n",
    "     \n",
    "    return mfccs_processed"
   ]
  },
  {
   "cell_type": "code",
   "execution_count": null,
   "id": "232ac765",
   "metadata": {},
   "outputs": [],
   "source": [
    "df = pd.read_csv('../csvFiles/newTiming.csv')"
   ]
  },
  {
   "cell_type": "code",
   "execution_count": null,
   "id": "650dc1b5",
   "metadata": {},
   "outputs": [],
   "source": [
    "from os.path import exists"
   ]
  },
  {
   "cell_type": "code",
   "execution_count": null,
   "id": "b6868d82",
   "metadata": {
    "scrolled": true
   },
   "outputs": [],
   "source": [
    "sounds = []# Iterate through each sound file and extract the sound type\n",
    "cont = 0 #Conta os ficheiros que tiveram os MFCCs analizados\n",
    "i = 0 # numero total de ficheiros\n",
    "\n",
    "for index, row in df.iterrows():\n",
    "    file_name = df.loc[index]['fname']\n",
    "    class_label = df.loc[index]['sound']\n",
    "    \n",
    "    if 'noise' in class_label:\n",
    "        class_label = 'noise'\n",
    "    \n",
    "    print(class_label)\n",
    "    i+=1\n",
    "    \n",
    "    if (exists(file_name)):\n",
    "        file_size = os.path.getsize(file_name)\n",
    "        \n",
    "        if (file_size > 44):\n",
    "            data = extract_features(file_name)\n",
    "            \n",
    "            sounds.append([data, class_label])\n",
    "            cont += 1\n",
    "        else:\n",
    "            print(file_name)\n",
    "            \n",
    "print(i, cont)\n",
    "# Convert into a Panda dataframe \n",
    "featuresdf = pd.DataFrame(sounds, columns=['soundtype','class_label'])"
   ]
  },
  {
   "cell_type": "code",
   "execution_count": null,
   "id": "a75a1219",
   "metadata": {},
   "outputs": [],
   "source": [
    "featuresdf\n",
    "featuresdf.iloc[799]['class_label']\n",
    "featuresdf.to_pickle('../MFCCs/cutA_toTrain.pkl') "
   ]
  },
  {
   "cell_type": "markdown",
   "id": "69052eeb",
   "metadata": {},
   "source": [
    "## Model building and training"
   ]
  },
  {
   "cell_type": "markdown",
   "id": "aba426c1",
   "metadata": {},
   "source": [
    "### Load MFFCs from saved files"
   ]
  },
  {
   "cell_type": "code",
   "execution_count": 5,
   "id": "c24bc1c2",
   "metadata": {},
   "outputs": [],
   "source": [
    "fileMFCCs = '../MFCCs/cutA_toTrain.pkl'\n",
    "featuresdf = pd.read_pickle(fileMFCCs)"
   ]
  },
  {
   "cell_type": "markdown",
   "id": "5ce5b025",
   "metadata": {},
   "source": [
    "### Transform the data to arrays"
   ]
  },
  {
   "cell_type": "code",
   "execution_count": 6,
   "id": "d90c6aa1",
   "metadata": {
    "scrolled": false
   },
   "outputs": [],
   "source": [
    "\n",
    "# Convert features and corresponding classification labels into numpy arrays\n",
    "X = np.array(featuresdf.soundtype.tolist())\n",
    "y = np.array(featuresdf.class_label.tolist())\n",
    "\n",
    "\n",
    "# Encode the classification labels\n",
    "le = LabelEncoder()\n",
    "\n",
    "yy = to_categorical(le.fit_transform(y))"
   ]
  },
  {
   "cell_type": "markdown",
   "id": "9c381f86",
   "metadata": {},
   "source": [
    "### Trainning and test sets"
   ]
  },
  {
   "cell_type": "code",
   "execution_count": 7,
   "id": "1d6a5c6b",
   "metadata": {},
   "outputs": [],
   "source": [
    "x_train, x_test, y_train, y_test = train_test_split(X, yy, test_size=0.2, random_state = 127)"
   ]
  },
  {
   "cell_type": "markdown",
   "id": "0874155a",
   "metadata": {},
   "source": [
    "### Neural Network architecture"
   ]
  },
  {
   "cell_type": "code",
   "execution_count": 8,
   "id": "1d400943",
   "metadata": {
    "scrolled": false
   },
   "outputs": [
    {
     "name": "stderr",
     "output_type": "stream",
     "text": [
      "2022-01-06 19:56:04.068538: W tensorflow/stream_executor/platform/default/dso_loader.cc:64] Could not load dynamic library 'libcuda.so.1'; dlerror: libcuda.so.1: cannot open shared object file: No such file or directory\n",
      "2022-01-06 19:56:04.068619: W tensorflow/stream_executor/cuda/cuda_driver.cc:269] failed call to cuInit: UNKNOWN ERROR (303)\n",
      "2022-01-06 19:56:04.068664: I tensorflow/stream_executor/cuda/cuda_diagnostics.cc:156] kernel driver does not appear to be running on this host (chico-VirtualBox): /proc/driver/nvidia/version does not exist\n",
      "2022-01-06 19:56:04.070021: I tensorflow/core/platform/cpu_feature_guard.cc:151] This TensorFlow binary is optimized with oneAPI Deep Neural Network Library (oneDNN) to use the following CPU instructions in performance-critical operations:  AVX2\n",
      "To enable them in other operations, rebuild TensorFlow with the appropriate compiler flags.\n"
     ]
    },
    {
     "name": "stdout",
     "output_type": "stream",
     "text": [
      "Model: \"sequential\"\n",
      "_________________________________________________________________\n",
      " Layer (type)                Output Shape              Param #   \n",
      "=================================================================\n",
      " dense (Dense)               (640, 512)                20992     \n",
      "                                                                 \n",
      " activation (Activation)     (640, 512)                0         \n",
      "                                                                 \n",
      " dropout (Dropout)           (640, 512)                0         \n",
      "                                                                 \n",
      " dense_1 (Dense)             (640, 512)                262656    \n",
      "                                                                 \n",
      " activation_1 (Activation)   (640, 512)                0         \n",
      "                                                                 \n",
      " dropout_1 (Dropout)         (640, 512)                0         \n",
      "                                                                 \n",
      " dense_2 (Dense)             (640, 512)                262656    \n",
      "                                                                 \n",
      " activation_2 (Activation)   (640, 512)                0         \n",
      "                                                                 \n",
      " dropout_2 (Dropout)         (640, 512)                0         \n",
      "                                                                 \n",
      " dense_3 (Dense)             (640, 3)                  1539      \n",
      "                                                                 \n",
      " activation_3 (Activation)   (640, 3)                  0         \n",
      "                                                                 \n",
      "=================================================================\n",
      "Total params: 547,843\n",
      "Trainable params: 547,843\n",
      "Non-trainable params: 0\n",
      "_________________________________________________________________\n",
      "Pre-training accuracy: 57.5000%\n"
     ]
    }
   ],
   "source": [
    "keras.backend.clear_session()\n",
    "num_labels = yy.shape[1]\n",
    "\n",
    "filter_size = 2\n",
    "\n",
    "def build_model_graph(input_shape=(40,)):\n",
    "    model = Sequential()\n",
    "    model.add(Dense(512))\n",
    "    model.add(Activation('relu'))\n",
    "    model.add(Dropout(0.5))\n",
    "    model.add(Dense(512))\n",
    "    model.add(Activation('relu'))\n",
    "    model.add(Dropout(0.5))\n",
    "    model.add(Dense(512))\n",
    "    model.add(Activation('relu'))\n",
    "    model.add(Dropout(0.5))\n",
    "    model.add(Dense(num_labels))\n",
    "    model.add(Activation('softmax'))\n",
    "    # Compile the model\n",
    "    model.compile(loss='categorical_crossentropy', metrics=['accuracy'], optimizer='adam') \n",
    "    \n",
    "    return model\n",
    "\n",
    "model = build_model_graph()\n",
    "\n",
    "# Display model architecture summary \n",
    "model(x_train)\n",
    "model.summary()# Calculate pre-training accuracy \n",
    "score = model.evaluate(x_test, y_test, verbose=0)\n",
    "accuracy = 100*score[1]\n",
    "\n",
    "print(\"Pre-training accuracy: %.4f%%\" % accuracy)"
   ]
  },
  {
   "cell_type": "markdown",
   "id": "756e750c",
   "metadata": {},
   "source": [
    "### Model Trainning"
   ]
  },
  {
   "cell_type": "code",
   "execution_count": 23,
   "id": "8ee43c4d",
   "metadata": {
    "scrolled": true
   },
   "outputs": [
    {
     "name": "stdout",
     "output_type": "stream",
     "text": [
      "Epoch 1/20\n",
      "20/20 [==============================] - 1s 37ms/step - loss: 0.3388 - accuracy: 0.8422 - val_loss: 0.6512 - val_accuracy: 0.8375\n",
      "Epoch 2/20\n",
      "20/20 [==============================] - 1s 28ms/step - loss: 0.3191 - accuracy: 0.8469 - val_loss: 0.6605 - val_accuracy: 0.8375\n",
      "Epoch 3/20\n",
      "20/20 [==============================] - 1s 26ms/step - loss: 0.2935 - accuracy: 0.8641 - val_loss: 0.6643 - val_accuracy: 0.8125\n",
      "Epoch 4/20\n",
      "20/20 [==============================] - 1s 39ms/step - loss: 0.3438 - accuracy: 0.8313 - val_loss: 0.8002 - val_accuracy: 0.8000\n",
      "Epoch 5/20\n",
      "20/20 [==============================] - 0s 23ms/step - loss: 0.3418 - accuracy: 0.8328 - val_loss: 0.6360 - val_accuracy: 0.8188\n",
      "Epoch 6/20\n",
      "20/20 [==============================] - 0s 24ms/step - loss: 0.3582 - accuracy: 0.8344 - val_loss: 0.7799 - val_accuracy: 0.8062\n",
      "Epoch 7/20\n",
      "20/20 [==============================] - 0s 22ms/step - loss: 0.3515 - accuracy: 0.8562 - val_loss: 0.6611 - val_accuracy: 0.7937\n",
      "Epoch 8/20\n",
      "20/20 [==============================] - 1s 35ms/step - loss: 0.3072 - accuracy: 0.8594 - val_loss: 0.5926 - val_accuracy: 0.7937\n",
      "Epoch 9/20\n",
      "20/20 [==============================] - 1s 25ms/step - loss: 0.3322 - accuracy: 0.8500 - val_loss: 0.6381 - val_accuracy: 0.8125\n",
      "Epoch 10/20\n",
      "20/20 [==============================] - 1s 30ms/step - loss: 0.3112 - accuracy: 0.8578 - val_loss: 0.6511 - val_accuracy: 0.8250\n",
      "Epoch 11/20\n",
      "20/20 [==============================] - 1s 29ms/step - loss: 0.3228 - accuracy: 0.8609 - val_loss: 0.6163 - val_accuracy: 0.8313\n",
      "Epoch 12/20\n",
      "20/20 [==============================] - 1s 29ms/step - loss: 0.3309 - accuracy: 0.8531 - val_loss: 0.6862 - val_accuracy: 0.8062\n",
      "Epoch 13/20\n",
      "20/20 [==============================] - 0s 25ms/step - loss: 0.3024 - accuracy: 0.8531 - val_loss: 0.7041 - val_accuracy: 0.8375\n",
      "Epoch 14/20\n",
      "20/20 [==============================] - 1s 31ms/step - loss: 0.3384 - accuracy: 0.8469 - val_loss: 0.7907 - val_accuracy: 0.7812\n",
      "Epoch 15/20\n",
      "20/20 [==============================] - 1s 27ms/step - loss: 0.3195 - accuracy: 0.8578 - val_loss: 0.5529 - val_accuracy: 0.8375\n",
      "Epoch 16/20\n",
      "20/20 [==============================] - 1s 37ms/step - loss: 0.2865 - accuracy: 0.8719 - val_loss: 0.5778 - val_accuracy: 0.8375\n",
      "Epoch 17/20\n",
      "20/20 [==============================] - 1s 30ms/step - loss: 0.2770 - accuracy: 0.8797 - val_loss: 0.6723 - val_accuracy: 0.7937\n",
      "Epoch 18/20\n",
      "20/20 [==============================] - 1s 37ms/step - loss: 0.2797 - accuracy: 0.8672 - val_loss: 0.7306 - val_accuracy: 0.8125\n",
      "Epoch 19/20\n",
      "20/20 [==============================] - 1s 40ms/step - loss: 0.3488 - accuracy: 0.8625 - val_loss: 0.7092 - val_accuracy: 0.8313\n",
      "Epoch 20/20\n",
      "20/20 [==============================] - 1s 46ms/step - loss: 0.3394 - accuracy: 0.8531 - val_loss: 0.7440 - val_accuracy: 0.7812\n",
      "Training Accuracy: 91.09%\n",
      "Testing Accuracy: 78.12%\n"
     ]
    }
   ],
   "source": [
    "num_epochs = 20\n",
    "num_batch_size = 32\n",
    "\n",
    "csv_logger = keras.callbacks.CSVLogger('../model_save/cut_setA_Train_Hist.log')\n",
    "\n",
    "model.fit(x_train, y_train, batch_size=num_batch_size,callbacks=[csv_logger], epochs=num_epochs, validation_data=(x_test, y_test), verbose=1)\n",
    "\n",
    "# Evaluating the model on the training and testing set\n",
    "score = model.evaluate(x_train, y_train, verbose=0)\n",
    "print(\"Training Accuracy: {0:.2%}\".format(score[1]))\n",
    "score = model.evaluate(x_test, y_test, verbose=0)\n",
    "print(\"Testing Accuracy: {0:.2%}\".format(score[1]))"
   ]
  },
  {
   "cell_type": "code",
   "execution_count": 24,
   "id": "6b5d16df",
   "metadata": {
    "scrolled": true
   },
   "outputs": [
    {
     "data": {
      "text/html": [
       "<div>\n",
       "<style scoped>\n",
       "    .dataframe tbody tr th:only-of-type {\n",
       "        vertical-align: middle;\n",
       "    }\n",
       "\n",
       "    .dataframe tbody tr th {\n",
       "        vertical-align: top;\n",
       "    }\n",
       "\n",
       "    .dataframe thead th {\n",
       "        text-align: right;\n",
       "    }\n",
       "</style>\n",
       "<table border=\"1\" class=\"dataframe\">\n",
       "  <thead>\n",
       "    <tr style=\"text-align: right;\">\n",
       "      <th></th>\n",
       "      <th>epoch</th>\n",
       "      <th>accuracy</th>\n",
       "      <th>loss</th>\n",
       "      <th>val_accuracy</th>\n",
       "      <th>val_loss</th>\n",
       "    </tr>\n",
       "  </thead>\n",
       "  <tbody>\n",
       "    <tr>\n",
       "      <th>0</th>\n",
       "      <td>0</td>\n",
       "      <td>0.842188</td>\n",
       "      <td>0.338754</td>\n",
       "      <td>0.83750</td>\n",
       "      <td>0.651154</td>\n",
       "    </tr>\n",
       "    <tr>\n",
       "      <th>1</th>\n",
       "      <td>1</td>\n",
       "      <td>0.846875</td>\n",
       "      <td>0.319059</td>\n",
       "      <td>0.83750</td>\n",
       "      <td>0.660483</td>\n",
       "    </tr>\n",
       "    <tr>\n",
       "      <th>2</th>\n",
       "      <td>2</td>\n",
       "      <td>0.864062</td>\n",
       "      <td>0.293513</td>\n",
       "      <td>0.81250</td>\n",
       "      <td>0.664341</td>\n",
       "    </tr>\n",
       "    <tr>\n",
       "      <th>3</th>\n",
       "      <td>3</td>\n",
       "      <td>0.831250</td>\n",
       "      <td>0.343811</td>\n",
       "      <td>0.80000</td>\n",
       "      <td>0.800178</td>\n",
       "    </tr>\n",
       "    <tr>\n",
       "      <th>4</th>\n",
       "      <td>4</td>\n",
       "      <td>0.832812</td>\n",
       "      <td>0.341806</td>\n",
       "      <td>0.81875</td>\n",
       "      <td>0.635972</td>\n",
       "    </tr>\n",
       "    <tr>\n",
       "      <th>5</th>\n",
       "      <td>5</td>\n",
       "      <td>0.834375</td>\n",
       "      <td>0.358237</td>\n",
       "      <td>0.80625</td>\n",
       "      <td>0.779942</td>\n",
       "    </tr>\n",
       "    <tr>\n",
       "      <th>6</th>\n",
       "      <td>6</td>\n",
       "      <td>0.856250</td>\n",
       "      <td>0.351477</td>\n",
       "      <td>0.79375</td>\n",
       "      <td>0.661100</td>\n",
       "    </tr>\n",
       "    <tr>\n",
       "      <th>7</th>\n",
       "      <td>7</td>\n",
       "      <td>0.859375</td>\n",
       "      <td>0.307201</td>\n",
       "      <td>0.79375</td>\n",
       "      <td>0.592554</td>\n",
       "    </tr>\n",
       "    <tr>\n",
       "      <th>8</th>\n",
       "      <td>8</td>\n",
       "      <td>0.850000</td>\n",
       "      <td>0.332197</td>\n",
       "      <td>0.81250</td>\n",
       "      <td>0.638115</td>\n",
       "    </tr>\n",
       "    <tr>\n",
       "      <th>9</th>\n",
       "      <td>9</td>\n",
       "      <td>0.857813</td>\n",
       "      <td>0.311159</td>\n",
       "      <td>0.82500</td>\n",
       "      <td>0.651137</td>\n",
       "    </tr>\n",
       "    <tr>\n",
       "      <th>10</th>\n",
       "      <td>10</td>\n",
       "      <td>0.860937</td>\n",
       "      <td>0.322761</td>\n",
       "      <td>0.83125</td>\n",
       "      <td>0.616269</td>\n",
       "    </tr>\n",
       "    <tr>\n",
       "      <th>11</th>\n",
       "      <td>11</td>\n",
       "      <td>0.853125</td>\n",
       "      <td>0.330910</td>\n",
       "      <td>0.80625</td>\n",
       "      <td>0.686194</td>\n",
       "    </tr>\n",
       "    <tr>\n",
       "      <th>12</th>\n",
       "      <td>12</td>\n",
       "      <td>0.853125</td>\n",
       "      <td>0.302445</td>\n",
       "      <td>0.83750</td>\n",
       "      <td>0.704120</td>\n",
       "    </tr>\n",
       "    <tr>\n",
       "      <th>13</th>\n",
       "      <td>13</td>\n",
       "      <td>0.846875</td>\n",
       "      <td>0.338435</td>\n",
       "      <td>0.78125</td>\n",
       "      <td>0.790736</td>\n",
       "    </tr>\n",
       "    <tr>\n",
       "      <th>14</th>\n",
       "      <td>14</td>\n",
       "      <td>0.857813</td>\n",
       "      <td>0.319523</td>\n",
       "      <td>0.83750</td>\n",
       "      <td>0.552880</td>\n",
       "    </tr>\n",
       "    <tr>\n",
       "      <th>15</th>\n",
       "      <td>15</td>\n",
       "      <td>0.871875</td>\n",
       "      <td>0.286496</td>\n",
       "      <td>0.83750</td>\n",
       "      <td>0.577791</td>\n",
       "    </tr>\n",
       "    <tr>\n",
       "      <th>16</th>\n",
       "      <td>16</td>\n",
       "      <td>0.879687</td>\n",
       "      <td>0.277025</td>\n",
       "      <td>0.79375</td>\n",
       "      <td>0.672330</td>\n",
       "    </tr>\n",
       "    <tr>\n",
       "      <th>17</th>\n",
       "      <td>17</td>\n",
       "      <td>0.867188</td>\n",
       "      <td>0.279663</td>\n",
       "      <td>0.81250</td>\n",
       "      <td>0.730601</td>\n",
       "    </tr>\n",
       "    <tr>\n",
       "      <th>18</th>\n",
       "      <td>18</td>\n",
       "      <td>0.862500</td>\n",
       "      <td>0.348815</td>\n",
       "      <td>0.83125</td>\n",
       "      <td>0.709228</td>\n",
       "    </tr>\n",
       "    <tr>\n",
       "      <th>19</th>\n",
       "      <td>19</td>\n",
       "      <td>0.853125</td>\n",
       "      <td>0.339383</td>\n",
       "      <td>0.78125</td>\n",
       "      <td>0.743990</td>\n",
       "    </tr>\n",
       "  </tbody>\n",
       "</table>\n",
       "</div>"
      ],
      "text/plain": [
       "    epoch  accuracy      loss  val_accuracy  val_loss\n",
       "0       0  0.842188  0.338754       0.83750  0.651154\n",
       "1       1  0.846875  0.319059       0.83750  0.660483\n",
       "2       2  0.864062  0.293513       0.81250  0.664341\n",
       "3       3  0.831250  0.343811       0.80000  0.800178\n",
       "4       4  0.832812  0.341806       0.81875  0.635972\n",
       "5       5  0.834375  0.358237       0.80625  0.779942\n",
       "6       6  0.856250  0.351477       0.79375  0.661100\n",
       "7       7  0.859375  0.307201       0.79375  0.592554\n",
       "8       8  0.850000  0.332197       0.81250  0.638115\n",
       "9       9  0.857813  0.311159       0.82500  0.651137\n",
       "10     10  0.860937  0.322761       0.83125  0.616269\n",
       "11     11  0.853125  0.330910       0.80625  0.686194\n",
       "12     12  0.853125  0.302445       0.83750  0.704120\n",
       "13     13  0.846875  0.338435       0.78125  0.790736\n",
       "14     14  0.857813  0.319523       0.83750  0.552880\n",
       "15     15  0.871875  0.286496       0.83750  0.577791\n",
       "16     16  0.879687  0.277025       0.79375  0.672330\n",
       "17     17  0.867188  0.279663       0.81250  0.730601\n",
       "18     18  0.862500  0.348815       0.83125  0.709228\n",
       "19     19  0.853125  0.339383       0.78125  0.743990"
      ]
     },
     "execution_count": 24,
     "metadata": {},
     "output_type": "execute_result"
    }
   ],
   "source": [
    "model.save('../model_save/cut_setA', save_format='tf')"
   ]
  },
  {
   "cell_type": "code",
   "execution_count": 33,
   "id": "3d539c91",
   "metadata": {
    "scrolled": true
   },
   "outputs": [],
   "source": [
    "history = pd.read_csv('../model_save/cut_setA_Train_Hist.log')"
   ]
  },
  {
   "cell_type": "markdown",
   "id": "49cefbff",
   "metadata": {},
   "source": [
    "### Plot of model performance"
   ]
  },
  {
   "cell_type": "code",
   "execution_count": 34,
   "id": "d154b21c",
   "metadata": {},
   "outputs": [
    {
     "data": {
      "image/png": "[encoded data removed]",
      "text/plain": [
       "<Figure size 576x576 with 1 Axes>"
      ]
     },
     "metadata": {
      "needs_background": "light"
     },
     "output_type": "display_data"
    }
   ],
   "source": [
    "xx = np.array(history.epoch.tolist())\n",
    "yy = np.array(history.accuracy.tolist())\n",
    "\n",
    "fig = plt.figure(figsize=(8,8))\n",
    "Plot = fig.add_subplot(111)\n",
    "\n",
    "Plot.plot(xx, yy, \"b.\")\n",
    "\n",
    "#Plot.axvline(x=Ei, c='red')\n",
    "#Plot.axhline(y=npy.log(tauN), c='purple')\n",
    "\n",
    "Plot.title.set_text(\"Gráfico\")\n",
    "Plot.set_xlabel(\"Epoch\")\n",
    "Plot.set_ylabel(\"Accuracy\")\n",
    "plt.show()"
   ]
  },
  {
   "cell_type": "code",
   "execution_count": null,
   "id": "d565231b",
   "metadata": {
    "scrolled": false
   },
   "outputs": [],
   "source": [
    "experiment.end()"
   ]
  },
  {
   "cell_type": "code",
   "execution_count": null,
   "id": "321af7e8",
   "metadata": {},
   "outputs": [],
   "source": []
  }
 ],
 "metadata": {
  "kernelspec": {
   "display_name": "Python 3 (ipykernel)",
   "language": "python",
   "name": "python3"
  },
  "language_info": {
   "codemirror_mode": {
    "name": "ipython",
    "version": 3
   },
   "file_extension": ".py",
   "mimetype": "text/x-python",
   "name": "python",
   "nbconvert_exporter": "python",
   "pygments_lexer": "ipython3",
   "version": "3.8.10"
  }
 },
 "nbformat": 4,
 "nbformat_minor": 5
}
