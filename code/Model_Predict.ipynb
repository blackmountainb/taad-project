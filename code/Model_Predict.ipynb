{
 "cells": [
  {
   "cell_type": "markdown",
   "id": "38ea8194",
   "metadata": {},
   "source": [
    "# Appling machine learning to audio analysis"
   ]
  },
  {
   "cell_type": "markdown",
   "id": "6ebca840",
   "metadata": {},
   "source": [
    "## Code for Predicting "
   ]
  },
  {
   "cell_type": "markdown",
   "id": "965a361c",
   "metadata": {},
   "source": [
    "### Libraries"
   ]
  },
  {
   "cell_type": "code",
   "execution_count": 1,
   "id": "32435a3d",
   "metadata": {
    "scrolled": true
   },
   "outputs": [],
   "source": [
    "### Dependencies were already installed previously on ubuntu\n",
    "### Comet: experiment tracking and visual tools\n",
    "\n",
    "from comet_ml import Experiment\n",
    "\n",
    "import IPython.display as ipd\n",
    "import numpy as np\n",
    "import pandas as pd\n",
    "import librosa # audio analysis\n",
    "import librosa.display # this submodule needs to be imported explicitly\n",
    "import matplotlib.pyplot as plt\n",
    "from scipy.io import wavfile as wav\n",
    "import os"
   ]
  },
  {
   "cell_type": "code",
   "execution_count": 2,
   "id": "f9f86e6c",
   "metadata": {},
   "outputs": [],
   "source": [
    "from sklearn import metrics\n",
    "from sklearn.preprocessing import LabelEncoder\n",
    "from sklearn.model_selection import train_test_split"
   ]
  },
  {
   "cell_type": "code",
   "execution_count": 3,
   "id": "3b22f8aa",
   "metadata": {
    "scrolled": true
   },
   "outputs": [
    {
     "name": "stderr",
     "output_type": "stream",
     "text": [
      "2022-01-22 23:41:38.097091: W tensorflow/stream_executor/platform/default/dso_loader.cc:64] Could not load dynamic library 'libcudart.so.11.0'; dlerror: libcudart.so.11.0: cannot open shared object file: No such file or directory\n",
      "2022-01-22 23:41:38.097147: I tensorflow/stream_executor/cuda/cudart_stub.cc:29] Ignore above cudart dlerror if you do not have a GPU set up on your machine.\n"
     ]
    }
   ],
   "source": [
    "from tensorflow import keras\n",
    "from keras.models import Sequential, save_model, load_model\n",
    "from keras.layers import Dense, Dropout, Activation\n",
    "# Keras now is fully integrated to Tensorflow, so to_categorical and Adam\n",
    "# can't be imported directly from keras, therefore, the update:\n",
    "from tensorflow.keras.optimizers import Adam\n",
    "from tensorflow.keras.utils import to_categorical"
   ]
  },
  {
   "cell_type": "code",
   "execution_count": 4,
   "id": "6c752792",
   "metadata": {},
   "outputs": [],
   "source": [
    "# To play audio file:\n",
    "import IPython.display as ipd"
   ]
  },
  {
   "cell_type": "code",
   "execution_count": 5,
   "id": "49aa3b70",
   "metadata": {
    "scrolled": true
   },
   "outputs": [
    {
     "name": "stderr",
     "output_type": "stream",
     "text": [
      "COMET WARNING: As you are running in a Jupyter environment, you will need to call `experiment.end()` when finished to ensure all metrics and code are logged before exiting.\n",
      "COMET INFO: Experiment is live on comet.ml https://www.comet.ml/negromontebs/seta/7bfd1836ed124ef49fa30dc4edf7d4c5\n",
      "\n"
     ]
    }
   ],
   "source": [
    "# Create a Comet Experiment, to capture any and all artifacts\n",
    "# such as audio files, visualization, model, dataset, system information and training metrics\n",
    "experiment = Experiment(api_key = \"Xa6eGiuYFngDcAJ9PVY1WpZp0\", project_name = \"SetA\")"
   ]
  },
  {
   "cell_type": "markdown",
   "id": "b9c178f3",
   "metadata": {},
   "source": [
    "## MFCCs - Mel-Frequency Cepstrum Coefficients"
   ]
  },
  {
   "cell_type": "markdown",
   "id": "643a60c3",
   "metadata": {},
   "source": [
    "### Functions to extract the MFCCs from every file in our dataset"
   ]
  },
  {
   "cell_type": "code",
   "execution_count": 6,
   "id": "f049d7c6",
   "metadata": {},
   "outputs": [],
   "source": [
    "# funçao com gerador que guarda os valores da atual posição da janela e calcula os proximos\n",
    "def windows(audio, window_size):\n",
    "    start = 0\n",
    "    while start < len(audio):\n",
    "        yield start, start + window_size # a função para aqui e returna o valor para a outra função\n",
    "        start += (window_size // 10) #calcula a posição inicial do proximo segmento"
   ]
  },
  {
   "cell_type": "code",
   "execution_count": 7,
   "id": "a2117d95",
   "metadata": {},
   "outputs": [],
   "source": [
    "def extract_features(file_name, window_size):\n",
    "    #upload do audio\n",
    "    audio, sample_rate = librosa.load(file_name, res_type='kaiser_fast') \n",
    "    #list de retorno\n",
    "    mfccsArr = []\n",
    "    \n",
    "    # A função gerador é um iteravel a partir dos valores gerados durante a keyword yield\n",
    "    #Percorre um audio inteiro\n",
    "    for (start,end) in windows(audio, window_size):\n",
    "        #Enquanto a janela nao atingir o fim do audio\n",
    "        if end <= len(audio): \n",
    "            #entao define um excerto do audio\n",
    "            signal = audio[start:end]\n",
    "            # e calcula os coeficientes de mel\n",
    "            mfccs = librosa.feature.mfcc(y=signal, sr=sample_rate, n_mfcc=40)\n",
    "            mfccs_processed = np.mean(mfccs.T,axis=0)\n",
    "            mfccsArr.append([mfccs_processed])\n",
    "    # Retorna os coeficientes de mel em forma de lista do audio inteiro\n",
    "    return mfccsArr"
   ]
  },
  {
   "cell_type": "markdown",
   "id": "4b136358",
   "metadata": {},
   "source": [
    "### Code to save the MFCCs"
   ]
  },
  {
   "cell_type": "code",
   "execution_count": 8,
   "id": "232ac765",
   "metadata": {},
   "outputs": [],
   "source": [
    "features = []# Iterate through each sound file and extract the features \n",
    "\n",
    "df = pd.read_csv('../csvFiles/set_a - Copia.csv')\n",
    "\n",
    "windowSize = 3000"
   ]
  },
  {
   "cell_type": "code",
   "execution_count": 11,
   "id": "b6868d82",
   "metadata": {},
   "outputs": [
    {
     "name": "stdout",
     "output_type": "stream",
     "text": [
      "set_a/normal__201108011114.wav\n"
     ]
    }
   ],
   "source": [
    "for index, row in df.iterrows():\n",
    "    \n",
    "    absolutePath = os.path.abspath(\"../\")\n",
    "    fname = str(row[\"fname\"])\n",
    "    print(fname)\n",
    "    file_name = os.path.join(absolutePath,fname)\n",
    "    \n",
    "    \n",
    "    data = extract_features(file_name, windowSize)\n",
    "    \n",
    "    for item in data:\n",
    "        features.append(item)\n",
    "    \n",
    "# Convert into a Panda dataframe \n",
    "featuresdf = pd.DataFrame(features, columns=['feature'])"
   ]
  },
  {
   "cell_type": "code",
   "execution_count": 12,
   "id": "a75a1219",
   "metadata": {},
   "outputs": [
    {
     "data": {
      "text/html": [
       "<div>\n",
       "<style scoped>\n",
       "    .dataframe tbody tr th:only-of-type {\n",
       "        vertical-align: middle;\n",
       "    }\n",
       "\n",
       "    .dataframe tbody tr th {\n",
       "        vertical-align: top;\n",
       "    }\n",
       "\n",
       "    .dataframe thead th {\n",
       "        text-align: right;\n",
       "    }\n",
       "</style>\n",
       "<table border=\"1\" class=\"dataframe\">\n",
       "  <thead>\n",
       "    <tr style=\"text-align: right;\">\n",
       "      <th></th>\n",
       "      <th>feature</th>\n",
       "    </tr>\n",
       "  </thead>\n",
       "  <tbody>\n",
       "    <tr>\n",
       "      <th>0</th>\n",
       "      <td>[-619.4802, 164.81221, 61.611187, 27.008148, 3...</td>\n",
       "    </tr>\n",
       "    <tr>\n",
       "      <th>1</th>\n",
       "      <td>[-677.06586, 214.36499, 58.828716, 11.51953, 4...</td>\n",
       "    </tr>\n",
       "    <tr>\n",
       "      <th>2</th>\n",
       "      <td>[-663.1361, 201.0767, 62.281616, 17.150503, 40...</td>\n",
       "    </tr>\n",
       "    <tr>\n",
       "      <th>3</th>\n",
       "      <td>[-656.9102, 200.3762, 63.165554, 17.528437, 39...</td>\n",
       "    </tr>\n",
       "    <tr>\n",
       "      <th>4</th>\n",
       "      <td>[-657.5186, 198.93721, 61.94527, 17.597023, 39...</td>\n",
       "    </tr>\n",
       "  </tbody>\n",
       "</table>\n",
       "</div>"
      ],
      "text/plain": [
       "                                             feature\n",
       "0  [-619.4802, 164.81221, 61.611187, 27.008148, 3...\n",
       "1  [-677.06586, 214.36499, 58.828716, 11.51953, 4...\n",
       "2  [-663.1361, 201.0767, 62.281616, 17.150503, 40...\n",
       "3  [-656.9102, 200.3762, 63.165554, 17.528437, 39...\n",
       "4  [-657.5186, 198.93721, 61.94527, 17.597023, 39..."
      ]
     },
     "execution_count": 12,
     "metadata": {},
     "output_type": "execute_result"
    }
   ],
   "source": [
    "featuresdf.head()"
   ]
  },
  {
   "cell_type": "code",
   "execution_count": 13,
   "id": "c610201f",
   "metadata": {
    "scrolled": false
   },
   "outputs": [],
   "source": [
    "featuresdf.iloc[0]['feature']\n",
    "fileMFCCs = '../MFCCs/' + fname + \"_\" + str(windowSize) + '.pkl'\n",
    "featuresdf.to_pickle(fileMFCCs) "
   ]
  },
  {
   "cell_type": "markdown",
   "id": "69052eeb",
   "metadata": {},
   "source": [
    "## Model's Predections"
   ]
  },
  {
   "cell_type": "markdown",
   "id": "fc9de8d9",
   "metadata": {},
   "source": [
    "### Load Model from saved files"
   ]
  },
  {
   "cell_type": "code",
   "execution_count": 14,
   "id": "d4ac6f1c",
   "metadata": {
    "scrolled": true
   },
   "outputs": [
    {
     "name": "stderr",
     "output_type": "stream",
     "text": [
      "2022-01-22 23:42:44.660501: W tensorflow/stream_executor/platform/default/dso_loader.cc:64] Could not load dynamic library 'libcuda.so.1'; dlerror: libcuda.so.1: cannot open shared object file: No such file or directory\n",
      "2022-01-22 23:42:44.660542: W tensorflow/stream_executor/cuda/cuda_driver.cc:269] failed call to cuInit: UNKNOWN ERROR (303)\n",
      "2022-01-22 23:42:44.660569: I tensorflow/stream_executor/cuda/cuda_diagnostics.cc:156] kernel driver does not appear to be running on this host (chico-VirtualBox): /proc/driver/nvidia/version does not exist\n",
      "2022-01-22 23:42:44.660857: I tensorflow/core/platform/cpu_feature_guard.cc:151] This TensorFlow binary is optimized with oneAPI Deep Neural Network Library (oneDNN) to use the following CPU instructions in performance-critical operations:  AVX2\n",
      "To enable them in other operations, rebuild TensorFlow with the appropriate compiler flags.\n"
     ]
    }
   ],
   "source": [
    "model = load_model('../model_save/cut_setA_700Epoch/saved_model', compile = True)"
   ]
  },
  {
   "cell_type": "code",
   "execution_count": 15,
   "id": "3e667cf6",
   "metadata": {},
   "outputs": [
    {
     "data": {
      "text/html": [
       "<div>\n",
       "<style scoped>\n",
       "    .dataframe tbody tr th:only-of-type {\n",
       "        vertical-align: middle;\n",
       "    }\n",
       "\n",
       "    .dataframe tbody tr th {\n",
       "        vertical-align: top;\n",
       "    }\n",
       "\n",
       "    .dataframe thead th {\n",
       "        text-align: right;\n",
       "    }\n",
       "</style>\n",
       "<table border=\"1\" class=\"dataframe\">\n",
       "  <thead>\n",
       "    <tr style=\"text-align: right;\">\n",
       "      <th></th>\n",
       "      <th>feature</th>\n",
       "    </tr>\n",
       "  </thead>\n",
       "  <tbody>\n",
       "    <tr>\n",
       "      <th>0</th>\n",
       "      <td>[-619.4802, 164.81221, 61.611187, 27.008148, 3...</td>\n",
       "    </tr>\n",
       "    <tr>\n",
       "      <th>1</th>\n",
       "      <td>[-677.06586, 214.36499, 58.828716, 11.51953, 4...</td>\n",
       "    </tr>\n",
       "    <tr>\n",
       "      <th>2</th>\n",
       "      <td>[-663.1361, 201.0767, 62.281616, 17.150503, 40...</td>\n",
       "    </tr>\n",
       "    <tr>\n",
       "      <th>3</th>\n",
       "      <td>[-656.9102, 200.3762, 63.165554, 17.528437, 39...</td>\n",
       "    </tr>\n",
       "    <tr>\n",
       "      <th>4</th>\n",
       "      <td>[-657.5186, 198.93721, 61.94527, 17.597023, 39...</td>\n",
       "    </tr>\n",
       "  </tbody>\n",
       "</table>\n",
       "</div>"
      ],
      "text/plain": [
       "                                             feature\n",
       "0  [-619.4802, 164.81221, 61.611187, 27.008148, 3...\n",
       "1  [-677.06586, 214.36499, 58.828716, 11.51953, 4...\n",
       "2  [-663.1361, 201.0767, 62.281616, 17.150503, 40...\n",
       "3  [-656.9102, 200.3762, 63.165554, 17.528437, 39...\n",
       "4  [-657.5186, 198.93721, 61.94527, 17.597023, 39..."
      ]
     },
     "execution_count": 15,
     "metadata": {},
     "output_type": "execute_result"
    }
   ],
   "source": [
    "fileMFCCs = '../MFCCs/completeSetA_' + '3000' + '.pkl'\n",
    "fileMFCCs = '../MFCCs/' + fname + \"_\" + str(windowSize) + '.pkl'\n",
    "featuresdf = pd.read_pickle(fileMFCCs)\n",
    "featuresdf.head()"
   ]
  },
  {
   "cell_type": "markdown",
   "id": "a57b03aa",
   "metadata": {},
   "source": [
    "### Predections (SOFTMAX func)"
   ]
  },
  {
   "cell_type": "code",
   "execution_count": 16,
   "id": "dc411d0e",
   "metadata": {
    "scrolled": true
   },
   "outputs": [
    {
     "name": "stdout",
     "output_type": "stream",
     "text": [
      "[[1.17323275e-07 3.34171136e-06 9.99996543e-01]\n",
      " [3.17047079e-17 1.67911410e-12 1.00000000e+00]\n",
      " [1.83042221e-13 2.46223708e-10 1.00000000e+00]\n",
      " ...\n",
      " [2.17021618e-21 3.50908661e-15 1.00000000e+00]\n",
      " [9.60400918e-22 1.38898750e-15 1.00000000e+00]\n",
      " [1.22086772e-23 5.48240950e-17 1.00000000e+00]]\n"
     ]
    }
   ],
   "source": [
    "X = np.array(featuresdf.feature.tolist())\n",
    "predictions = model.predict(X)\n",
    "print(predictions)"
   ]
  },
  {
   "cell_type": "markdown",
   "id": "a6898df7",
   "metadata": {},
   "source": [
    "## Plot of Predictions"
   ]
  },
  {
   "cell_type": "markdown",
   "id": "8e7d5e67",
   "metadata": {},
   "source": [
    "### Finding predictions that are over 50%"
   ]
  },
  {
   "cell_type": "code",
   "execution_count": 17,
   "id": "47385924",
   "metadata": {
    "scrolled": true
   },
   "outputs": [
    {
     "name": "stdout",
     "output_type": "stream",
     "text": [
      "[[  0.   0.   0.]\n",
      " [  0.   0.   0.]\n",
      " [  1.   0.   0.]\n",
      " ...\n",
      " [571.   0.   0.]\n",
      " [572.   0.   0.]\n",
      " [573.   0.   0.]]\n"
     ]
    }
   ],
   "source": [
    "#Array containing predictions over 50%\n",
    "beatPositions = np.array([0,0,0])\n",
    "#the mininum value to identify a signal as S1 or S2\n",
    "treshold = 0.45\n",
    "\n",
    "#iterate over the matrix of predictions\n",
    "for index in range(np.size(predictions,0)):\n",
    "    #get line vectors and the repective prediction for S1 and S2\n",
    "    a = predictions[index][0]\n",
    "    b = predictions[index][1]\n",
    "    c = predictions[index][2]\n",
    "    \n",
    "    #if the prediction for S1 is over the treshold value\n",
    "    if(a > treshold and b < treshold):\n",
    "        #then the index and the prediction is added to the vector beatPositions\n",
    "        vector = np.array([index, a, 0])\n",
    "        beatPositions = np.vstack((beatPositions, vector))\n",
    "    #Similar to above\n",
    "    elif (b > treshold and a < treshold):\n",
    "        vector = np.array([index, 0, b])\n",
    "        beatPositions = np.vstack((beatPositions, vector))\n",
    "    #When need this because the next algorithm depends on separation of intervals using 0 values\n",
    "    elif (c > treshold):\n",
    "        vector = np.array([index, 0, 0])\n",
    "        beatPositions = np.vstack((beatPositions, vector))\n",
    "        \n",
    "        \n",
    "#beatPositions = np.vstack((beatPositions, np.array([0,0,0])))\n",
    "print(beatPositions)"
   ]
  },
  {
   "cell_type": "markdown",
   "id": "8e34245e",
   "metadata": {},
   "source": [
    "### Finding the max predictions in a given interval of values above the threshold"
   ]
  },
  {
   "cell_type": "code",
   "execution_count": 18,
   "id": "82c09729",
   "metadata": {},
   "outputs": [],
   "source": [
    "def maxS(arrIn, arrOut, sound):\n",
    "    #Vector to save values to compare with the following indexed itens\n",
    "    maxArr = np.array([0, 0])\n",
    "    #iterate over the predictions over the threshold\n",
    "    for item in arrIn:\n",
    "        #if current prediction is bigger than the one saved in maxArr\n",
    "        if (item[sound] > maxArr[1]):\n",
    "            #then change it \n",
    "            maxArr = np.array([item[0], item[sound]])\n",
    "        #if current prediction is zero and the stored prediction is not zero\n",
    "        if(item[sound] == 0 and maxArr[1] != 0):\n",
    "            arrOut = np.vstack((arrOut, maxArr))\n",
    "            maxArr = np.array([0,0])\n",
    "            \n",
    "       # if(item[sound] > treshold and (item[0] - maxArr[0]) > 8):\n",
    "            #maxArr = np.array([item[0], item[sound]])\n",
    "\n",
    "    \n",
    "    return arrOut"
   ]
  },
  {
   "cell_type": "code",
   "execution_count": 19,
   "id": "9e38e432",
   "metadata": {},
   "outputs": [
    {
     "name": "stdout",
     "output_type": "stream",
     "text": [
      "[[0.00000000e+00 0.00000000e+00]\n",
      " [3.20000000e+01 9.06336546e-01]\n",
      " [5.30000000e+01 4.92624551e-01]\n",
      " [6.40000000e+01 6.98153317e-01]\n",
      " [1.05000000e+02 9.48934257e-01]\n",
      " [1.09000000e+02 9.78122771e-01]\n",
      " [1.28000000e+02 4.77570385e-01]\n",
      " [1.39000000e+02 7.62896597e-01]\n",
      " [1.86000000e+02 8.28834653e-01]\n",
      " [2.03000000e+02 4.86458212e-01]\n",
      " [2.14000000e+02 4.57401037e-01]\n",
      " [2.62000000e+02 6.38751864e-01]\n",
      " [2.88000000e+02 5.03522575e-01]\n",
      " [3.30000000e+02 5.74642301e-01]\n",
      " [3.32000000e+02 6.53234959e-01]\n",
      " [3.38000000e+02 6.73728049e-01]\n",
      " [3.62000000e+02 5.18019080e-01]\n",
      " [4.05000000e+02 9.06842530e-01]\n",
      " [4.39000000e+02 8.60638320e-01]\n",
      " [4.84000000e+02 9.35087085e-01]\n",
      " [5.06000000e+02 5.50581753e-01]\n",
      " [5.16000000e+02 8.36912811e-01]\n",
      " [5.59000000e+02 8.36519539e-01]]\n",
      "[[  0.           0.        ]\n",
      " [ 58.           0.69685924]\n",
      " [134.           0.71160942]\n",
      " [209.           0.6182124 ]\n",
      " [281.           0.62549311]\n",
      " [359.           0.63534117]\n",
      " [435.           0.72375059]\n",
      " [512.           0.64437532]]\n"
     ]
    }
   ],
   "source": [
    "maxSoneArr = np.array([0,0])\n",
    "maxStwoArr = np.array([0,0])\n",
    "\n",
    "maxSoneArr = maxS(beatPositions, maxSoneArr, 1)\n",
    "maxStwoArr = maxS(beatPositions, maxStwoArr, 2)\n",
    "        \n",
    "print(maxSoneArr)\n",
    "print(maxStwoArr)"
   ]
  },
  {
   "cell_type": "code",
   "execution_count": 80,
   "id": "34729157",
   "metadata": {},
   "outputs": [
    {
     "data": {
      "text/plain": [
       "<matplotlib.collections.PolyCollection at 0x7f8f8685fe50>"
      ]
     },
     "execution_count": 80,
     "metadata": {},
     "output_type": "execute_result"
    },
    {
     "data": {
      "image/png": "[encoded data removed]",
      "text/plain": [
       "<Figure size 1080x360 with 1 Axes>"
      ]
     },
     "metadata": {
      "needs_background": "light"
     },
     "output_type": "display_data"
    },
    {
     "data": {
      "image/png": "[encoded data removed]",
      "text/plain": [
       "<Figure size 1080x720 with 1 Axes>"
      ]
     },
     "metadata": {
      "needs_background": "light"
     },
     "output_type": "display_data"
    }
   ],
   "source": [
    "# plots:\n",
    "\n",
    "plt.figure(figsize=(15,5))\n",
    "plt.plot(colSone, label='S1')\n",
    "plt.plot(colSTwo, label='S2')\n",
    "#plt.plot(colNoise, label='Noise')\n",
    "plt.xlim(-4, 574)\n",
    "#plt.scatter(positionS1.keys(), positionS1.values(), c='red')\n",
    "#plt.scatter(positionS2.keys(), positionS2.values(), c='black')\n",
    "plt.scatter(maxSoneArr[:,0], maxSoneArr[:,1], c='red')\n",
    "plt.scatter(maxStwoArr[:,0], maxStwoArr[:,1], c='black')\n",
    "plt.legend()\n",
    "\n",
    "\n",
    "\n",
    "# plot waves of S1\n",
    "fig = plt.figure(figsize=(15,10))\n",
    "fig.subplots_adjust(hspace = 0.4, wspace = 0.4)\n",
    "fig.add_subplot(2,1,2)\n",
    "name = '../set_a/normal__201108011114.wav'\n",
    "data, sample_rate = librosa.load(name)\n",
    "librosa.display.waveplot(data, sr = sample_rate)"
   ]
  },
  {
   "cell_type": "code",
   "execution_count": 73,
   "id": "c1abfe53",
   "metadata": {},
   "outputs": [
    {
     "name": "stdout",
     "output_type": "stream",
     "text": [
      "S1 positions: [32, 109, 186, 262, 338, 405, 484, 559]\n",
      "S2 positions: [58, 134, 209, 281, 359, 435, 512, 558]\n",
      "[77, 77, 76, 76, 67, 79, 75] [76, 75, 72, 78, 76, 77, 46]\n"
     ]
    }
   ],
   "source": [
    "lista1 = []\n",
    "for position in positionS1:\n",
    "    lista1.append(position)\n",
    "print('S1 positions:',lista1)\n",
    "\n",
    "a = lista1[0]\n",
    "final1 = []\n",
    "for i in range(len(lista1)):\n",
    "    if i>0: # ignores first value\n",
    "        b = lista1[i]-a # subtract the values\n",
    "        final1.append(b)\n",
    "    a = lista1[i]\n",
    "    \n",
    "lista2 = []\n",
    "for position in positionS2:\n",
    "    lista2.append(position)\n",
    "print('S2 positions:',lista2)\n",
    "\n",
    "a = lista2[0]\n",
    "final2 = []\n",
    "for i in range(len(lista2)):\n",
    "    if i>0: # ignores first value\n",
    "        b = lista2[i]-a # subtract the values\n",
    "        final2.append(b)\n",
    "    a = lista2[i]\n",
    "    \n",
    "print(final1, final2)"
   ]
  },
  {
   "cell_type": "code",
   "execution_count": null,
   "id": "d565231b",
   "metadata": {
    "scrolled": true
   },
   "outputs": [],
   "source": [
    "experiment.end()"
   ]
  }
 ],
 "metadata": {
  "kernelspec": {
   "display_name": "Python 3 (ipykernel)",
   "language": "python",
   "name": "python3"
  },
  "language_info": {
   "codemirror_mode": {
    "name": "ipython",
    "version": 3
   },
   "file_extension": ".py",
   "mimetype": "text/x-python",
   "name": "python",
   "nbconvert_exporter": "python",
   "pygments_lexer": "ipython3",
   "version": "3.8.10"
  }
 },
 "nbformat": 4,
 "nbformat_minor": 5
}
