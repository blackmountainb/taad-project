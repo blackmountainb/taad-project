{
 "cells": [
  {
   "cell_type": "markdown",
   "id": "38ea8194",
   "metadata": {},
   "source": [
    "# Appling machine learning to audio analysis"
   ]
  },
  {
   "cell_type": "markdown",
   "id": "6ebca840",
   "metadata": {},
   "source": [
    "## Code for Predicting with moving window"
   ]
  },
  {
   "cell_type": "markdown",
   "id": "965a361c",
   "metadata": {},
   "source": [
    "### Libraries"
   ]
  },
  {
   "cell_type": "code",
   "execution_count": 1,
   "id": "32435a3d",
   "metadata": {
    "scrolled": true
   },
   "outputs": [],
   "source": [
    "### Dependencies were already installed previously on ubuntu\n",
    "### Comet: experiment tracking and visual tools\n",
    "\n",
    "from comet_ml import Experiment\n",
    "\n",
    "import IPython.display as ipd\n",
    "import numpy as np\n",
    "import pandas as pd\n",
    "import librosa # audio analysis\n",
    "import librosa.display # this submodule needs to be imported explicitly\n",
    "import matplotlib.pyplot as plt\n",
    "from scipy.io import wavfile as wav\n",
    "import os"
   ]
  },
  {
   "cell_type": "code",
   "execution_count": 2,
   "id": "f9f86e6c",
   "metadata": {},
   "outputs": [],
   "source": [
    "from sklearn import metrics\n",
    "from sklearn.preprocessing import LabelEncoder\n",
    "from sklearn.model_selection import train_test_split"
   ]
  },
  {
   "cell_type": "code",
   "execution_count": 3,
   "id": "3b22f8aa",
   "metadata": {
    "scrolled": true
   },
   "outputs": [
    {
     "name": "stderr",
     "output_type": "stream",
     "text": [
      "2022-01-29 12:00:27.639940: W tensorflow/stream_executor/platform/default/dso_loader.cc:64] Could not load dynamic library 'libcudart.so.11.0'; dlerror: libcudart.so.11.0: cannot open shared object file: No such file or directory\n",
      "2022-01-29 12:00:27.640000: I tensorflow/stream_executor/cuda/cudart_stub.cc:29] Ignore above cudart dlerror if you do not have a GPU set up on your machine.\n"
     ]
    }
   ],
   "source": [
    "from tensorflow import keras\n",
    "from keras.models import Sequential, save_model, load_model\n",
    "from keras.layers import Dense, Dropout, Activation\n",
    "# Keras now is fully integrated to Tensorflow, so to_categorical and Adam\n",
    "# can't be imported directly from keras, therefore, the update:\n",
    "from tensorflow.keras.optimizers import Adam\n",
    "from tensorflow.keras.utils import to_categorical"
   ]
  },
  {
   "cell_type": "code",
   "execution_count": 4,
   "id": "6c752792",
   "metadata": {},
   "outputs": [],
   "source": [
    "# To play audio file:\n",
    "import IPython.display as ipd"
   ]
  },
  {
   "cell_type": "code",
   "execution_count": null,
   "id": "49aa3b70",
   "metadata": {
    "scrolled": true
   },
   "outputs": [],
   "source": [
    "# Create a Comet Experiment, to capture any and all artifacts\n",
    "# such as audio files, visualization, model, dataset, system information and training metrics\n",
    "experiment = Experiment(api_key = \"Xa6eGiuYFngDcAJ9PVY1WpZp0\", project_name = \"SetA\")"
   ]
  },
  {
   "cell_type": "markdown",
   "id": "b9c178f3",
   "metadata": {},
   "source": [
    "## MFCCs - Mel-Frequency Cepstrum Coefficients"
   ]
  },
  {
   "cell_type": "markdown",
   "id": "643a60c3",
   "metadata": {},
   "source": [
    "### Functions to extract the MFCCs from every file in our dataset"
   ]
  },
  {
   "cell_type": "code",
   "execution_count": 167,
   "id": "818d9093",
   "metadata": {},
   "outputs": [],
   "source": [
    "def shannonEnergy(audio):\n",
    "    audioShannon = []\n",
    "    maxAudio = np.ndarray.max(audio)\n",
    "\n",
    "    for i in audio:\n",
    "        if i < 10**(-5):\n",
    "            audioShannon.append(0)\n",
    "\n",
    "        else:\n",
    "            i = i/maxAudio\n",
    "            energyS = -(i**2)*np.log10(i**2)\n",
    "            audioShannon.append(energyS)\n",
    "\n",
    "    audioPlot = np.array(audioShannon)\n",
    "    meanShannon = np.mean(audioPlot)\n",
    "    stdShannon = np.std(audioPlot)\n",
    "\n",
    "    Power = []\n",
    "    for i in audioPlot:\n",
    "        Power.append((i - meanShannon)/stdShannon)\n",
    "\n",
    "    powerPlot = np.array(audioShannon)\n",
    "    return powerPlot"
   ]
  },
  {
   "cell_type": "code",
   "execution_count": 173,
   "id": "f049d7c6",
   "metadata": {},
   "outputs": [],
   "source": [
    "# funçao com gerador que guarda os valores da atual posição da janela e calcula os proximos\n",
    "def windows(audio, window_size):\n",
    "    start = 0\n",
    "    while start < len(audio):\n",
    "        yield start, start + window_size # a função para aqui e returna o valor para a outra função\n",
    "        start += (window_size // 2) #calcula a posição inicial do proximo segmento\n",
    "        "
   ]
  },
  {
   "cell_type": "code",
   "execution_count": 174,
   "id": "a2117d95",
   "metadata": {},
   "outputs": [],
   "source": [
    "def extract_features(file_name, window_size):\n",
    "    #upload do audio\n",
    "    audio, sample_rate = librosa.load(file_name, res_type='kaiser_fast') \n",
    "    \n",
    "    #list de retorno\n",
    "    mfccsArr = []\n",
    "    \n",
    "    # A função gerador é um iteravel a partir dos valores gerados durante a keyword yield\n",
    "    #Percorre um audio inteiro\n",
    "    for (start,end) in windows(audio, window_size):\n",
    "        #Enquanto a janela nao atingir o fim do audio\n",
    "        if end <= len(audio): \n",
    "            #entao define um excerto do audio\n",
    "            signal = audio[start:end]\n",
    "            signal = shannonEnergy(signal)\n",
    "            # e calcula os coeficientes de mel\n",
    "            mfccs = librosa.feature.mfcc(y=signal, sr=sample_rate, n_mfcc=40)\n",
    "            mfccs_processed = np.mean(mfccs.T,axis=0)\n",
    "            mfccsArr.append([mfccs_processed])\n",
    "    # Retorna os coeficientes de mel em forma de lista do audio inteiro\n",
    "    return mfccsArr"
   ]
  },
  {
   "cell_type": "markdown",
   "id": "4b136358",
   "metadata": {},
   "source": [
    "### Code to save the MFCCs"
   ]
  },
  {
   "cell_type": "code",
   "execution_count": 175,
   "id": "232ac765",
   "metadata": {},
   "outputs": [],
   "source": [
    "features = []# Iterate through each sound file and extract the features \n",
    "\n",
    "df = pd.read_csv('../csvFiles/set_a - Copia.csv')\n",
    "\n",
    "windowSize = 3000"
   ]
  },
  {
   "cell_type": "code",
   "execution_count": 176,
   "id": "b6868d82",
   "metadata": {},
   "outputs": [
    {
     "name": "stdout",
     "output_type": "stream",
     "text": [
      "set_a/normal__201108011114.wav\n"
     ]
    }
   ],
   "source": [
    "for index, row in df.iterrows():\n",
    "    \n",
    "    absolutePath = os.path.abspath(\"../\")\n",
    "    fname = str(row[\"fname\"])\n",
    "    print(fname)\n",
    "    file_name = os.path.join(absolutePath,fname)\n",
    " \n",
    "    data = extract_features(file_name, windowSize)\n",
    "    \n",
    "    for item in data:\n",
    "        features.append(item)\n",
    "        \n",
    "\n",
    "# Convert into a Panda dataframe \n",
    "featuresdf = pd.DataFrame(features, columns=['feature'])"
   ]
  },
  {
   "cell_type": "code",
   "execution_count": 177,
   "id": "a75a1219",
   "metadata": {
    "scrolled": false
   },
   "outputs": [
    {
     "data": {
      "text/html": [
       "<div>\n",
       "<style scoped>\n",
       "    .dataframe tbody tr th:only-of-type {\n",
       "        vertical-align: middle;\n",
       "    }\n",
       "\n",
       "    .dataframe tbody tr th {\n",
       "        vertical-align: top;\n",
       "    }\n",
       "\n",
       "    .dataframe thead th {\n",
       "        text-align: right;\n",
       "    }\n",
       "</style>\n",
       "<table border=\"1\" class=\"dataframe\">\n",
       "  <thead>\n",
       "    <tr style=\"text-align: right;\">\n",
       "      <th></th>\n",
       "      <th>feature</th>\n",
       "    </tr>\n",
       "  </thead>\n",
       "  <tbody>\n",
       "    <tr>\n",
       "      <th>0</th>\n",
       "      <td>[-435.97594211021845, 208.90665625473108, 58.8...</td>\n",
       "    </tr>\n",
       "    <tr>\n",
       "      <th>1</th>\n",
       "      <td>[-458.6416535561445, 212.79472812361573, 55.97...</td>\n",
       "    </tr>\n",
       "    <tr>\n",
       "      <th>2</th>\n",
       "      <td>[-442.6617429168644, 212.6965295330564, 53.124...</td>\n",
       "    </tr>\n",
       "    <tr>\n",
       "      <th>3</th>\n",
       "      <td>[-419.21006426410946, 235.62579277576415, 43.9...</td>\n",
       "    </tr>\n",
       "    <tr>\n",
       "      <th>4</th>\n",
       "      <td>[-410.88496307577583, 234.65298918470262, 42.1...</td>\n",
       "    </tr>\n",
       "  </tbody>\n",
       "</table>\n",
       "</div>"
      ],
      "text/plain": [
       "                                             feature\n",
       "0  [-435.97594211021845, 208.90665625473108, 58.8...\n",
       "1  [-458.6416535561445, 212.79472812361573, 55.97...\n",
       "2  [-442.6617429168644, 212.6965295330564, 53.124...\n",
       "3  [-419.21006426410946, 235.62579277576415, 43.9...\n",
       "4  [-410.88496307577583, 234.65298918470262, 42.1..."
      ]
     },
     "execution_count": 177,
     "metadata": {},
     "output_type": "execute_result"
    }
   ],
   "source": [
    "featuresdf.head()"
   ]
  },
  {
   "cell_type": "code",
   "execution_count": 178,
   "id": "c610201f",
   "metadata": {
    "scrolled": false
   },
   "outputs": [],
   "source": [
    "featuresdf.iloc[0]['feature']\n",
    "fileMFCCs = '../MFCCs/' + fname + \"_\" + str(windowSize) + \"shannon_mfccs40\" + '.pkl'\n",
    "featuresdf.to_pickle(fileMFCCs) "
   ]
  },
  {
   "cell_type": "markdown",
   "id": "665a256a",
   "metadata": {},
   "source": [
    "### Plot of MFCCs"
   ]
  },
  {
   "cell_type": "markdown",
   "id": "f58c9230",
   "metadata": {},
   "source": [
    "#### Complete audio file"
   ]
  },
  {
   "cell_type": "code",
   "execution_count": 35,
   "id": "efe0190d",
   "metadata": {},
   "outputs": [
    {
     "data": {
      "text/plain": [
       "<matplotlib.collections.QuadMesh at 0x7efbbfd56700>"
      ]
     },
     "execution_count": 35,
     "metadata": {},
     "output_type": "execute_result"
    },
    {
     "data": {
      "image/png": "[encoded data removed]",
      "text/plain": [
       "<Figure size 432x288 with 1 Axes>"
      ]
     },
     "metadata": {
      "needs_background": "light"
     },
     "output_type": "display_data"
    }
   ],
   "source": [
    "audio, sample_rate = librosa.load(file_name, res_type='kaiser_fast') \n",
    "mfccs = librosa.feature.mfcc(y=audio, sr=sample_rate, n_mfcc = 40, fmax= 10000)\n",
    "librosa.display.specshow(mfccs, sr=sample_rate, x_axis='time', y_axis='mel')"
   ]
  },
  {
   "cell_type": "code",
   "execution_count": null,
   "id": "123d98e9",
   "metadata": {},
   "outputs": [],
   "source": [
    "audioShannon = []\n",
    "maxAudio = np.ndarray.max(audio)\n",
    "\n",
    "for i in audio:\n",
    "    if i < 10**(-5):\n",
    "        audioShannon.append(0)\n",
    "        \n",
    "    else:\n",
    "        i = i/maxAudio\n",
    "        energyS = -(i**2)*np.log10(i**2)\n",
    "        audioShannon.append(energyS)\n",
    "        \n",
    "audioPlot = np.array(audioShannon)\n",
    "meanShannon = np.mean(audioPlot)\n",
    "stdShannon = np.std(audioPlot)\n",
    "\n",
    "Power = []\n",
    "for i in audioPlot:\n",
    "    Power.append((i - meanShannon)/stdShannon)\n",
    "    \n",
    "powerPlot = np.array(audioShannon)\n",
    "plt.plot(powerPlot)\n"
   ]
  },
  {
   "cell_type": "code",
   "execution_count": null,
   "id": "df23765a",
   "metadata": {},
   "outputs": [],
   "source": [
    "plt.plot(audio)"
   ]
  },
  {
   "cell_type": "code",
   "execution_count": null,
   "id": "b6eff107",
   "metadata": {},
   "outputs": [],
   "source": [
    "mfccs = librosa.feature.mfcc(y=powerPlot, sr=sample_rate, n_mfcc = 40)\n",
    "librosa.display.specshow(mfccs, sr=sample_rate, x_axis='time', y_axis='mel')"
   ]
  },
  {
   "cell_type": "code",
   "execution_count": null,
   "id": "a29d9eef",
   "metadata": {},
   "outputs": [],
   "source": [
    "plt.figure(figsize=(15,5))\n",
    "plt.plot(mfccs[:,0], label='mfccsFile')\n",
    "plt.legend()"
   ]
  },
  {
   "cell_type": "markdown",
   "id": "0fd4bc12",
   "metadata": {},
   "source": [
    "#### Sampled windows"
   ]
  },
  {
   "cell_type": "code",
   "execution_count": null,
   "id": "92cd3e0b",
   "metadata": {},
   "outputs": [],
   "source": [
    "plt.figure(figsize=(15,5))\n",
    "mfccsArr = np.array(featuresdf.feature.tolist())\n",
    "plt.plot(mfccsArr[510], label='mfccs')\n",
    "plt.legend()"
   ]
  },
  {
   "cell_type": "code",
   "execution_count": 23,
   "id": "52a6990d",
   "metadata": {},
   "outputs": [
    {
     "data": {
      "text/plain": [
       "<matplotlib.collections.QuadMesh at 0x7efbbfe8f5e0>"
      ]
     },
     "execution_count": 23,
     "metadata": {},
     "output_type": "execute_result"
    },
    {
     "data": {
      "image/png": "[encoded data removed]",
      "text/plain": [
       "<Figure size 936x360 with 1 Axes>"
      ]
     },
     "metadata": {
      "needs_background": "light"
     },
     "output_type": "display_data"
    }
   ],
   "source": [
    "mfccsArr = np.array(featuresdf.feature.tolist())\n",
    "plt.figure(figsize=(13,5))\n",
    "librosa.display.specshow(mfccsArr.T, sr=sample_rate, x_axis='time', y_axis='mel')"
   ]
  },
  {
   "cell_type": "markdown",
   "id": "69052eeb",
   "metadata": {},
   "source": [
    "## Model's Predections"
   ]
  },
  {
   "cell_type": "markdown",
   "id": "fc9de8d9",
   "metadata": {},
   "source": [
    "### Load Model from saved files"
   ]
  },
  {
   "cell_type": "code",
   "execution_count": 179,
   "id": "d4ac6f1c",
   "metadata": {
    "scrolled": false
   },
   "outputs": [],
   "source": [
    "model = load_model('../model_save/cut_setA_Train_shannon_mffcs40_Hist_700/saved_model', compile = True)"
   ]
  },
  {
   "cell_type": "code",
   "execution_count": 180,
   "id": "3e667cf6",
   "metadata": {},
   "outputs": [
    {
     "name": "stdout",
     "output_type": "stream",
     "text": [
      "../MFCCs/set_a/normal__201108011114.wav_3000shannon_mfccs40.pkl\n"
     ]
    },
    {
     "data": {
      "text/html": [
       "<div>\n",
       "<style scoped>\n",
       "    .dataframe tbody tr th:only-of-type {\n",
       "        vertical-align: middle;\n",
       "    }\n",
       "\n",
       "    .dataframe tbody tr th {\n",
       "        vertical-align: top;\n",
       "    }\n",
       "\n",
       "    .dataframe thead th {\n",
       "        text-align: right;\n",
       "    }\n",
       "</style>\n",
       "<table border=\"1\" class=\"dataframe\">\n",
       "  <thead>\n",
       "    <tr style=\"text-align: right;\">\n",
       "      <th></th>\n",
       "      <th>feature</th>\n",
       "    </tr>\n",
       "  </thead>\n",
       "  <tbody>\n",
       "    <tr>\n",
       "      <th>0</th>\n",
       "      <td>[-435.97594211021845, 208.90665625473108, 58.8...</td>\n",
       "    </tr>\n",
       "    <tr>\n",
       "      <th>1</th>\n",
       "      <td>[-458.6416535561445, 212.79472812361573, 55.97...</td>\n",
       "    </tr>\n",
       "    <tr>\n",
       "      <th>2</th>\n",
       "      <td>[-442.6617429168644, 212.6965295330564, 53.124...</td>\n",
       "    </tr>\n",
       "    <tr>\n",
       "      <th>3</th>\n",
       "      <td>[-419.21006426410946, 235.62579277576415, 43.9...</td>\n",
       "    </tr>\n",
       "    <tr>\n",
       "      <th>4</th>\n",
       "      <td>[-410.88496307577583, 234.65298918470262, 42.1...</td>\n",
       "    </tr>\n",
       "  </tbody>\n",
       "</table>\n",
       "</div>"
      ],
      "text/plain": [
       "                                             feature\n",
       "0  [-435.97594211021845, 208.90665625473108, 58.8...\n",
       "1  [-458.6416535561445, 212.79472812361573, 55.97...\n",
       "2  [-442.6617429168644, 212.6965295330564, 53.124...\n",
       "3  [-419.21006426410946, 235.62579277576415, 43.9...\n",
       "4  [-410.88496307577583, 234.65298918470262, 42.1..."
      ]
     },
     "execution_count": 180,
     "metadata": {},
     "output_type": "execute_result"
    }
   ],
   "source": [
    "#fileMFCCs = '../MFCCs/completeSetA_' + '3000' + '.pkl'\n",
    "#fileMFCCs = '../MFCCs/' + fname + \"_\" + str(windowSize) + '.pkl'\n",
    "print(fileMFCCs)\n",
    "featuresdf = pd.read_pickle(fileMFCCs)\n",
    "featuresdf.head()"
   ]
  },
  {
   "cell_type": "markdown",
   "id": "a57b03aa",
   "metadata": {},
   "source": [
    "### Predections (SOFTMAX func)"
   ]
  },
  {
   "cell_type": "code",
   "execution_count": 181,
   "id": "dc411d0e",
   "metadata": {
    "scrolled": false
   },
   "outputs": [],
   "source": [
    "X = np.array(featuresdf.feature.tolist())\n",
    "predictions = model.predict(X)"
   ]
  },
  {
   "cell_type": "markdown",
   "id": "c04ead75",
   "metadata": {},
   "source": [
    "### Obtaining the time domain from samples domain"
   ]
  },
  {
   "cell_type": "code",
   "execution_count": 182,
   "id": "114af2c0",
   "metadata": {},
   "outputs": [],
   "source": [
    "timeDomain = []\n",
    "\n",
    "SR = 22050\n",
    "window = 3000\n",
    "initT = window/2\n",
    "\n",
    "hop = window//2\n",
    "for i in predictions:\n",
    "    sec = initT/SR\n",
    "    timeDomain.append(sec)\n",
    "    initT += hop"
   ]
  },
  {
   "cell_type": "markdown",
   "id": "8e7d5e67",
   "metadata": {},
   "source": [
    "### Finding predictions that are over 50%"
   ]
  },
  {
   "cell_type": "code",
   "execution_count": 184,
   "id": "5a68c6b5",
   "metadata": {},
   "outputs": [],
   "source": [
    "def soundType(strSignal):\n",
    "    if strSignal == \"S1\":\n",
    "        signal = 0\n",
    "    else:\n",
    "        signal = 1\n",
    "    return signal"
   ]
  },
  {
   "cell_type": "code",
   "execution_count": 185,
   "id": "b1a6d6ce",
   "metadata": {},
   "outputs": [],
   "source": [
    "def findPickInt(inMatrix, treshold, strSignal):\n",
    "    signal = soundType(strSignal)\n",
    "    #Array containing predictions over 50%\n",
    "    beatPositions = np.array([0,0])\n",
    "    #the mininum value to identify a signal as S1 or S2\n",
    "\n",
    "    #iterate over the matrix of predictions\n",
    "    for index in range(np.size(inMatrix,0)):\n",
    "        #get line vectors and the repective prediction for S1 and S2\n",
    "        a = inMatrix[index][signal]\n",
    "\n",
    "        #if the prediction for S1 is over the treshold value\n",
    "        if(a >= treshold):\n",
    "            #then the index and the prediction is added to the vector beatPositions\n",
    "            vector = np.array([index, a])\n",
    "            beatPositions = np.vstack((beatPositions, vector))\n",
    "        else:\n",
    "            vector = np.array([index, 0])\n",
    "            beatPositions = np.vstack((beatPositions, vector))\n",
    "\n",
    "    return beatPositions\n",
    "#beatPositions = np.vstack((beatPositions, np.array([0,0,0])))"
   ]
  },
  {
   "cell_type": "markdown",
   "id": "8e34245e",
   "metadata": {},
   "source": [
    "### Finding the max predictions within a given interval of values above the threshold"
   ]
  },
  {
   "cell_type": "code",
   "execution_count": 186,
   "id": "82c09729",
   "metadata": {},
   "outputs": [],
   "source": [
    "def maxS(arrIn):\n",
    "    \n",
    "    arrOut = np.array([0, 0])\n",
    "    #Vector to save values to compare with the following indexed itens\n",
    "    maxArr = np.array([0, 0])\n",
    "    #iterate over the predictions over the threshold\n",
    "    for item in arrIn:\n",
    "        #if current prediction is bigger than the one saved in maxArr\n",
    "        if (item[1] > maxArr[1]):\n",
    "            #then change it \n",
    "            maxArr = np.array([item[0], item[1]])\n",
    "        #if current prediction is zero and the stored prediction is not zero\n",
    "        if(item[1] == 0 and maxArr[1] != 0):\n",
    "            arrOut = np.vstack((arrOut, maxArr))\n",
    "            maxArr = np.array([0,0])\n",
    "\n",
    "    \n",
    "    return arrOut"
   ]
  },
  {
   "cell_type": "markdown",
   "id": "313ae7e5",
   "metadata": {},
   "source": [
    "### Arrays with max values of S1 and S2"
   ]
  },
  {
   "cell_type": "code",
   "execution_count": 190,
   "id": "9e38e432",
   "metadata": {
    "scrolled": true
   },
   "outputs": [],
   "source": [
    "maxOne = findPickInt(predictions, 0.35, \"S1\")\n",
    "maxTwo = findPickInt(predictions, 0.35, \"S2\")\n",
    "\n",
    "maxSoneArr = maxS(maxOne)\n",
    "maxStwoArr = maxS(maxTwo)"
   ]
  },
  {
   "cell_type": "markdown",
   "id": "a4ba4eb3",
   "metadata": {},
   "source": [
    "### Hearbeat rate calculation"
   ]
  },
  {
   "cell_type": "code",
   "execution_count": 191,
   "id": "c97fdcb2",
   "metadata": {},
   "outputs": [],
   "source": [
    "def heartBeat(inVec, timeD, sType):\n",
    "    # The estimator is the unweighted mean\n",
    "    i = 1\n",
    "    deviation = 0\n",
    "    while i < (np.size(inVec,0) - 1):\n",
    "        #calculate the distance between consecutive maximums \n",
    "        # the inVec cotains the index of the sampling windows in predictions vector with max probability\n",
    "        # timeD is a one to one transofrmation from sampling windows to time in seconds\n",
    "        deviation += abs(timeD[int(inVec[i][0])] - timeD[int(inVec[i + 1][0])])\n",
    "        i += 1\n",
    "    \n",
    "    hB = 1/(deviation/(np.size(inVec,0) - 2))\n",
    "    \n",
    "    return \"Batimentos: \" + str(round(hB,2)) + \"Hz ou \" + str(round(hB*60,2)) + \" batimentos por minuto. \\nCalculado com \" + sType + \".\""
   ]
  },
  {
   "cell_type": "code",
   "execution_count": 192,
   "id": "5a6c3d09",
   "metadata": {},
   "outputs": [
    {
     "name": "stdout",
     "output_type": "stream",
     "text": [
      "Batimentos: 0.98Hz ou 58.8 batimentos por minuto. \n",
      "Calculado com S1.\n",
      "Batimentos: 0.82Hz ou 49.0 batimentos por minuto. \n",
      "Calculado com S2.\n"
     ]
    }
   ],
   "source": [
    "print(heartBeat(maxSoneArr, timeDomain, \"S1\"))\n",
    "print(heartBeat(maxStwoArr, timeDomain, \"S2\"))"
   ]
  },
  {
   "cell_type": "markdown",
   "id": "a6898df7",
   "metadata": {},
   "source": [
    "## Plot of Predictions"
   ]
  },
  {
   "cell_type": "code",
   "execution_count": 194,
   "id": "34729157",
   "metadata": {
    "scrolled": false
   },
   "outputs": [
    {
     "data": {
      "text/plain": [
       "<matplotlib.collections.PolyCollection at 0x7efbd54923d0>"
      ]
     },
     "execution_count": 194,
     "metadata": {},
     "output_type": "execute_result"
    },
    {
     "data": {
      "image/png": "[encoded data removed]",
      "text/plain": [
       "<Figure size 1080x360 with 1 Axes>"
      ]
     },
     "metadata": {
      "needs_background": "light"
     },
     "output_type": "display_data"
    },
    {
     "data": {
      "image/png": "[encoded data removed]",
      "text/plain": [
       "<Figure size 1080x720 with 1 Axes>"
      ]
     },
     "metadata": {
      "needs_background": "light"
     },
     "output_type": "display_data"
    }
   ],
   "source": [
    "#Predictions relative to time\n",
    "plt.figure(figsize=(15,5))\n",
    "plt.plot(timeDomain, predictions[:,0], label='S1')\n",
    "plt.plot(timeDomain, predictions[:,1], label='S2')\n",
    "#plt.plot(predictions[:,0], label='S1')\n",
    "#plt.plot(predictions[:,1], label='S2')\n",
    "plt.xlabel(\"Tempo - Segundos\")\n",
    "plt.ylabel(\"Probabilidade (%)\")\n",
    "#plt.scatter(maxSoneArr[:,0], maxSoneArr[:,1], c='red')\n",
    "#plt.scatter(maxStwoArr[:,0], maxStwoArr[:,1], c='black')\n",
    "plt.legend()\n",
    "\n",
    "\n",
    "\n",
    "#Plot predictions overlaping the signal in timeDomain\n",
    "fig = plt.figure(figsize=(15,10))\n",
    "fig.subplots_adjust(hspace = 0.4, wspace = 0.4)\n",
    "\n",
    "predicPlot = fig.add_subplot(2,1,1)\n",
    "predicPlot.plot(timeDomain, predictions[:,0], label='S1')\n",
    "predicPlot.plot(timeDomain, predictions[:,1], label='S2')\n",
    "predicPlot.set_xlabel(\"Tempo - Segundos\")\n",
    "predicPlot.set_ylabel(\"Probabilidade (%)\")\n",
    "predicPlot.legend()\n",
    "\n",
    "#Plot of the soundwave\n",
    "name = '../set_a/normal__201108011114.wav'\n",
    "data, sample_rate = librosa.load(name)\n",
    "librosa.display.waveplot(data, sr = sample_rate)"
   ]
  },
  {
   "cell_type": "markdown",
   "id": "82f14c55",
   "metadata": {},
   "source": [
    "## Moving average"
   ]
  },
  {
   "cell_type": "markdown",
   "id": "ef4e54a3",
   "metadata": {},
   "source": [
    "### Summing function for moving average"
   ]
  },
  {
   "cell_type": "code",
   "execution_count": null,
   "id": "84f5c6de",
   "metadata": {},
   "outputs": [],
   "source": [
    "def movingAvg(inVec, index, interval, sType):\n",
    "    avg = 0\n",
    "    #starts a few steps behind\n",
    "    i = -interval\n",
    "    #Sums the predictions around the current one\n",
    "    while (i < interval + 1):\n",
    "        avg += inVec[index + i][sType]\n",
    "        i += 1\n",
    "        \n",
    "    return (avg/(2*interval + 1))"
   ]
  },
  {
   "cell_type": "code",
   "execution_count": null,
   "id": "7c70fa74",
   "metadata": {},
   "outputs": [],
   "source": [
    "#Copy of the predictions vector\n",
    "mvAvg = np.copy(predictions,\"K\")\n",
    "\n",
    "#length to stop the for lop, can sum initial and final indexes\n",
    "stopSize = np.size(predictions,0)\n",
    "#lenght of the sum\n",
    "sizeAvg = 1\n",
    "#starting index\n",
    "indexCount = sizeAvg\n",
    "        \n",
    "for item in predictions:\n",
    "    if indexCount < stopSize - sizeAvg:\n",
    "        \n",
    "        mvAvg[indexCount][0] = movingAvg(predictions, indexCount, sizeAvg, 0)\n",
    "        mvAvg[indexCount][1] = movingAvg(predictions, indexCount, sizeAvg, 1)\n",
    "        \n",
    "    indexCount += 1"
   ]
  },
  {
   "cell_type": "markdown",
   "id": "14d40424",
   "metadata": {},
   "source": [
    "### Max values"
   ]
  },
  {
   "cell_type": "code",
   "execution_count": null,
   "id": "6ba75598",
   "metadata": {
    "scrolled": true
   },
   "outputs": [],
   "source": [
    "maxAvgOne = findPickInt(mvAvg, 0.2, \"S1\")\n",
    "maxAvgTwo = findPickInt(mvAvg, 0.4, \"S2\")\n",
    "\n",
    "picAvgOne = maxS(maxAvgOne)\n",
    "picAvgTwo = maxS(maxAvgTwo)\n",
    "\n",
    "print(heartBeat(picAvgOne, timeDomain, \"S1\"))\n",
    "print(heartBeat(picAvgTwo, timeDomain, \"S2\"))"
   ]
  },
  {
   "cell_type": "markdown",
   "id": "1298f6a2",
   "metadata": {},
   "source": [
    "### Plot"
   ]
  },
  {
   "cell_type": "code",
   "execution_count": null,
   "id": "2bb89feb",
   "metadata": {
    "scrolled": false
   },
   "outputs": [],
   "source": [
    "plt.figure(figsize=(15,5))\n",
    "plt.plot(mvAvg[:,0], label='S1mv')\n",
    "plt.plot(mvAvg[:,1], label='S2mv')\n",
    "#plt.plot(mvAvg[:,2], label='noive')\n",
    "#plt.scatter(maxAvg[:,0],maxAvg[:,1], c='red')\n",
    "plt.scatter(picAvgOne[:,0],picAvgOne[:,1], c='black')\n",
    "plt.scatter(picAvgTwo[:,0],picAvgTwo[:,1], c='red')\n",
    "\n",
    "#plt.plot(predictions[:,0], label='S1')\n",
    "#plt.plot(predictions[:,1], label='S2')\n",
    "#plt.xlim(100, 250)\n",
    "plt.legend()"
   ]
  },
  {
   "cell_type": "markdown",
   "id": "8a7e6b01",
   "metadata": {},
   "source": [
    "## Integral average"
   ]
  },
  {
   "cell_type": "code",
   "execution_count": null,
   "id": "aa2a39b6",
   "metadata": {},
   "outputs": [],
   "source": [
    "def integralAvg(inVec, dx, index, size, sType):\n",
    "    avg = 0\n",
    "    i = -size\n",
    "    while i < size + 1:\n",
    "        avg += dx*inVec[index + i][sType]\n",
    "        i += 1\n",
    "        \n",
    "    return (avg/(2*size + 1))\n",
    "    "
   ]
  },
  {
   "cell_type": "code",
   "execution_count": null,
   "id": "d565231b",
   "metadata": {
    "scrolled": true
   },
   "outputs": [],
   "source": [
    "experiment.end()"
   ]
  },
  {
   "cell_type": "code",
   "execution_count": null,
   "id": "d4d2c1dc",
   "metadata": {},
   "outputs": [],
   "source": []
  }
 ],
 "metadata": {
  "kernelspec": {
   "display_name": "Python 3 (ipykernel)",
   "language": "python",
   "name": "python3"
  },
  "language_info": {
   "codemirror_mode": {
    "name": "ipython",
    "version": 3
   },
   "file_extension": ".py",
   "mimetype": "text/x-python",
   "name": "python",
   "nbconvert_exporter": "python",
   "pygments_lexer": "ipython3",
   "version": "3.8.10"
  }
 },
 "nbformat": 4,
 "nbformat_minor": 5
}
