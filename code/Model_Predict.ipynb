{
 "cells": [
  {
   "cell_type": "markdown",
   "id": "38ea8194",
   "metadata": {},
   "source": [
    "# Appling machine learning to audio analysis"
   ]
  },
  {
   "cell_type": "markdown",
   "id": "6ebca840",
   "metadata": {},
   "source": [
    "## Code for Predicting "
   ]
  },
  {
   "cell_type": "markdown",
   "id": "965a361c",
   "metadata": {},
   "source": [
    "### Libraries"
   ]
  },
  {
   "cell_type": "code",
   "execution_count": 1,
   "id": "32435a3d",
   "metadata": {
    "scrolled": true
   },
   "outputs": [],
   "source": [
    "### Dependencies were already installed previously on ubuntu\n",
    "### Comet: experiment tracking and visual tools\n",
    "\n",
    "from comet_ml import Experiment\n",
    "\n",
    "import IPython.display as ipd\n",
    "import numpy as np\n",
    "import pandas as pd\n",
    "import librosa # audio analysis\n",
    "import librosa.display # this submodule needs to be imported explicitly\n",
    "import matplotlib.pyplot as plt\n",
    "from scipy.io import wavfile as wav\n",
    "import os"
   ]
  },
  {
   "cell_type": "code",
   "execution_count": 2,
   "id": "f9f86e6c",
   "metadata": {},
   "outputs": [],
   "source": [
    "from sklearn import metrics\n",
    "from sklearn.preprocessing import LabelEncoder\n",
    "from sklearn.model_selection import train_test_split"
   ]
  },
  {
   "cell_type": "code",
   "execution_count": 3,
   "id": "3b22f8aa",
   "metadata": {
    "scrolled": true
   },
   "outputs": [],
   "source": [
    "from tensorflow import keras\n",
    "from keras.models import Sequential, save_model, load_model\n",
    "from keras.layers import Dense, Dropout, Activation\n",
    "# Keras now is fully integrated to Tensorflow, so to_categorical and Adam\n",
    "# can't be imported directly from keras, therefore, the update:\n",
    "from tensorflow.keras.optimizers import Adam\n",
    "from tensorflow.keras.utils import to_categorical"
   ]
  },
  {
   "cell_type": "code",
   "execution_count": 4,
   "id": "6c752792",
   "metadata": {},
   "outputs": [],
   "source": [
    "# To play audio file:\n",
    "import IPython.display as ipd"
   ]
  },
  {
   "cell_type": "code",
   "execution_count": 5,
   "id": "49aa3b70",
   "metadata": {
    "scrolled": true
   },
   "outputs": [
    {
     "name": "stderr",
     "output_type": "stream",
     "text": [
      "COMET WARNING: As you are running in a Jupyter environment, you will need to call `experiment.end()` when finished to ensure all metrics and code are logged before exiting.\n",
      "COMET INFO: Experiment is live on comet.ml https://www.comet.ml/negromontebs/seta/7e2b0b92791a4f909d5cc739b424cc89\n",
      "\n"
     ]
    }
   ],
   "source": [
    "# Create a Comet Experiment, to capture any and all artifacts\n",
    "# such as audio files, visualization, model, dataset, system information and training metrics\n",
    "experiment = Experiment(api_key = \"Xa6eGiuYFngDcAJ9PVY1WpZp0\", project_name = \"SetA\")"
   ]
  },
  {
   "cell_type": "markdown",
   "id": "b9c178f3",
   "metadata": {},
   "source": [
    "## MFCCs - Mel-Frequency Cepstrum Coefficients"
   ]
  },
  {
   "cell_type": "markdown",
   "id": "643a60c3",
   "metadata": {},
   "source": [
    "### Functions to extract the MFCCs from every file in our dataset"
   ]
  },
  {
   "cell_type": "code",
   "execution_count": 6,
   "id": "f049d7c6",
   "metadata": {},
   "outputs": [],
   "source": [
    "# funçao com gerador que guarda os valores da atual posição da janela e calcula os proximos\n",
    "def windows(audio, window_size):\n",
    "    start = 0\n",
    "    while start < len(audio):\n",
    "        yield start, start + window_size # a função para aqui e returna o valor para a outra função\n",
    "        start += (window_size // 10) #calcula a posição inicial do proximo segmento"
   ]
  },
  {
   "cell_type": "code",
   "execution_count": 7,
   "id": "a2117d95",
   "metadata": {},
   "outputs": [],
   "source": [
    "def extract_features(file_name, window_size):\n",
    "    #upload do audio\n",
    "    audio, sample_rate = librosa.load(file_name, res_type='kaiser_fast') \n",
    "    #list de retorno\n",
    "    mfccsArr = []\n",
    "    \n",
    "    # A função gerador é um iteravel a partir dos valores gerados durante a keyword yield\n",
    "    #Percorre um audio inteiro\n",
    "    for (start,end) in windows(audio, window_size):\n",
    "        #Enquanto a janela nao atingir o fim do audio\n",
    "        if end <= len(audio): \n",
    "            #entao define um excerto do audio\n",
    "            signal = audio[start:end]\n",
    "            # e calcula os coeficientes de mel\n",
    "            mfccs = librosa.feature.mfcc(y=signal, sr=sample_rate, n_mfcc=40)\n",
    "            mfccs_processed = np.mean(mfccs.T,axis=0)\n",
    "            mfccsArr.append([mfccs_processed])\n",
    "    # Retorna os coeficientes de mel em forma de lista do audio inteiro\n",
    "    return mfccsArr"
   ]
  },
  {
   "cell_type": "markdown",
   "id": "4b136358",
   "metadata": {},
   "source": [
    "### Code to save the MFCCs"
   ]
  },
  {
   "cell_type": "code",
   "execution_count": 8,
   "id": "232ac765",
   "metadata": {},
   "outputs": [],
   "source": [
    "features = []# Iterate through each sound file and extract the features \n",
    "\n",
    "df = pd.read_csv('../csvFiles/set_a - copia.csv')\n",
    "\n",
    "windowSize = 3000"
   ]
  },
  {
   "cell_type": "code",
   "execution_count": 9,
   "id": "b6868d82",
   "metadata": {},
   "outputs": [],
   "source": [
    "for index, row in df.iterrows():\n",
    "    \n",
    "    absolutePath = os.path.abspath(\"../\")\n",
    "    fname = str(row[\"fname\"])\n",
    "    file_name = os.path.join(absolutePath,fname)\n",
    "    \n",
    "    \n",
    "    data = extract_features(file_name, windowSize)\n",
    "    \n",
    "    for item in data:\n",
    "        features.append(item)\n",
    "    \n",
    "# Convert into a Panda dataframe \n",
    "featuresdf = pd.DataFrame(features, columns=['feature'])"
   ]
  },
  {
   "cell_type": "code",
   "execution_count": 10,
   "id": "a75a1219",
   "metadata": {},
   "outputs": [
    {
     "data": {
      "text/html": [
       "<div>\n",
       "<style scoped>\n",
       "    .dataframe tbody tr th:only-of-type {\n",
       "        vertical-align: middle;\n",
       "    }\n",
       "\n",
       "    .dataframe tbody tr th {\n",
       "        vertical-align: top;\n",
       "    }\n",
       "\n",
       "    .dataframe thead th {\n",
       "        text-align: right;\n",
       "    }\n",
       "</style>\n",
       "<table border=\"1\" class=\"dataframe\">\n",
       "  <thead>\n",
       "    <tr style=\"text-align: right;\">\n",
       "      <th></th>\n",
       "      <th>feature</th>\n",
       "    </tr>\n",
       "  </thead>\n",
       "  <tbody>\n",
       "    <tr>\n",
       "      <th>0</th>\n",
       "      <td>[-619.4802, 164.81221, 61.611187, 27.008148, 3...</td>\n",
       "    </tr>\n",
       "    <tr>\n",
       "      <th>1</th>\n",
       "      <td>[-677.06586, 214.36499, 58.828716, 11.51953, 4...</td>\n",
       "    </tr>\n",
       "    <tr>\n",
       "      <th>2</th>\n",
       "      <td>[-663.1361, 201.0767, 62.281616, 17.150503, 40...</td>\n",
       "    </tr>\n",
       "    <tr>\n",
       "      <th>3</th>\n",
       "      <td>[-656.9102, 200.3762, 63.165554, 17.528437, 39...</td>\n",
       "    </tr>\n",
       "    <tr>\n",
       "      <th>4</th>\n",
       "      <td>[-657.5186, 198.93721, 61.94527, 17.597023, 39...</td>\n",
       "    </tr>\n",
       "  </tbody>\n",
       "</table>\n",
       "</div>"
      ],
      "text/plain": [
       "                                             feature\n",
       "0  [-619.4802, 164.81221, 61.611187, 27.008148, 3...\n",
       "1  [-677.06586, 214.36499, 58.828716, 11.51953, 4...\n",
       "2  [-663.1361, 201.0767, 62.281616, 17.150503, 40...\n",
       "3  [-656.9102, 200.3762, 63.165554, 17.528437, 39...\n",
       "4  [-657.5186, 198.93721, 61.94527, 17.597023, 39..."
      ]
     },
     "execution_count": 10,
     "metadata": {},
     "output_type": "execute_result"
    }
   ],
   "source": [
    "featuresdf.head()"
   ]
  },
  {
   "cell_type": "code",
   "execution_count": 11,
   "id": "c610201f",
   "metadata": {
    "scrolled": true
   },
   "outputs": [],
   "source": [
    "featuresdf.iloc[0]['feature']\n",
    "fileMFCCs = '../MFCCs/completeSetA_' + str(windowSize) + '.pkl'\n",
    "featuresdf.to_pickle(fileMFCCs) "
   ]
  },
  {
   "cell_type": "markdown",
   "id": "69052eeb",
   "metadata": {},
   "source": [
    "## Model's Predections"
   ]
  },
  {
   "cell_type": "markdown",
   "id": "fc9de8d9",
   "metadata": {},
   "source": [
    "### Load Model from saved files"
   ]
  },
  {
   "cell_type": "code",
   "execution_count": 12,
   "id": "d4ac6f1c",
   "metadata": {
    "scrolled": true
   },
   "outputs": [],
   "source": [
    "model = load_model('../model_save/cut_setA', compile = True)"
   ]
  },
  {
   "cell_type": "code",
   "execution_count": 13,
   "id": "3e667cf6",
   "metadata": {},
   "outputs": [
    {
     "data": {
      "text/html": [
       "<div>\n",
       "<style scoped>\n",
       "    .dataframe tbody tr th:only-of-type {\n",
       "        vertical-align: middle;\n",
       "    }\n",
       "\n",
       "    .dataframe tbody tr th {\n",
       "        vertical-align: top;\n",
       "    }\n",
       "\n",
       "    .dataframe thead th {\n",
       "        text-align: right;\n",
       "    }\n",
       "</style>\n",
       "<table border=\"1\" class=\"dataframe\">\n",
       "  <thead>\n",
       "    <tr style=\"text-align: right;\">\n",
       "      <th></th>\n",
       "      <th>feature</th>\n",
       "    </tr>\n",
       "  </thead>\n",
       "  <tbody>\n",
       "    <tr>\n",
       "      <th>0</th>\n",
       "      <td>[-619.4802, 164.81221, 61.611187, 27.008148, 3...</td>\n",
       "    </tr>\n",
       "    <tr>\n",
       "      <th>1</th>\n",
       "      <td>[-677.06586, 214.36499, 58.828716, 11.51953, 4...</td>\n",
       "    </tr>\n",
       "    <tr>\n",
       "      <th>2</th>\n",
       "      <td>[-663.1361, 201.0767, 62.281616, 17.150503, 40...</td>\n",
       "    </tr>\n",
       "    <tr>\n",
       "      <th>3</th>\n",
       "      <td>[-656.9102, 200.3762, 63.165554, 17.528437, 39...</td>\n",
       "    </tr>\n",
       "    <tr>\n",
       "      <th>4</th>\n",
       "      <td>[-657.5186, 198.93721, 61.94527, 17.597023, 39...</td>\n",
       "    </tr>\n",
       "  </tbody>\n",
       "</table>\n",
       "</div>"
      ],
      "text/plain": [
       "                                             feature\n",
       "0  [-619.4802, 164.81221, 61.611187, 27.008148, 3...\n",
       "1  [-677.06586, 214.36499, 58.828716, 11.51953, 4...\n",
       "2  [-663.1361, 201.0767, 62.281616, 17.150503, 40...\n",
       "3  [-656.9102, 200.3762, 63.165554, 17.528437, 39...\n",
       "4  [-657.5186, 198.93721, 61.94527, 17.597023, 39..."
      ]
     },
     "execution_count": 13,
     "metadata": {},
     "output_type": "execute_result"
    }
   ],
   "source": [
    "fileMFCCs = '../MFCCs/completeSetA_' + '3000' + '.pkl'\n",
    "featuresdf = pd.read_pickle(fileMFCCs)\n",
    "featuresdf.head()"
   ]
  },
  {
   "cell_type": "markdown",
   "id": "a57b03aa",
   "metadata": {},
   "source": [
    "### Predections (SOFTMAX func)"
   ]
  },
  {
   "cell_type": "code",
   "execution_count": 14,
   "id": "dc411d0e",
   "metadata": {
    "scrolled": true
   },
   "outputs": [],
   "source": [
    "X = np.array(featuresdf.feature.tolist())\n",
    "predictions = model.predict(X)"
   ]
  },
  {
   "cell_type": "code",
   "execution_count": 15,
   "id": "77b1ac2b",
   "metadata": {
    "scrolled": true
   },
   "outputs": [
    {
     "name": "stdout",
     "output_type": "stream",
     "text": [
      "[[6.19481580e-06 1.22907941e-05 9.99981523e-01]\n",
      " [2.40208417e-12 1.95304918e-11 1.00000000e+00]\n",
      " [4.79978834e-10 1.61264846e-09 1.00000000e+00]\n",
      " ...\n",
      " [4.67530084e-15 1.04640621e-13 1.00000000e+00]\n",
      " [5.36373619e-15 5.43316917e-14 1.00000000e+00]\n",
      " [1.01769804e-16 1.00749328e-15 1.00000000e+00]]\n"
     ]
    }
   ],
   "source": [
    "print(predictions)"
   ]
  },
  {
   "cell_type": "markdown",
   "id": "a6898df7",
   "metadata": {},
   "source": [
    "### Plot of Predictions"
   ]
  },
  {
   "cell_type": "code",
   "execution_count": 16,
   "id": "92a4918e",
   "metadata": {},
   "outputs": [],
   "source": [
    "colSone = []\n",
    "colSTwo = []\n",
    "colNoise = []\n",
    "for item in predictions:\n",
    "    \n",
    "    colSone.append(item[0])\n",
    "    colSTwo.append(item[1])\n",
    "    colNoise.append(item[2])"
   ]
  },
  {
   "cell_type": "code",
   "execution_count": 17,
   "id": "deb2231f",
   "metadata": {},
   "outputs": [],
   "source": [
    "# considering above certain value\n",
    "\n",
    "# to get the position of S1 and S2:   \n",
    "positionS1 = dict() \n",
    "positionS2 = dict()\n",
    "\n",
    "for k in colSone:\n",
    "    if k>0.65:\n",
    "        index = colSone.index(k) # gets the index from the element\n",
    "        positionS1[index]=k # adds the element as a value to the index as a key\n",
    "        \n",
    "for k in colSTwo:\n",
    "    if k>0.45:\n",
    "        index = colSTwo.index(k)\n",
    "        positionS2[index]=k"
   ]
  },
  {
   "cell_type": "code",
   "execution_count": 18,
   "id": "e8515bba",
   "metadata": {},
   "outputs": [],
   "source": [
    "# S1 in a 75 interval\n",
    "position1 = dict() \n",
    "positionS1 = dict() \n",
    "while len(colSone)<600:\n",
    "    colSone.append(0)\n",
    "k=0\n",
    "for i in range(75,601,75):\n",
    "    position1[i] = []\n",
    "    for z in range(k, i):\n",
    "        position1[i].append(colSone[z])\n",
    "        #print(z)\n",
    "    k+=75\n",
    "    #print('add')\n",
    "for i in position1:\n",
    "    m1 = max(position1[i])\n",
    "    index = colSone.index(m1) # gets the index from the element\n",
    "    positionS1[index]=m1 # adds the element as a value to the index as a key"
   ]
  },
  {
   "cell_type": "code",
   "execution_count": 19,
   "id": "6a085cfc",
   "metadata": {},
   "outputs": [],
   "source": [
    "# S2 in a 75 interval\n",
    "position2 = dict()\n",
    "positionS2 = dict()\n",
    "while len(colSTwo)<600:\n",
    "    colSTwo.append(0)\n",
    "k=0\n",
    "for i in range(75,601,75):\n",
    "    position2[i] = []\n",
    "    for z in range(k, i):\n",
    "        position2[i].append(colSTwo[z])\n",
    "        #print(z)\n",
    "    k+=75\n",
    "    #print('add')\n",
    "for i in position2:\n",
    "    m2 = max(position2[i])\n",
    "    index = colSTwo.index(m2) # gets the index from the element\n",
    "    positionS2[index]=m2 # adds the element as a value to the index as a key"
   ]
  },
  {
   "cell_type": "code",
   "execution_count": 20,
   "id": "34729157",
   "metadata": {},
   "outputs": [
    {
     "data": {
      "text/plain": [
       "<matplotlib.collections.PolyCollection at 0x7f67ac54cba8>"
      ]
     },
     "execution_count": 20,
     "metadata": {},
     "output_type": "execute_result"
    },
    {
     "data": {
      "image/png": "[encoded data removed]",
      "text/plain": [
       "<Figure size 1080x360 with 1 Axes>"
      ]
     },
     "metadata": {
      "needs_background": "light"
     },
     "output_type": "display_data"
    },
    {
     "data": {
      "image/png": "[encoded data removed]",
      "text/plain": [
       "<Figure size 1080x720 with 1 Axes>"
      ]
     },
     "metadata": {
      "needs_background": "light"
     },
     "output_type": "display_data"
    }
   ],
   "source": [
    "# plots:\n",
    "\n",
    "plt.figure(figsize=(15,5))\n",
    "plt.plot(colSone, label='S1')\n",
    "plt.plot(colSTwo, label='S2')\n",
    "#plt.plot(colNoise, label='Noise')\n",
    "plt.xlim(-4, 574)\n",
    "plt.scatter(positionS1.keys(), positionS1.values(), c='red')\n",
    "plt.scatter(positionS2.keys(), positionS2.values(), c='black')\n",
    "plt.legend()\n",
    "\n",
    "# plot waves of S1\n",
    "fig = plt.figure(figsize=(15,10))\n",
    "fig.subplots_adjust(hspace = 0.4, wspace = 0.4)\n",
    "fig.add_subplot(2,1,2)\n",
    "name = '../set_a/normal__201108011114.wav'\n",
    "data, sample_rate = librosa.load(name)\n",
    "librosa.display.waveplot(data, sr = sample_rate)"
   ]
  },
  {
   "cell_type": "code",
   "execution_count": 24,
   "id": "c1abfe53",
   "metadata": {},
   "outputs": [
    {
     "name": "stdout",
     "output_type": "stream",
     "text": [
      "S1 positions: [64, 110, 186, 257, 336, 411, 515, 562]\n",
      "S2 positions: [58, 134, 209, 287, 359, 435, 509, 557]\n",
      "[46, 76, 71, 79, 75, 104, 47] [76, 75, 78, 72, 76, 74, 48]\n"
     ]
    }
   ],
   "source": [
    "lista1 = []\n",
    "for position in positionS1:\n",
    "    lista1.append(position)\n",
    "print('S1 positions:',lista1)\n",
    "\n",
    "a = lista1[0]\n",
    "final1 = []\n",
    "for i in range(len(lista1)):\n",
    "    if i>0: # ignores first value\n",
    "        b = lista1[i]-a # subtract the values\n",
    "        final1.append(b)\n",
    "    a = lista1[i]\n",
    "    \n",
    "lista2 = []\n",
    "for position in positionS2:\n",
    "    lista2.append(position)\n",
    "print('S2 positions:',lista2)\n",
    "\n",
    "a = lista2[0]\n",
    "final2 = []\n",
    "for i in range(len(lista2)):\n",
    "    if i>0: # ignores first value\n",
    "        b = lista2[i]-a # subtract the values\n",
    "        final2.append(b)\n",
    "    a = lista2[i]\n",
    "    \n",
    "print(final1, final2)"
   ]
  },
  {
   "cell_type": "code",
   "execution_count": null,
   "id": "d565231b",
   "metadata": {
    "scrolled": true
   },
   "outputs": [],
   "source": [
    "experiment.end()"
   ]
  }
 ],
 "metadata": {
  "kernelspec": {
   "display_name": "Python 3",
   "language": "python",
   "name": "python3"
  },
  "language_info": {
   "codemirror_mode": {
    "name": "ipython",
    "version": 3
   },
   "file_extension": ".py",
   "mimetype": "text/x-python",
   "name": "python",
   "nbconvert_exporter": "python",
   "pygments_lexer": "ipython3",
   "version": "3.6.9"
  }
 },
 "nbformat": 4,
 "nbformat_minor": 5
}
