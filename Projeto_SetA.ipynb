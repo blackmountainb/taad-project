{
 "cells": [
  {
   "cell_type": "markdown",
   "id": "38ea8194",
   "metadata": {},
   "source": [
    "# Apply machine learning to audio analysis"
   ]
  },
  {
   "cell_type": "markdown",
   "id": "32828f32",
   "metadata": {},
   "source": [
    "First we want to upload our labeled and unlabeled dataset for future use to train our model"
   ]
  },
  {
   "cell_type": "code",
   "execution_count": 1,
   "id": "32435a3d",
   "metadata": {
    "scrolled": true
   },
   "outputs": [],
   "source": [
    "### Dependencies were already installed previously on ubuntu\n",
    "### Comet: experiment tracking and visual tools\n",
    "\n",
    "from comet_ml import Experiment\n",
    "\n",
    "import IPython.display as ipd\n",
    "import numpy as np\n",
    "import pandas as pd\n",
    "import librosa # audio analysis\n",
    "import librosa.display # this submodule needs to be imported explicitly\n",
    "import matplotlib.pyplot as plt\n",
    "from scipy.io import wavfile as wav\n",
    "import os"
   ]
  },
  {
   "cell_type": "code",
   "execution_count": 2,
   "id": "f9f86e6c",
   "metadata": {},
   "outputs": [],
   "source": [
    "from sklearn import metrics\n",
    "from sklearn.preprocessing import LabelEncoder\n",
    "from sklearn.model_selection import train_test_split"
   ]
  },
  {
   "cell_type": "code",
   "execution_count": 3,
   "id": "bc810254",
   "metadata": {},
   "outputs": [],
   "source": [
    "# Sequential: creates a sequential model, ideal to create plain stack of layers\n",
    "# each layer has exactly one input tensor and one output tensor\n",
    "\n",
    "# Layers: basic building blacks of neural networks in Keras, consists of a\n",
    "# tensor-in and tensor-out computation function and some state\n",
    "\n",
    "# Dense, Dropout and Activartion are classes from layers:\n",
    "# Activation and dense: Core layers. Activation applies an activation function\n",
    "# to an output. The output has the same shape as the input.\n",
    "# Dropout: regularization layer.\n",
    "\n",
    "# Adam: it's an algorithm, an optimization, stochastic gradient descent method\n",
    "#based on adaptive estimation of first and second order moments.\n",
    "\n",
    "# to_categorical: converts a class vectors (integers) to a binary class matrix\n"
   ]
  },
  {
   "cell_type": "code",
   "execution_count": 4,
   "id": "3b22f8aa",
   "metadata": {
    "scrolled": true
   },
   "outputs": [
    {
     "name": "stderr",
     "output_type": "stream",
     "text": [
      "2021-12-01 17:00:00.078022: W tensorflow/stream_executor/platform/default/dso_loader.cc:64] Could not load dynamic library 'libcudart.so.11.0'; dlerror: libcudart.so.11.0: cannot open shared object file: No such file or directory\n",
      "2021-12-01 17:00:00.078079: I tensorflow/stream_executor/cuda/cudart_stub.cc:29] Ignore above cudart dlerror if you do not have a GPU set up on your machine.\n"
     ]
    }
   ],
   "source": [
    "from keras.models import Sequential\n",
    "from keras.layers import Dense, Dropout, Activation\n",
    "# Keras now is fully integrated to Tensorflow, so to_categorical and Adam\n",
    "# can't be imported directly from keras, therefore, the update:\n",
    "from tensorflow.keras.optimizers import Adam\n",
    "from tensorflow.keras.utils import to_categorical"
   ]
  },
  {
   "cell_type": "code",
   "execution_count": 5,
   "id": "49aa3b70",
   "metadata": {},
   "outputs": [
    {
     "name": "stderr",
     "output_type": "stream",
     "text": [
      "COMET WARNING: As you are running in a Jupyter environment, you will need to call `experiment.end()` when finished to ensure all metrics and code are logged before exiting.\n",
      "COMET INFO: Experiment is live on comet.ml https://www.comet.ml/negromontebs/seta/9d145cda85d7488c9408153fdf369848\n",
      "\n"
     ]
    }
   ],
   "source": [
    "# Create a Comet Experiment, to capture any and all artifacts\n",
    "# such as audio files, visualization, model, dataset, system information and training metrics\n",
    "experiment = Experiment(api_key = \"Xa6eGiuYFngDcAJ9PVY1WpZp0\", project_name = \"SetA\")"
   ]
  },
  {
   "cell_type": "code",
   "execution_count": 6,
   "id": "17d6a45f",
   "metadata": {
    "scrolled": true
   },
   "outputs": [],
   "source": [
    "# Load dataset\n",
    "df = pd.read_csv('set_a.csv')\n",
    "\n",
    "\n",
    "# Create a list of the labels. Currently there are 5 labels: 'artifact', 'extrahls', 'murmur', 'normal', nan\n",
    "labels = list(df['label'].unique())"
   ]
  },
  {
   "cell_type": "code",
   "execution_count": 7,
   "id": "5a4dc0f2",
   "metadata": {},
   "outputs": [
    {
     "ename": "KeyError",
     "evalue": "0",
     "output_type": "error",
     "traceback": [
      "\u001b[0;31m---------------------------------------------------------------------------\u001b[0m",
      "\u001b[0;31mValueError\u001b[0m                                Traceback (most recent call last)",
      "\u001b[0;32m~/Desktop/taad/projeto/taad-project/env/lib/python3.8/site-packages/pandas/core/indexes/range.py\u001b[0m in \u001b[0;36mget_loc\u001b[0;34m(self, key, method, tolerance)\u001b[0m\n\u001b[1;32m    354\u001b[0m                 \u001b[0;32mtry\u001b[0m\u001b[0;34m:\u001b[0m\u001b[0;34m\u001b[0m\u001b[0;34m\u001b[0m\u001b[0m\n\u001b[0;32m--> 355\u001b[0;31m                     \u001b[0;32mreturn\u001b[0m \u001b[0mself\u001b[0m\u001b[0;34m.\u001b[0m\u001b[0m_range\u001b[0m\u001b[0;34m.\u001b[0m\u001b[0mindex\u001b[0m\u001b[0;34m(\u001b[0m\u001b[0mnew_key\u001b[0m\u001b[0;34m)\u001b[0m\u001b[0;34m\u001b[0m\u001b[0;34m\u001b[0m\u001b[0m\n\u001b[0m\u001b[1;32m    356\u001b[0m                 \u001b[0;32mexcept\u001b[0m \u001b[0mValueError\u001b[0m \u001b[0;32mas\u001b[0m \u001b[0merr\u001b[0m\u001b[0;34m:\u001b[0m\u001b[0;34m\u001b[0m\u001b[0;34m\u001b[0m\u001b[0m\n",
      "\u001b[0;31mValueError\u001b[0m: 0 is not in range",
      "\nThe above exception was the direct cause of the following exception:\n",
      "\u001b[0;31mKeyError\u001b[0m                                  Traceback (most recent call last)",
      "\u001b[0;32m/tmp/ipykernel_4433/3988338818.py\u001b[0m in \u001b[0;36m<module>\u001b[0;34m\u001b[0m\n\u001b[1;32m     14\u001b[0m     \u001b[0mtmp\u001b[0m \u001b[0;34m=\u001b[0m \u001b[0mdfItem\u001b[0m\u001b[0;34m.\u001b[0m\u001b[0mreset_index\u001b[0m\u001b[0;34m(\u001b[0m\u001b[0;34m)\u001b[0m\u001b[0;34m\u001b[0m\u001b[0;34m\u001b[0m\u001b[0m\n\u001b[1;32m     15\u001b[0m     \u001b[0;31m#string with the directory\u001b[0m\u001b[0;34m\u001b[0m\u001b[0;34m\u001b[0m\u001b[0;34m\u001b[0m\u001b[0m\n\u001b[0;32m---> 16\u001b[0;31m     \u001b[0mpath\u001b[0m \u001b[0;34m=\u001b[0m \u001b[0;34m'{}'\u001b[0m\u001b[0;34m.\u001b[0m\u001b[0mformat\u001b[0m\u001b[0;34m(\u001b[0m\u001b[0mtmp\u001b[0m\u001b[0;34m[\u001b[0m\u001b[0;34m'fname'\u001b[0m\u001b[0;34m]\u001b[0m\u001b[0;34m[\u001b[0m\u001b[0;36m0\u001b[0m\u001b[0;34m]\u001b[0m\u001b[0;34m)\u001b[0m\u001b[0;34m\u001b[0m\u001b[0;34m\u001b[0m\u001b[0m\n\u001b[0m\u001b[1;32m     17\u001b[0m     \u001b[0;31m#print (path) #[0] was taken off, error in range\u001b[0m\u001b[0;34m\u001b[0m\u001b[0;34m\u001b[0m\u001b[0;34m\u001b[0m\u001b[0m\n\u001b[1;32m     18\u001b[0m     \u001b[0;31m#save the string to the dictionary\u001b[0m\u001b[0;34m\u001b[0m\u001b[0;34m\u001b[0m\u001b[0;34m\u001b[0m\u001b[0m\n",
      "\u001b[0;32m~/Desktop/taad/projeto/taad-project/env/lib/python3.8/site-packages/pandas/core/series.py\u001b[0m in \u001b[0;36m__getitem__\u001b[0;34m(self, key)\u001b[0m\n\u001b[1;32m    880\u001b[0m \u001b[0;34m\u001b[0m\u001b[0m\n\u001b[1;32m    881\u001b[0m         \u001b[0;32melif\u001b[0m \u001b[0mkey_is_scalar\u001b[0m\u001b[0;34m:\u001b[0m\u001b[0;34m\u001b[0m\u001b[0;34m\u001b[0m\u001b[0m\n\u001b[0;32m--> 882\u001b[0;31m             \u001b[0;32mreturn\u001b[0m \u001b[0mself\u001b[0m\u001b[0;34m.\u001b[0m\u001b[0m_get_value\u001b[0m\u001b[0;34m(\u001b[0m\u001b[0mkey\u001b[0m\u001b[0;34m)\u001b[0m\u001b[0;34m\u001b[0m\u001b[0;34m\u001b[0m\u001b[0m\n\u001b[0m\u001b[1;32m    883\u001b[0m \u001b[0;34m\u001b[0m\u001b[0m\n\u001b[1;32m    884\u001b[0m         \u001b[0;32mif\u001b[0m \u001b[0mis_hashable\u001b[0m\u001b[0;34m(\u001b[0m\u001b[0mkey\u001b[0m\u001b[0;34m)\u001b[0m\u001b[0;34m:\u001b[0m\u001b[0;34m\u001b[0m\u001b[0;34m\u001b[0m\u001b[0m\n",
      "\u001b[0;32m~/Desktop/taad/projeto/taad-project/env/lib/python3.8/site-packages/pandas/core/series.py\u001b[0m in \u001b[0;36m_get_value\u001b[0;34m(self, label, takeable)\u001b[0m\n\u001b[1;32m    988\u001b[0m \u001b[0;34m\u001b[0m\u001b[0m\n\u001b[1;32m    989\u001b[0m         \u001b[0;31m# Similar to Index.get_value, but we do not fall back to positional\u001b[0m\u001b[0;34m\u001b[0m\u001b[0;34m\u001b[0m\u001b[0;34m\u001b[0m\u001b[0m\n\u001b[0;32m--> 990\u001b[0;31m         \u001b[0mloc\u001b[0m \u001b[0;34m=\u001b[0m \u001b[0mself\u001b[0m\u001b[0;34m.\u001b[0m\u001b[0mindex\u001b[0m\u001b[0;34m.\u001b[0m\u001b[0mget_loc\u001b[0m\u001b[0;34m(\u001b[0m\u001b[0mlabel\u001b[0m\u001b[0;34m)\u001b[0m\u001b[0;34m\u001b[0m\u001b[0;34m\u001b[0m\u001b[0m\n\u001b[0m\u001b[1;32m    991\u001b[0m         \u001b[0;32mreturn\u001b[0m \u001b[0mself\u001b[0m\u001b[0;34m.\u001b[0m\u001b[0mindex\u001b[0m\u001b[0;34m.\u001b[0m\u001b[0m_get_values_for_loc\u001b[0m\u001b[0;34m(\u001b[0m\u001b[0mself\u001b[0m\u001b[0;34m,\u001b[0m \u001b[0mloc\u001b[0m\u001b[0;34m,\u001b[0m \u001b[0mlabel\u001b[0m\u001b[0;34m)\u001b[0m\u001b[0;34m\u001b[0m\u001b[0;34m\u001b[0m\u001b[0m\n\u001b[1;32m    992\u001b[0m \u001b[0;34m\u001b[0m\u001b[0m\n",
      "\u001b[0;32m~/Desktop/taad/projeto/taad-project/env/lib/python3.8/site-packages/pandas/core/indexes/range.py\u001b[0m in \u001b[0;36mget_loc\u001b[0;34m(self, key, method, tolerance)\u001b[0m\n\u001b[1;32m    355\u001b[0m                     \u001b[0;32mreturn\u001b[0m \u001b[0mself\u001b[0m\u001b[0;34m.\u001b[0m\u001b[0m_range\u001b[0m\u001b[0;34m.\u001b[0m\u001b[0mindex\u001b[0m\u001b[0;34m(\u001b[0m\u001b[0mnew_key\u001b[0m\u001b[0;34m)\u001b[0m\u001b[0;34m\u001b[0m\u001b[0;34m\u001b[0m\u001b[0m\n\u001b[1;32m    356\u001b[0m                 \u001b[0;32mexcept\u001b[0m \u001b[0mValueError\u001b[0m \u001b[0;32mas\u001b[0m \u001b[0merr\u001b[0m\u001b[0;34m:\u001b[0m\u001b[0;34m\u001b[0m\u001b[0;34m\u001b[0m\u001b[0m\n\u001b[0;32m--> 357\u001b[0;31m                     \u001b[0;32mraise\u001b[0m \u001b[0mKeyError\u001b[0m\u001b[0;34m(\u001b[0m\u001b[0mkey\u001b[0m\u001b[0;34m)\u001b[0m \u001b[0;32mfrom\u001b[0m \u001b[0merr\u001b[0m\u001b[0;34m\u001b[0m\u001b[0;34m\u001b[0m\u001b[0m\n\u001b[0m\u001b[1;32m    358\u001b[0m             \u001b[0;32mraise\u001b[0m \u001b[0mKeyError\u001b[0m\u001b[0;34m(\u001b[0m\u001b[0mkey\u001b[0m\u001b[0;34m)\u001b[0m\u001b[0;34m\u001b[0m\u001b[0;34m\u001b[0m\u001b[0m\n\u001b[1;32m    359\u001b[0m         \u001b[0;32mreturn\u001b[0m \u001b[0msuper\u001b[0m\u001b[0;34m(\u001b[0m\u001b[0;34m)\u001b[0m\u001b[0;34m.\u001b[0m\u001b[0mget_loc\u001b[0m\u001b[0;34m(\u001b[0m\u001b[0mkey\u001b[0m\u001b[0;34m,\u001b[0m \u001b[0mmethod\u001b[0m\u001b[0;34m=\u001b[0m\u001b[0mmethod\u001b[0m\u001b[0;34m,\u001b[0m \u001b[0mtolerance\u001b[0m\u001b[0;34m=\u001b[0m\u001b[0mtolerance\u001b[0m\u001b[0;34m)\u001b[0m\u001b[0;34m\u001b[0m\u001b[0;34m\u001b[0m\u001b[0m\n",
      "\u001b[0;31mKeyError\u001b[0m: 0"
     ]
    }
   ],
   "source": [
    "# grabs a single audio file from each class\n",
    "files = dict()\n",
    "datasetSize = 1\n",
    "\n",
    "#Iteration over the labels and \n",
    "\n",
    "for i in range(len(labels)):\n",
    "    \n",
    "    #if the dataset contains itens with  the iterated label\n",
    "    labelBoolean = (df['label'] == labels[i])\n",
    "    #pick those items and make a new dataFrame with a spefic size\n",
    "    dfItem = df[labelBoolean][:datasetSize]\n",
    "    #reset the index to for easier selection\n",
    "    tmp = dfItem.reset_index()\n",
    "    #string with the directory\n",
    "    path = '{}'.format(tmp['fname'][0])\n",
    "    #print (path) #[0] was taken off, error in range\n",
    "    #save the string to the dictionary\n",
    "    files[labels[i]] = path\n"
   ]
  },
  {
   "cell_type": "code",
   "execution_count": 8,
   "id": "07ae3956",
   "metadata": {
    "scrolled": true
   },
   "outputs": [
    {
     "name": "stdout",
     "output_type": "stream",
     "text": [
      "set_a/artifact__201012172012.wav\n",
      "set_a/extrahls__201101070953.wav\n",
      "set_a/murmur__201101051104.wav\n",
      "set_a/normal__201101070538.wav\n"
     ]
    },
    {
     "ename": "KeyError",
     "evalue": "nan",
     "output_type": "error",
     "traceback": [
      "\u001b[0;31m---------------------------------------------------------------------------\u001b[0m",
      "\u001b[0;31mKeyError\u001b[0m                                  Traceback (most recent call last)",
      "\u001b[0;32m/tmp/ipykernel_4433/968917306.py\u001b[0m in \u001b[0;36m<module>\u001b[0;34m\u001b[0m\n\u001b[1;32m      9\u001b[0m     \u001b[0;31m# i = index\u001b[0m\u001b[0;34m\u001b[0m\u001b[0;34m\u001b[0m\u001b[0;34m\u001b[0m\u001b[0m\n\u001b[1;32m     10\u001b[0m     \u001b[0;31m# lab = name of the label at current index\u001b[0m\u001b[0;34m\u001b[0m\u001b[0;34m\u001b[0m\u001b[0;34m\u001b[0m\u001b[0m\n\u001b[0;32m---> 11\u001b[0;31m     \u001b[0mfn\u001b[0m \u001b[0;34m=\u001b[0m \u001b[0mfiles\u001b[0m\u001b[0;34m[\u001b[0m\u001b[0mlab\u001b[0m\u001b[0;34m]\u001b[0m\u001b[0;34m\u001b[0m\u001b[0;34m\u001b[0m\u001b[0m\n\u001b[0m\u001b[1;32m     12\u001b[0m     \u001b[0mprint\u001b[0m\u001b[0;34m(\u001b[0m\u001b[0mfn\u001b[0m\u001b[0;34m)\u001b[0m\u001b[0;34m\u001b[0m\u001b[0;34m\u001b[0m\u001b[0m\n\u001b[1;32m     13\u001b[0m     \u001b[0mfig\u001b[0m\u001b[0;34m.\u001b[0m\u001b[0madd_subplot\u001b[0m\u001b[0;34m(\u001b[0m\u001b[0;36m5\u001b[0m\u001b[0;34m,\u001b[0m\u001b[0;36m2\u001b[0m\u001b[0;34m,\u001b[0m\u001b[0;36m1\u001b[0m\u001b[0;34m+\u001b[0m\u001b[0mi\u001b[0m\u001b[0;34m)\u001b[0m\u001b[0;34m\u001b[0m\u001b[0;34m\u001b[0m\u001b[0m\n",
      "\u001b[0;31mKeyError\u001b[0m: nan"
     ]
    },
    {
     "data": {
      "image/png": "[encoded data removed]",
      "text/plain": [
       "<Figure size 1080x1080 with 4 Axes>"
      ]
     },
     "metadata": {
      "needs_background": "light"
     },
     "output_type": "display_data"
    }
   ],
   "source": [
    "# To plot the waveforms, using librosa's display.waveplot function:\n",
    "\n",
    "fig = plt.figure(figsize=(15,15))\n",
    "#experiment.log_image('label_examples.png')\n",
    "fig.subplots_adjust(hspace = 0.4, wspace = 0.4)\n",
    "\n",
    "\n",
    "for i, lab in enumerate(labels):\n",
    "    # i = index\n",
    "    # lab = name of the label at current index\n",
    "    fn = files[lab]\n",
    "    print(fn)\n",
    "    fig.add_subplot(5,2,1+i)\n",
    "    plt.title(lab)\n",
    "    data, sample_rate = librosa.load(fn)\n",
    "    librosa.display.waveplot(data, sr = sample_rate)\n",
    "    \n",
    "plt.savefig('label_examples.png')\n",
    "\n",
    "# Log graphic of waveforms to comet:\n",
    "experiment.log_image('label_examples.png')"
   ]
  },
  {
   "cell_type": "code",
   "execution_count": 9,
   "id": "0893a778",
   "metadata": {},
   "outputs": [
    {
     "ename": "KeyError",
     "evalue": "nan",
     "output_type": "error",
     "traceback": [
      "\u001b[0;31m---------------------------------------------------------------------------\u001b[0m",
      "\u001b[0;31mKeyError\u001b[0m                                  Traceback (most recent call last)",
      "\u001b[0;32m/tmp/ipykernel_4433/3161527551.py\u001b[0m in \u001b[0;36m<module>\u001b[0;34m\u001b[0m\n\u001b[1;32m      1\u001b[0m \u001b[0;31m# Log audio files to Comet for debugging\u001b[0m\u001b[0;34m\u001b[0m\u001b[0;34m\u001b[0m\u001b[0;34m\u001b[0m\u001b[0m\n\u001b[1;32m      2\u001b[0m \u001b[0;32mfor\u001b[0m \u001b[0mlabel\u001b[0m \u001b[0;32min\u001b[0m \u001b[0mlabels\u001b[0m\u001b[0;34m:\u001b[0m\u001b[0;34m\u001b[0m\u001b[0;34m\u001b[0m\u001b[0m\n\u001b[0;32m----> 3\u001b[0;31m     \u001b[0mfn\u001b[0m \u001b[0;34m=\u001b[0m \u001b[0mfiles\u001b[0m\u001b[0;34m[\u001b[0m\u001b[0mlabel\u001b[0m\u001b[0;34m]\u001b[0m\u001b[0;34m\u001b[0m\u001b[0;34m\u001b[0m\u001b[0m\n\u001b[0m\u001b[1;32m      4\u001b[0m     \u001b[0mexperiment\u001b[0m\u001b[0;34m.\u001b[0m\u001b[0mlog_audio\u001b[0m\u001b[0;34m(\u001b[0m\u001b[0mfn\u001b[0m\u001b[0;34m,\u001b[0m \u001b[0mmetadata\u001b[0m \u001b[0;34m=\u001b[0m \u001b[0;34m{\u001b[0m\u001b[0;34m'name'\u001b[0m\u001b[0;34m:\u001b[0m \u001b[0mlabel\u001b[0m\u001b[0;34m}\u001b[0m\u001b[0;34m)\u001b[0m\u001b[0;34m\u001b[0m\u001b[0;34m\u001b[0m\u001b[0m\n",
      "\u001b[0;31mKeyError\u001b[0m: nan"
     ]
    }
   ],
   "source": [
    "# Log audio files to Comet for debugging\n",
    "for label in labels:\n",
    "    fn = files[label]\n",
    "    experiment.log_audio(fn, metadata = {'name': label})"
   ]
  },
  {
   "cell_type": "code",
   "execution_count": null,
   "id": "3595d4dd",
   "metadata": {},
   "outputs": [],
   "source": [
    "# COMET WARNING: As you are running in a Jupyter environment, \n",
    "# you will need to call `experiment.end()` when finished to \n",
    "# ensure all metrics and code are logged before exiting.\n",
    "\n",
    "### LEMBRAR DE RETIRAR DE COMENT PRA FINALIZAR\n",
    "# experiment.end() "
   ]
  },
  {
   "cell_type": "markdown",
   "id": "cf343ccc",
   "metadata": {},
   "source": [
    "## Preprocessing"
   ]
  },
  {
   "cell_type": "code",
   "execution_count": 10,
   "id": "a2db6e3f",
   "metadata": {
    "scrolled": true
   },
   "outputs": [
    {
     "name": "stdout",
     "output_type": "stream",
     "text": [
      "Original sample rate: 44100\n",
      "Librosa sample rate: 22050\n",
      "Original audio file min~max range: -23887 to 23072\n",
      "Librosa audio file min~max range: -0.73 to -0.73\n"
     ]
    }
   ],
   "source": [
    "#pick an audio file\n",
    "fn = files[\"artifact\"]\n",
    "#get its sample rate and librosa sample rate and bit depth\n",
    "librosa_audio, librosa_sample_rate = librosa.load(fn)\n",
    "scipy_sample_rate, scipy_audio = wav.read(fn)\n",
    "\n",
    "print(\"Original sample rate: {}\".format(scipy_sample_rate))\n",
    "print(\"Librosa sample rate: {}\".format(librosa_sample_rate))\n",
    "\n",
    "print('Original audio file min~max range: {} to {}'.format(np.min(scipy_audio), np.max(scipy_audio)))\n",
    "print('Librosa audio file min~max range: {0:.2f} to {0:.2f}'.format(np.min(librosa_audio), np.max(librosa_audio)))"
   ]
  },
  {
   "cell_type": "code",
   "execution_count": 62,
   "id": "cf553b31",
   "metadata": {},
   "outputs": [
    {
     "data": {
      "text/plain": [
       "{'web': 'https://www.comet.ml/api/image/download?imageId=12e460151a4e40c29651a0cf0accbade&experimentKey=f00b8803d24049b3ab59378805ec84db',\n",
       " 'api': 'https://www.comet.ml/api/rest/v1/image/get-image?imageId=12e460151a4e40c29651a0cf0accbade&experimentKey=f00b8803d24049b3ab59378805ec84db',\n",
       " 'imageId': '12e460151a4e40c29651a0cf0accbade'}"
      ]
     },
     "execution_count": 62,
     "metadata": {},
     "output_type": "execute_result"
    },
    {
     "data": {
      "image/png": "[encoded data removed]",
      "text/plain": [
       "<Figure size 864x288 with 1 Axes>"
      ]
     },
     "metadata": {
      "needs_background": "light"
     },
     "output_type": "display_data"
    }
   ],
   "source": [
    "#plot the original audio\n",
    "plt.figure(figsize=(12, 4))\n",
    "plt.plot(scipy_audio)\n",
    "plt.savefig('original_audio.png')\n",
    "experiment.log_image('original_audio.png')"
   ]
  },
  {
   "cell_type": "code",
   "execution_count": 11,
   "id": "24f910ed",
   "metadata": {},
   "outputs": [
    {
     "data": {
      "text/plain": [
       "{'web': 'https://www.comet.ml/api/image/download?imageId=94a67def0e3745a1b1c2ef9673e12725&experimentKey=9d145cda85d7488c9408153fdf369848',\n",
       " 'api': 'https://www.comet.ml/api/rest/v1/image/get-image?imageId=94a67def0e3745a1b1c2ef9673e12725&experimentKey=9d145cda85d7488c9408153fdf369848',\n",
       " 'imageId': '94a67def0e3745a1b1c2ef9673e12725'}"
      ]
     },
     "execution_count": 11,
     "metadata": {},
     "output_type": "execute_result"
    },
    {
     "data": {
      "image/png": "[encoded data removed]",
      "text/plain": [
       "<Figure size 864x288 with 1 Axes>"
      ]
     },
     "metadata": {
      "needs_background": "light"
     },
     "output_type": "display_data"
    }
   ],
   "source": [
    "# plot the librosa audio mono sound\n",
    "plt.figure(figsize=(12,4))\n",
    "plt.plot(librosa_audio)\n",
    "plt.savefig('librosa_audio.png')\n",
    "experiment.log_image('librosa_audio.png')"
   ]
  },
  {
   "cell_type": "markdown",
   "id": "b9c178f3",
   "metadata": {},
   "source": [
    "## MFCCs - Mel-Frequency Cepstrum Coefficients"
   ]
  },
  {
   "cell_type": "markdown",
   "id": "cbb8e39a",
   "metadata": {},
   "source": [
    "### Extract coefficients from only one file"
   ]
  },
  {
   "cell_type": "code",
   "execution_count": 12,
   "id": "6d57e278",
   "metadata": {},
   "outputs": [
    {
     "name": "stdout",
     "output_type": "stream",
     "text": [
      "(40, 388)\n"
     ]
    }
   ],
   "source": [
    "mfccs = librosa.feature.mfcc(y=librosa_audio, sr=librosa_sample_rate, n_mfcc = 40)\n",
    "print(mfccs.shape)"
   ]
  },
  {
   "cell_type": "code",
   "execution_count": 13,
   "id": "01b48bc2",
   "metadata": {
    "scrolled": true
   },
   "outputs": [
    {
     "data": {
      "text/plain": [
       "{'web': 'https://www.comet.ml/api/image/download?imageId=75d9d361b3fd490598b79ed17cce847b&experimentKey=9d145cda85d7488c9408153fdf369848',\n",
       " 'api': 'https://www.comet.ml/api/rest/v1/image/get-image?imageId=75d9d361b3fd490598b79ed17cce847b&experimentKey=9d145cda85d7488c9408153fdf369848',\n",
       " 'imageId': '75d9d361b3fd490598b79ed17cce847b'}"
      ]
     },
     "execution_count": 13,
     "metadata": {},
     "output_type": "execute_result"
    },
    {
     "data": {
      "image/png": "[encoded data removed]",
      "text/plain": [
       "<Figure size 576x576 with 1 Axes>"
      ]
     },
     "metadata": {
      "needs_background": "light"
     },
     "output_type": "display_data"
    }
   ],
   "source": [
    "plt.figure(figsize=(8,8))\n",
    "librosa.display.specshow(mfccs, sr=librosa_sample_rate, x_axis='time')\n",
    "plt.savefig('MFCCs.png')\n",
    "experiment.log_image('MFCCs.png')"
   ]
  },
  {
   "cell_type": "markdown",
   "id": "b5c3b1cb",
   "metadata": {},
   "source": [
    "### Function to extract the MFCCs from every file in our dataset"
   ]
  },
  {
   "cell_type": "code",
   "execution_count": 14,
   "id": "c2ee064c",
   "metadata": {},
   "outputs": [],
   "source": [
    "def extract_features(file_name):\n",
    "    audio, sample_rate = librosa.load(file_name, res_type='kaiser_fast') \n",
    "    mfccs = librosa.feature.mfcc(y=audio, sr=sample_rate, n_mfcc=40)\n",
    "    mfccs_processed = np.mean(mfccs.T,axis=0)\n",
    "     \n",
    "    return mfccs_processed"
   ]
  },
  {
   "cell_type": "code",
   "execution_count": 46,
   "id": "b6868d82",
   "metadata": {},
   "outputs": [
    {
     "name": "stdout",
     "output_type": "stream",
     "text": [
      "/home/chico/Desktop/taad/projeto/taad-project\n",
      "set_a/artifact__201012172012.wav\n",
      "/home/chico/Desktop/taad/projeto/taad-project\n",
      "set_a/artifact__201105040918.wav\n",
      "/home/chico/Desktop/taad/projeto/taad-project\n",
      "set_a/artifact__201105041959.wav\n",
      "/home/chico/Desktop/taad/projeto/taad-project\n",
      "set_a/artifact__201105051017.wav\n",
      "/home/chico/Desktop/taad/projeto/taad-project\n",
      "set_a/artifact__201105060108.wav\n",
      "/home/chico/Desktop/taad/projeto/taad-project\n",
      "set_a/artifact__201105061143.wav\n",
      "/home/chico/Desktop/taad/projeto/taad-project\n",
      "set_a/artifact__201105190800.wav\n",
      "/home/chico/Desktop/taad/projeto/taad-project\n",
      "set_a/artifact__201105280851.wav\n",
      "/home/chico/Desktop/taad/projeto/taad-project\n",
      "set_a/artifact__201106010559.wav\n",
      "/home/chico/Desktop/taad/projeto/taad-project\n",
      "set_a/artifact__201106010602.wav\n",
      "/home/chico/Desktop/taad/projeto/taad-project\n",
      "set_a/artifact__201106021541.wav\n",
      "/home/chico/Desktop/taad/projeto/taad-project\n",
      "set_a/artifact__201106030612.wav\n",
      "/home/chico/Desktop/taad/projeto/taad-project\n",
      "set_a/artifact__201106031558.wav\n",
      "/home/chico/Desktop/taad/projeto/taad-project\n",
      "set_a/artifact__201106040722.wav\n",
      "/home/chico/Desktop/taad/projeto/taad-project\n",
      "set_a/artifact__201106040933.wav\n",
      "/home/chico/Desktop/taad/projeto/taad-project\n",
      "set_a/artifact__201106040947.wav\n",
      "/home/chico/Desktop/taad/projeto/taad-project\n",
      "set_a/artifact__201106041452.wav\n",
      "/home/chico/Desktop/taad/projeto/taad-project\n",
      "set_a/artifact__201106050353.wav\n",
      "/home/chico/Desktop/taad/projeto/taad-project\n",
      "set_a/artifact__201106061233.wav\n",
      "/home/chico/Desktop/taad/projeto/taad-project\n",
      "set_a/artifact__201106070537.wav\n",
      "/home/chico/Desktop/taad/projeto/taad-project\n",
      "set_a/artifact__201106070949.wav\n",
      "/home/chico/Desktop/taad/projeto/taad-project\n",
      "set_a/artifact__201106101314.wav\n",
      "/home/chico/Desktop/taad/projeto/taad-project\n",
      "set_a/artifact__201106101955.wav\n",
      "/home/chico/Desktop/taad/projeto/taad-project\n",
      "set_a/artifact__201106110909.wav\n",
      "/home/chico/Desktop/taad/projeto/taad-project\n",
      "set_a/artifact__201106111119.wav\n",
      "/home/chico/Desktop/taad/projeto/taad-project\n",
      "set_a/artifact__201106121242.wav\n",
      "/home/chico/Desktop/taad/projeto/taad-project\n",
      "set_a/artifact__201106121445.wav\n",
      "/home/chico/Desktop/taad/projeto/taad-project\n",
      "set_a/artifact__201106131834.wav\n",
      "/home/chico/Desktop/taad/projeto/taad-project\n",
      "set_a/artifact__201106131835.wav\n",
      "/home/chico/Desktop/taad/projeto/taad-project\n",
      "set_a/artifact__201106141701.wav\n",
      "/home/chico/Desktop/taad/projeto/taad-project\n",
      "set_a/artifact__201106161016.wav\n",
      "/home/chico/Desktop/taad/projeto/taad-project\n",
      "set_a/artifact__201106161019.wav\n",
      "/home/chico/Desktop/taad/projeto/taad-project\n",
      "set_a/artifact__201106161219.wav\n",
      "/home/chico/Desktop/taad/projeto/taad-project\n",
      "set_a/artifact__201106171003.wav\n",
      "/home/chico/Desktop/taad/projeto/taad-project\n",
      "set_a/artifact__201106190520.wav\n",
      "/home/chico/Desktop/taad/projeto/taad-project\n",
      "set_a/artifact__201106211041.wav\n",
      "/home/chico/Desktop/taad/projeto/taad-project\n",
      "set_a/artifact__201106211430.wav\n",
      "/home/chico/Desktop/taad/projeto/taad-project\n",
      "set_a/artifact__201106212112.wav\n",
      "/home/chico/Desktop/taad/projeto/taad-project\n",
      "set_a/artifact__201106220340.wav\n",
      "/home/chico/Desktop/taad/projeto/taad-project\n",
      "set_a/artifact__201106221254.wav\n",
      "/home/chico/Desktop/taad/projeto/taad-project\n",
      "set_a/extrahls__201101070953.wav\n",
      "/home/chico/Desktop/taad/projeto/taad-project\n",
      "set_a/extrahls__201101091153.wav\n",
      "/home/chico/Desktop/taad/projeto/taad-project\n",
      "set_a/extrahls__201101152255.wav\n",
      "/home/chico/Desktop/taad/projeto/taad-project\n",
      "set_a/extrahls__201101160804.wav\n",
      "/home/chico/Desktop/taad/projeto/taad-project\n",
      "set_a/extrahls__201101160808.wav\n",
      "/home/chico/Desktop/taad/projeto/taad-project\n",
      "set_a/extrahls__201101161027.wav\n",
      "/home/chico/Desktop/taad/projeto/taad-project\n",
      "set_a/extrahls__201101241423.wav\n",
      "/home/chico/Desktop/taad/projeto/taad-project\n",
      "set_a/extrahls__201101241433.wav\n",
      "/home/chico/Desktop/taad/projeto/taad-project\n",
      "set_a/extrahls__201102070251.wav\n",
      "/home/chico/Desktop/taad/projeto/taad-project\n",
      "set_a/extrahls__201102071835.wav\n",
      "/home/chico/Desktop/taad/projeto/taad-project\n",
      "set_a/extrahls__201102241217.wav\n",
      "/home/chico/Desktop/taad/projeto/taad-project\n",
      "set_a/extrahls__201103150114.wav\n",
      "/home/chico/Desktop/taad/projeto/taad-project\n",
      "set_a/extrahls__201103170134.wav\n",
      "/home/chico/Desktop/taad/projeto/taad-project\n",
      "set_a/extrahls__201103182227.wav\n",
      "/home/chico/Desktop/taad/projeto/taad-project\n",
      "set_a/extrahls__201103200218.wav\n",
      "/home/chico/Desktop/taad/projeto/taad-project\n",
      "set_a/extrahls__201104021355.wav\n",
      "/home/chico/Desktop/taad/projeto/taad-project\n",
      "set_a/extrahls__201104140118.wav\n",
      "/home/chico/Desktop/taad/projeto/taad-project\n",
      "set_a/extrahls__201104270458.wav\n",
      "/home/chico/Desktop/taad/projeto/taad-project\n",
      "set_a/extrahls__201104270459.wav\n",
      "/home/chico/Desktop/taad/projeto/taad-project\n",
      "set_a/murmur__201101051104.wav\n",
      "/home/chico/Desktop/taad/projeto/taad-project\n",
      "set_a/murmur__201101051108.wav\n",
      "/home/chico/Desktop/taad/projeto/taad-project\n",
      "set_a/murmur__201101051114.wav\n",
      "/home/chico/Desktop/taad/projeto/taad-project\n",
      "set_a/murmur__201101180902.wav\n",
      "/home/chico/Desktop/taad/projeto/taad-project\n",
      "set_a/murmur__201102051443.wav\n",
      "/home/chico/Desktop/taad/projeto/taad-project\n",
      "set_a/murmur__201102052338.wav\n",
      "/home/chico/Desktop/taad/projeto/taad-project\n",
      "set_a/murmur__201103291548.wav\n",
      "/home/chico/Desktop/taad/projeto/taad-project\n",
      "set_a/murmur__201104021355.wav\n",
      "/home/chico/Desktop/taad/projeto/taad-project\n",
      "set_a/murmur__201104241315.wav\n",
      "/home/chico/Desktop/taad/projeto/taad-project\n",
      "set_a/murmur__201104291843.wav\n",
      "/home/chico/Desktop/taad/projeto/taad-project\n",
      "set_a/murmur__201106141148.wav\n",
      "/home/chico/Desktop/taad/projeto/taad-project\n",
      "set_a/murmur__201108222221.wav\n",
      "/home/chico/Desktop/taad/projeto/taad-project\n",
      "set_a/murmur__201108222223.wav\n",
      "/home/chico/Desktop/taad/projeto/taad-project\n",
      "set_a/murmur__201108222224.wav\n",
      "/home/chico/Desktop/taad/projeto/taad-project\n",
      "set_a/murmur__201108222226.wav\n",
      "/home/chico/Desktop/taad/projeto/taad-project\n",
      "set_a/murmur__201108222227.wav\n",
      "/home/chico/Desktop/taad/projeto/taad-project\n",
      "set_a/murmur__201108222231.wav\n",
      "/home/chico/Desktop/taad/projeto/taad-project\n",
      "set_a/murmur__201108222232.wav\n",
      "/home/chico/Desktop/taad/projeto/taad-project\n",
      "set_a/murmur__201108222233.wav\n",
      "/home/chico/Desktop/taad/projeto/taad-project\n",
      "set_a/murmur__201108222235.wav\n",
      "/home/chico/Desktop/taad/projeto/taad-project\n",
      "set_a/murmur__201108222236.wav\n",
      "/home/chico/Desktop/taad/projeto/taad-project\n",
      "set_a/murmur__201108222237.wav\n",
      "/home/chico/Desktop/taad/projeto/taad-project\n",
      "set_a/murmur__201108222238.wav\n",
      "/home/chico/Desktop/taad/projeto/taad-project\n",
      "set_a/murmur__201108222242.wav\n",
      "/home/chico/Desktop/taad/projeto/taad-project\n",
      "set_a/murmur__201108222243.wav\n",
      "/home/chico/Desktop/taad/projeto/taad-project\n",
      "set_a/murmur__201108222245.wav\n",
      "/home/chico/Desktop/taad/projeto/taad-project\n",
      "set_a/murmur__201108222246.wav\n",
      "/home/chico/Desktop/taad/projeto/taad-project\n",
      "set_a/murmur__201108222248.wav\n",
      "/home/chico/Desktop/taad/projeto/taad-project\n",
      "set_a/murmur__201108222251.wav\n",
      "/home/chico/Desktop/taad/projeto/taad-project\n",
      "set_a/murmur__201108222252.wav\n",
      "/home/chico/Desktop/taad/projeto/taad-project\n",
      "set_a/murmur__201108222253.wav\n",
      "/home/chico/Desktop/taad/projeto/taad-project\n",
      "set_a/murmur__201108222255.wav\n",
      "/home/chico/Desktop/taad/projeto/taad-project\n",
      "set_a/murmur__201108222256.wav\n",
      "/home/chico/Desktop/taad/projeto/taad-project\n",
      "set_a/murmur__201108222258.wav\n",
      "/home/chico/Desktop/taad/projeto/taad-project\n",
      "set_a/normal__201101070538.wav\n",
      "/home/chico/Desktop/taad/projeto/taad-project\n",
      "set_a/normal__201101151127.wav\n",
      "/home/chico/Desktop/taad/projeto/taad-project\n",
      "set_a/normal__201102081152.wav\n",
      "/home/chico/Desktop/taad/projeto/taad-project\n",
      "set_a/normal__201102081321.wav\n",
      "/home/chico/Desktop/taad/projeto/taad-project\n",
      "set_a/normal__201102201230.wav\n",
      "/home/chico/Desktop/taad/projeto/taad-project\n",
      "set_a/normal__201102260502.wav\n",
      "/home/chico/Desktop/taad/projeto/taad-project\n",
      "set_a/normal__201102270940.wav\n",
      "/home/chico/Desktop/taad/projeto/taad-project\n",
      "set_a/normal__201103090635.wav\n",
      "/home/chico/Desktop/taad/projeto/taad-project\n",
      "set_a/normal__201103101140.wav\n",
      "/home/chico/Desktop/taad/projeto/taad-project\n",
      "set_a/normal__201103140132.wav\n",
      "/home/chico/Desktop/taad/projeto/taad-project\n",
      "set_a/normal__201103140135.wav\n",
      "/home/chico/Desktop/taad/projeto/taad-project\n",
      "set_a/normal__201103140822.wav\n"
     ]
    },
    {
     "name": "stdout",
     "output_type": "stream",
     "text": [
      "/home/chico/Desktop/taad/projeto/taad-project\n",
      "set_a/normal__201103151912.wav\n",
      "/home/chico/Desktop/taad/projeto/taad-project\n",
      "set_a/normal__201103170121.wav\n",
      "/home/chico/Desktop/taad/projeto/taad-project\n",
      "set_a/normal__201103221214.wav\n",
      "/home/chico/Desktop/taad/projeto/taad-project\n",
      "set_a/normal__201104122156.wav\n",
      "/home/chico/Desktop/taad/projeto/taad-project\n",
      "set_a/normal__201104141251.wav\n",
      "/home/chico/Desktop/taad/projeto/taad-project\n",
      "set_a/normal__201105011626.wav\n",
      "/home/chico/Desktop/taad/projeto/taad-project\n",
      "set_a/normal__201105021654.wav\n",
      "/home/chico/Desktop/taad/projeto/taad-project\n",
      "set_a/normal__201105021804.wav\n",
      "/home/chico/Desktop/taad/projeto/taad-project\n",
      "set_a/normal__201105151450.wav\n",
      "/home/chico/Desktop/taad/projeto/taad-project\n",
      "set_a/normal__201106111136.wav\n",
      "/home/chico/Desktop/taad/projeto/taad-project\n",
      "set_a/normal__201106141148.wav\n",
      "/home/chico/Desktop/taad/projeto/taad-project\n",
      "set_a/normal__201106151236.wav\n",
      "/home/chico/Desktop/taad/projeto/taad-project\n",
      "set_a/normal__201106210943.wav\n",
      "/home/chico/Desktop/taad/projeto/taad-project\n",
      "set_a/normal__201106221418.wav\n",
      "/home/chico/Desktop/taad/projeto/taad-project\n",
      "set_a/normal__201106221450.wav\n",
      "/home/chico/Desktop/taad/projeto/taad-project\n",
      "set_a/normal__201108011112.wav\n",
      "/home/chico/Desktop/taad/projeto/taad-project\n",
      "set_a/normal__201108011114.wav\n",
      "/home/chico/Desktop/taad/projeto/taad-project\n",
      "set_a/normal__201108011115.wav\n",
      "/home/chico/Desktop/taad/projeto/taad-project\n",
      "set_a/normal__201108011118.wav\n",
      "/home/chico/Desktop/taad/projeto/taad-project\n",
      "set_a/__201012172010.wav\n"
     ]
    },
    {
     "name": "stderr",
     "output_type": "stream",
     "text": [
      "/home/chico/Desktop/taad/projeto/taad-project/env/lib/python3.8/site-packages/librosa/core/audio.py:165: UserWarning: PySoundFile failed. Trying audioread instead.\n",
      "  warnings.warn(\"PySoundFile failed. Trying audioread instead.\")\n"
     ]
    },
    {
     "ename": "FileNotFoundError",
     "evalue": "[Errno 2] No such file or directory: '/home/chico/Desktop/taad/projeto/taad-project/set_a/__201012172010.wav'",
     "output_type": "error",
     "traceback": [
      "\u001b[0;31m---------------------------------------------------------------------------\u001b[0m",
      "\u001b[0;31mRuntimeError\u001b[0m                              Traceback (most recent call last)",
      "\u001b[0;32m~/Desktop/taad/projeto/taad-project/env/lib/python3.8/site-packages/librosa/core/audio.py\u001b[0m in \u001b[0;36mload\u001b[0;34m(path, sr, mono, offset, duration, dtype, res_type)\u001b[0m\n\u001b[1;32m    148\u001b[0m     \u001b[0;32mtry\u001b[0m\u001b[0;34m:\u001b[0m\u001b[0;34m\u001b[0m\u001b[0;34m\u001b[0m\u001b[0m\n\u001b[0;32m--> 149\u001b[0;31m         \u001b[0;32mwith\u001b[0m \u001b[0msf\u001b[0m\u001b[0;34m.\u001b[0m\u001b[0mSoundFile\u001b[0m\u001b[0;34m(\u001b[0m\u001b[0mpath\u001b[0m\u001b[0;34m)\u001b[0m \u001b[0;32mas\u001b[0m \u001b[0msf_desc\u001b[0m\u001b[0;34m:\u001b[0m\u001b[0;34m\u001b[0m\u001b[0;34m\u001b[0m\u001b[0m\n\u001b[0m\u001b[1;32m    150\u001b[0m             \u001b[0msr_native\u001b[0m \u001b[0;34m=\u001b[0m \u001b[0msf_desc\u001b[0m\u001b[0;34m.\u001b[0m\u001b[0msamplerate\u001b[0m\u001b[0;34m\u001b[0m\u001b[0;34m\u001b[0m\u001b[0m\n",
      "\u001b[0;32m~/Desktop/taad/projeto/taad-project/env/lib/python3.8/site-packages/soundfile.py\u001b[0m in \u001b[0;36m__init__\u001b[0;34m(self, file, mode, samplerate, channels, subtype, endian, format, closefd)\u001b[0m\n\u001b[1;32m    628\u001b[0m                                          format, subtype, endian)\n\u001b[0;32m--> 629\u001b[0;31m         \u001b[0mself\u001b[0m\u001b[0;34m.\u001b[0m\u001b[0m_file\u001b[0m \u001b[0;34m=\u001b[0m \u001b[0mself\u001b[0m\u001b[0;34m.\u001b[0m\u001b[0m_open\u001b[0m\u001b[0;34m(\u001b[0m\u001b[0mfile\u001b[0m\u001b[0;34m,\u001b[0m \u001b[0mmode_int\u001b[0m\u001b[0;34m,\u001b[0m \u001b[0mclosefd\u001b[0m\u001b[0;34m)\u001b[0m\u001b[0;34m\u001b[0m\u001b[0;34m\u001b[0m\u001b[0m\n\u001b[0m\u001b[1;32m    630\u001b[0m         \u001b[0;32mif\u001b[0m \u001b[0mset\u001b[0m\u001b[0;34m(\u001b[0m\u001b[0mmode\u001b[0m\u001b[0;34m)\u001b[0m\u001b[0;34m.\u001b[0m\u001b[0missuperset\u001b[0m\u001b[0;34m(\u001b[0m\u001b[0;34m'r+'\u001b[0m\u001b[0;34m)\u001b[0m \u001b[0;32mand\u001b[0m \u001b[0mself\u001b[0m\u001b[0;34m.\u001b[0m\u001b[0mseekable\u001b[0m\u001b[0;34m(\u001b[0m\u001b[0;34m)\u001b[0m\u001b[0;34m:\u001b[0m\u001b[0;34m\u001b[0m\u001b[0;34m\u001b[0m\u001b[0m\n",
      "\u001b[0;32m~/Desktop/taad/projeto/taad-project/env/lib/python3.8/site-packages/soundfile.py\u001b[0m in \u001b[0;36m_open\u001b[0;34m(self, file, mode_int, closefd)\u001b[0m\n\u001b[1;32m   1182\u001b[0m             \u001b[0;32mraise\u001b[0m \u001b[0mTypeError\u001b[0m\u001b[0;34m(\u001b[0m\u001b[0;34m\"Invalid file: {0!r}\"\u001b[0m\u001b[0;34m.\u001b[0m\u001b[0mformat\u001b[0m\u001b[0;34m(\u001b[0m\u001b[0mself\u001b[0m\u001b[0;34m.\u001b[0m\u001b[0mname\u001b[0m\u001b[0;34m)\u001b[0m\u001b[0;34m)\u001b[0m\u001b[0;34m\u001b[0m\u001b[0;34m\u001b[0m\u001b[0m\n\u001b[0;32m-> 1183\u001b[0;31m         _error_check(_snd.sf_error(file_ptr),\n\u001b[0m\u001b[1;32m   1184\u001b[0m                      \"Error opening {0!r}: \".format(self.name))\n",
      "\u001b[0;32m~/Desktop/taad/projeto/taad-project/env/lib/python3.8/site-packages/soundfile.py\u001b[0m in \u001b[0;36m_error_check\u001b[0;34m(err, prefix)\u001b[0m\n\u001b[1;32m   1356\u001b[0m         \u001b[0merr_str\u001b[0m \u001b[0;34m=\u001b[0m \u001b[0m_snd\u001b[0m\u001b[0;34m.\u001b[0m\u001b[0msf_error_number\u001b[0m\u001b[0;34m(\u001b[0m\u001b[0merr\u001b[0m\u001b[0;34m)\u001b[0m\u001b[0;34m\u001b[0m\u001b[0;34m\u001b[0m\u001b[0m\n\u001b[0;32m-> 1357\u001b[0;31m         \u001b[0;32mraise\u001b[0m \u001b[0mRuntimeError\u001b[0m\u001b[0;34m(\u001b[0m\u001b[0mprefix\u001b[0m \u001b[0;34m+\u001b[0m \u001b[0m_ffi\u001b[0m\u001b[0;34m.\u001b[0m\u001b[0mstring\u001b[0m\u001b[0;34m(\u001b[0m\u001b[0merr_str\u001b[0m\u001b[0;34m)\u001b[0m\u001b[0;34m.\u001b[0m\u001b[0mdecode\u001b[0m\u001b[0;34m(\u001b[0m\u001b[0;34m'utf-8'\u001b[0m\u001b[0;34m,\u001b[0m \u001b[0;34m'replace'\u001b[0m\u001b[0;34m)\u001b[0m\u001b[0;34m)\u001b[0m\u001b[0;34m\u001b[0m\u001b[0;34m\u001b[0m\u001b[0m\n\u001b[0m\u001b[1;32m   1358\u001b[0m \u001b[0;34m\u001b[0m\u001b[0m\n",
      "\u001b[0;31mRuntimeError\u001b[0m: Error opening '/home/chico/Desktop/taad/projeto/taad-project/set_a/__201012172010.wav': System error.",
      "\nDuring handling of the above exception, another exception occurred:\n",
      "\u001b[0;31mFileNotFoundError\u001b[0m                         Traceback (most recent call last)",
      "\u001b[0;32m/tmp/ipykernel_4433/3223729132.py\u001b[0m in \u001b[0;36m<module>\u001b[0;34m\u001b[0m\n\u001b[1;32m     10\u001b[0m \u001b[0;34m\u001b[0m\u001b[0m\n\u001b[1;32m     11\u001b[0m     \u001b[0mclass_label\u001b[0m \u001b[0;34m=\u001b[0m \u001b[0mrow\u001b[0m\u001b[0;34m[\u001b[0m\u001b[0;34m\"label\"\u001b[0m\u001b[0;34m]\u001b[0m\u001b[0;34m\u001b[0m\u001b[0;34m\u001b[0m\u001b[0m\n\u001b[0;32m---> 12\u001b[0;31m     \u001b[0mdata\u001b[0m \u001b[0;34m=\u001b[0m \u001b[0mextract_features\u001b[0m\u001b[0;34m(\u001b[0m\u001b[0mfile_name\u001b[0m\u001b[0;34m)\u001b[0m\u001b[0;34m\u001b[0m\u001b[0;34m\u001b[0m\u001b[0m\n\u001b[0m\u001b[1;32m     13\u001b[0m \u001b[0;34m\u001b[0m\u001b[0m\n\u001b[1;32m     14\u001b[0m \u001b[0;34m\u001b[0m\u001b[0m\n",
      "\u001b[0;32m/tmp/ipykernel_4433/392749524.py\u001b[0m in \u001b[0;36mextract_features\u001b[0;34m(file_name)\u001b[0m\n\u001b[1;32m      1\u001b[0m \u001b[0;32mdef\u001b[0m \u001b[0mextract_features\u001b[0m\u001b[0;34m(\u001b[0m\u001b[0mfile_name\u001b[0m\u001b[0;34m)\u001b[0m\u001b[0;34m:\u001b[0m\u001b[0;34m\u001b[0m\u001b[0;34m\u001b[0m\u001b[0m\n\u001b[0;32m----> 2\u001b[0;31m     \u001b[0maudio\u001b[0m\u001b[0;34m,\u001b[0m \u001b[0msample_rate\u001b[0m \u001b[0;34m=\u001b[0m \u001b[0mlibrosa\u001b[0m\u001b[0;34m.\u001b[0m\u001b[0mload\u001b[0m\u001b[0;34m(\u001b[0m\u001b[0mfile_name\u001b[0m\u001b[0;34m,\u001b[0m \u001b[0mres_type\u001b[0m\u001b[0;34m=\u001b[0m\u001b[0;34m'kaiser_fast'\u001b[0m\u001b[0;34m)\u001b[0m\u001b[0;34m\u001b[0m\u001b[0;34m\u001b[0m\u001b[0m\n\u001b[0m\u001b[1;32m      3\u001b[0m     \u001b[0mmfccs\u001b[0m \u001b[0;34m=\u001b[0m \u001b[0mlibrosa\u001b[0m\u001b[0;34m.\u001b[0m\u001b[0mfeature\u001b[0m\u001b[0;34m.\u001b[0m\u001b[0mmfcc\u001b[0m\u001b[0;34m(\u001b[0m\u001b[0my\u001b[0m\u001b[0;34m=\u001b[0m\u001b[0maudio\u001b[0m\u001b[0;34m,\u001b[0m \u001b[0msr\u001b[0m\u001b[0;34m=\u001b[0m\u001b[0msample_rate\u001b[0m\u001b[0;34m,\u001b[0m \u001b[0mn_mfcc\u001b[0m\u001b[0;34m=\u001b[0m\u001b[0;36m40\u001b[0m\u001b[0;34m)\u001b[0m\u001b[0;34m\u001b[0m\u001b[0;34m\u001b[0m\u001b[0m\n\u001b[1;32m      4\u001b[0m     \u001b[0mmfccs_processed\u001b[0m \u001b[0;34m=\u001b[0m \u001b[0mnp\u001b[0m\u001b[0;34m.\u001b[0m\u001b[0mmean\u001b[0m\u001b[0;34m(\u001b[0m\u001b[0mmfccs\u001b[0m\u001b[0;34m.\u001b[0m\u001b[0mT\u001b[0m\u001b[0;34m,\u001b[0m\u001b[0maxis\u001b[0m\u001b[0;34m=\u001b[0m\u001b[0;36m0\u001b[0m\u001b[0;34m)\u001b[0m\u001b[0;34m\u001b[0m\u001b[0;34m\u001b[0m\u001b[0m\n\u001b[1;32m      5\u001b[0m \u001b[0;34m\u001b[0m\u001b[0m\n",
      "\u001b[0;32m~/Desktop/taad/projeto/taad-project/env/lib/python3.8/site-packages/librosa/core/audio.py\u001b[0m in \u001b[0;36mload\u001b[0;34m(path, sr, mono, offset, duration, dtype, res_type)\u001b[0m\n\u001b[1;32m    164\u001b[0m         \u001b[0;32mif\u001b[0m \u001b[0misinstance\u001b[0m\u001b[0;34m(\u001b[0m\u001b[0mpath\u001b[0m\u001b[0;34m,\u001b[0m \u001b[0;34m(\u001b[0m\u001b[0mstr\u001b[0m\u001b[0;34m,\u001b[0m \u001b[0mpathlib\u001b[0m\u001b[0;34m.\u001b[0m\u001b[0mPurePath\u001b[0m\u001b[0;34m)\u001b[0m\u001b[0;34m)\u001b[0m\u001b[0;34m:\u001b[0m\u001b[0;34m\u001b[0m\u001b[0;34m\u001b[0m\u001b[0m\n\u001b[1;32m    165\u001b[0m             \u001b[0mwarnings\u001b[0m\u001b[0;34m.\u001b[0m\u001b[0mwarn\u001b[0m\u001b[0;34m(\u001b[0m\u001b[0;34m\"PySoundFile failed. Trying audioread instead.\"\u001b[0m\u001b[0;34m)\u001b[0m\u001b[0;34m\u001b[0m\u001b[0;34m\u001b[0m\u001b[0m\n\u001b[0;32m--> 166\u001b[0;31m             \u001b[0my\u001b[0m\u001b[0;34m,\u001b[0m \u001b[0msr_native\u001b[0m \u001b[0;34m=\u001b[0m \u001b[0m__audioread_load\u001b[0m\u001b[0;34m(\u001b[0m\u001b[0mpath\u001b[0m\u001b[0;34m,\u001b[0m \u001b[0moffset\u001b[0m\u001b[0;34m,\u001b[0m \u001b[0mduration\u001b[0m\u001b[0;34m,\u001b[0m \u001b[0mdtype\u001b[0m\u001b[0;34m)\u001b[0m\u001b[0;34m\u001b[0m\u001b[0;34m\u001b[0m\u001b[0m\n\u001b[0m\u001b[1;32m    167\u001b[0m         \u001b[0;32melse\u001b[0m\u001b[0;34m:\u001b[0m\u001b[0;34m\u001b[0m\u001b[0;34m\u001b[0m\u001b[0m\n\u001b[1;32m    168\u001b[0m             \u001b[0;32mraise\u001b[0m \u001b[0;34m(\u001b[0m\u001b[0mexc\u001b[0m\u001b[0;34m)\u001b[0m\u001b[0;34m\u001b[0m\u001b[0;34m\u001b[0m\u001b[0m\n",
      "\u001b[0;32m~/Desktop/taad/projeto/taad-project/env/lib/python3.8/site-packages/librosa/core/audio.py\u001b[0m in \u001b[0;36m__audioread_load\u001b[0;34m(path, offset, duration, dtype)\u001b[0m\n\u001b[1;32m    188\u001b[0m \u001b[0;34m\u001b[0m\u001b[0m\n\u001b[1;32m    189\u001b[0m     \u001b[0my\u001b[0m \u001b[0;34m=\u001b[0m \u001b[0;34m[\u001b[0m\u001b[0;34m]\u001b[0m\u001b[0;34m\u001b[0m\u001b[0;34m\u001b[0m\u001b[0m\n\u001b[0;32m--> 190\u001b[0;31m     \u001b[0;32mwith\u001b[0m \u001b[0maudioread\u001b[0m\u001b[0;34m.\u001b[0m\u001b[0maudio_open\u001b[0m\u001b[0;34m(\u001b[0m\u001b[0mpath\u001b[0m\u001b[0;34m)\u001b[0m \u001b[0;32mas\u001b[0m \u001b[0minput_file\u001b[0m\u001b[0;34m:\u001b[0m\u001b[0;34m\u001b[0m\u001b[0;34m\u001b[0m\u001b[0m\n\u001b[0m\u001b[1;32m    191\u001b[0m         \u001b[0msr_native\u001b[0m \u001b[0;34m=\u001b[0m \u001b[0minput_file\u001b[0m\u001b[0;34m.\u001b[0m\u001b[0msamplerate\u001b[0m\u001b[0;34m\u001b[0m\u001b[0;34m\u001b[0m\u001b[0m\n\u001b[1;32m    192\u001b[0m         \u001b[0mn_channels\u001b[0m \u001b[0;34m=\u001b[0m \u001b[0minput_file\u001b[0m\u001b[0;34m.\u001b[0m\u001b[0mchannels\u001b[0m\u001b[0;34m\u001b[0m\u001b[0;34m\u001b[0m\u001b[0m\n",
      "\u001b[0;32m~/Desktop/taad/projeto/taad-project/env/lib/python3.8/site-packages/audioread/__init__.py\u001b[0m in \u001b[0;36maudio_open\u001b[0;34m(path, backends)\u001b[0m\n\u001b[1;32m    109\u001b[0m     \u001b[0;32mfor\u001b[0m \u001b[0mBackendClass\u001b[0m \u001b[0;32min\u001b[0m \u001b[0mbackends\u001b[0m\u001b[0;34m:\u001b[0m\u001b[0;34m\u001b[0m\u001b[0;34m\u001b[0m\u001b[0m\n\u001b[1;32m    110\u001b[0m         \u001b[0;32mtry\u001b[0m\u001b[0;34m:\u001b[0m\u001b[0;34m\u001b[0m\u001b[0;34m\u001b[0m\u001b[0m\n\u001b[0;32m--> 111\u001b[0;31m             \u001b[0;32mreturn\u001b[0m \u001b[0mBackendClass\u001b[0m\u001b[0;34m(\u001b[0m\u001b[0mpath\u001b[0m\u001b[0;34m)\u001b[0m\u001b[0;34m\u001b[0m\u001b[0;34m\u001b[0m\u001b[0m\n\u001b[0m\u001b[1;32m    112\u001b[0m         \u001b[0;32mexcept\u001b[0m \u001b[0mDecodeError\u001b[0m\u001b[0;34m:\u001b[0m\u001b[0;34m\u001b[0m\u001b[0;34m\u001b[0m\u001b[0m\n\u001b[1;32m    113\u001b[0m             \u001b[0;32mpass\u001b[0m\u001b[0;34m\u001b[0m\u001b[0;34m\u001b[0m\u001b[0m\n",
      "\u001b[0;32m~/Desktop/taad/projeto/taad-project/env/lib/python3.8/site-packages/audioread/rawread.py\u001b[0m in \u001b[0;36m__init__\u001b[0;34m(self, filename)\u001b[0m\n\u001b[1;32m     60\u001b[0m     \"\"\"\n\u001b[1;32m     61\u001b[0m     \u001b[0;32mdef\u001b[0m \u001b[0m__init__\u001b[0m\u001b[0;34m(\u001b[0m\u001b[0mself\u001b[0m\u001b[0;34m,\u001b[0m \u001b[0mfilename\u001b[0m\u001b[0;34m)\u001b[0m\u001b[0;34m:\u001b[0m\u001b[0;34m\u001b[0m\u001b[0;34m\u001b[0m\u001b[0m\n\u001b[0;32m---> 62\u001b[0;31m         \u001b[0mself\u001b[0m\u001b[0;34m.\u001b[0m\u001b[0m_fh\u001b[0m \u001b[0;34m=\u001b[0m \u001b[0mopen\u001b[0m\u001b[0;34m(\u001b[0m\u001b[0mfilename\u001b[0m\u001b[0;34m,\u001b[0m \u001b[0;34m'rb'\u001b[0m\u001b[0;34m)\u001b[0m\u001b[0;34m\u001b[0m\u001b[0;34m\u001b[0m\u001b[0m\n\u001b[0m\u001b[1;32m     63\u001b[0m \u001b[0;34m\u001b[0m\u001b[0m\n\u001b[1;32m     64\u001b[0m         \u001b[0;32mtry\u001b[0m\u001b[0;34m:\u001b[0m\u001b[0;34m\u001b[0m\u001b[0;34m\u001b[0m\u001b[0m\n",
      "\u001b[0;31mFileNotFoundError\u001b[0m: [Errno 2] No such file or directory: '/home/chico/Desktop/taad/projeto/taad-project/set_a/__201012172010.wav'"
     ]
    }
   ],
   "source": [
    "features = []# Iterate through each sound file and extract the features \n",
    "\n",
    "for index, row in df.iterrows():\n",
    "    \n",
    "    absolutePath = os.path.abspath(\"\")\n",
    "    fname = str(row[\"fname\"])\n",
    "    file_name = os.path.join(absolutePath,fname)\n",
    "    \n",
    "    class_label = row[\"label\"]\n",
    "    data = extract_features(file_name)\n",
    "\n",
    "    \n",
    "    features.append([data, class_label])\n",
    "    \n",
    "# Convert into a Panda dataframe \n",
    "featuresdf = pd.DataFrame(features, columns=['feature','class_label'])"
   ]
  },
  {
   "cell_type": "code",
   "execution_count": null,
   "id": "951ee0d6",
   "metadata": {},
   "outputs": [],
   "source": [
    "experiment.end()"
   ]
  }
 ],
 "metadata": {
  "kernelspec": {
   "display_name": "Python 3 (ipykernel)",
   "language": "python",
   "name": "python3"
  },
  "language_info": {
   "codemirror_mode": {
    "name": "ipython",
    "version": 3
   },
   "file_extension": ".py",
   "mimetype": "text/x-python",
   "name": "python",
   "nbconvert_exporter": "python",
   "pygments_lexer": "ipython3",
   "version": "3.8.10"
  }
 },
 "nbformat": 4,
 "nbformat_minor": 5
}
